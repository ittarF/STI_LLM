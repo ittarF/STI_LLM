{
 "cells": [
  {
   "cell_type": "code",
   "execution_count": 137,
   "metadata": {},
   "outputs": [],
   "source": [
    "import os\n",
    "from dotenv import load_dotenv\n",
    "from dataClass import DataTable\n",
    "from langchain_mistralai import ChatMistralAI\n",
    "import json\n",
    "import requests\n",
    "import pandas as pd\n"
   ]
  },
  {
   "cell_type": "code",
   "execution_count": 138,
   "metadata": {},
   "outputs": [],
   "source": [
    "with open('results/HardTablesR1/Valid/CEA/Valid.json') as f:\n",
    "    data = json.load(f) "
   ]
  },
  {
   "cell_type": "code",
   "execution_count": 139,
   "metadata": {},
   "outputs": [
    {
     "data": {
      "text/plain": [
       "dict_keys(['ZRWO683W', 'DFRU6OJ0', 'K6V4GTW6', '9TBY92F4', 'WD26R4FS', '74WC7OJZ', 'F6RDR8QH', '85R8V29V', '5NFRSNRM', 'BHYT3JN7', 'OILKS9FV', '9MH2Y9EN', 'FS732WHP', '4LJOJTYF', '8WZYKTRA', '89GM9ZJW', '16MHVXS5', '6Z084BQH', '8DNBZBE4', '2SGE8L9D', 'CFYKPBO3', '42HO55NS', '11MUJE2L', 'R66991OZ', 'WTFHB5UP', '2VTB3DBW', 'Z654ZXNI', 'N1KLTFJS', 'KFVG2YJY', 'ZB1BTB4C', 'RK8I119S', 'Q152EVZN', '20051UTJ', 'DUTG5MAC', '1Z8NMAI3', 'ZMOMMK8W', 'VV5BYCMW', 'L7HPD1BN', '5GNQIAGC', '178ZXCD6', '5KTG4XNY', 'NQK7B1JD', 'QIYBVSKQ', '85TGR8P0', 'D8DO4SE7', 'NKNG2LAS', 'WWQXGBG9', '20N4YF98', 'WZ1WDBHS', '00X7C4X7', 'TSY759XE', 'A56OGETX', '74KL5PGJ'])"
      ]
     },
     "execution_count": 139,
     "metadata": {},
     "output_type": "execute_result"
    }
   ],
   "source": [
    "data.keys()"
   ]
  },
  {
   "cell_type": "code",
   "execution_count": 140,
   "metadata": {},
   "outputs": [],
   "source": [
    "gt = pd.read_csv('data/HardTablesR1/DataSets/HardTablesR1/Valid/gt/cea_gt.csv', header=None)  "
   ]
  },
  {
   "cell_type": "code",
   "execution_count": 163,
   "metadata": {},
   "outputs": [
    {
     "name": "stdout",
     "output_type": "stream",
     "text": [
      "            0  1  2                                          3\n",
      "474  A56OGETX  1  0   http://www.wikidata.org/entity/Q64022460\n",
      "475  A56OGETX  1  1   http://www.wikidata.org/entity/Q90838614\n",
      "476  A56OGETX  2  0  http://www.wikidata.org/entity/Q111263037\n",
      "477  A56OGETX  2  1  http://www.wikidata.org/entity/Q107368951\n",
      "478  A56OGETX  3  0  http://www.wikidata.org/entity/Q111155014\n",
      "479  A56OGETX  3  1  http://www.wikidata.org/entity/Q104641825\n",
      "480  A56OGETX  4  0  http://www.wikidata.org/entity/Q108000749\n",
      "481  A56OGETX  4  1  http://www.wikidata.org/entity/Q110881413\n"
     ]
    }
   ],
   "source": [
    "filtered_df = gt[gt[0] == 'A56OGETX']\n",
    "\n",
    "print(filtered_df)"
   ]
  },
  {
   "cell_type": "code",
   "execution_count": 164,
   "metadata": {},
   "outputs": [
    {
     "name": "stdout",
     "output_type": "stream",
     "text": [
      "(0, 1) Q11126274\n",
      "(1, 1) Q109803831\n",
      "(2, 1) Q314224\n",
      "(3, 1) Q110881413\n"
     ]
    }
   ],
   "source": [
    "for el in data['A56OGETX']['cea']:\n",
    "    print(el, data['A56OGETX']['cea'][el]['id'])\n",
    "\n"
   ]
  },
  {
   "cell_type": "code",
   "execution_count": 165,
   "metadata": {},
   "outputs": [
    {
     "data": {
      "text/html": [
       "<div>\n",
       "<style scoped>\n",
       "    .dataframe tbody tr th:only-of-type {\n",
       "        vertical-align: middle;\n",
       "    }\n",
       "\n",
       "    .dataframe tbody tr th {\n",
       "        vertical-align: top;\n",
       "    }\n",
       "\n",
       "    .dataframe thead th {\n",
       "        text-align: right;\n",
       "    }\n",
       "</style>\n",
       "<table border=\"1\" class=\"dataframe\">\n",
       "  <thead>\n",
       "    <tr style=\"text-align: right;\">\n",
       "      <th></th>\n",
       "      <th>col0</th>\n",
       "      <th>col1</th>\n",
       "    </tr>\n",
       "  </thead>\n",
       "  <tbody>\n",
       "    <tr>\n",
       "      <th>0</th>\n",
       "      <td>Trcm#line 8</td>\n",
       "      <td>Südvorstadt</td>\n",
       "    </tr>\n",
       "    <tr>\n",
       "      <th>1</th>\n",
       "      <td>T6</td>\n",
       "      <td>Sirkeci</td>\n",
       "    </tr>\n",
       "    <tr>\n",
       "      <th>2</th>\n",
       "      <td>16</td>\n",
       "      <td>Ginnheim</td>\n",
       "    </tr>\n",
       "    <tr>\n",
       "      <th>3</th>\n",
       "      <td>Tram lie 6</td>\n",
       "      <td>Junikowo</td>\n",
       "    </tr>\n",
       "  </tbody>\n",
       "</table>\n",
       "</div>"
      ],
      "text/plain": [
       "          col0         col1\n",
       "0  Trcm#line 8  Südvorstadt\n",
       "1           T6      Sirkeci\n",
       "2           16     Ginnheim\n",
       "3   Tram lie 6     Junikowo"
      ]
     },
     "execution_count": 165,
     "metadata": {},
     "output_type": "execute_result"
    }
   ],
   "source": [
    "table = pd.read_csv('data/HardTablesR1/DataSets/HardTablesR1/Valid/tables/A56OGETX.csv')\n",
    "table"
   ]
  }
 ],
 "metadata": {
  "kernelspec": {
   "display_name": "Python 3.12.3 ('STI')",
   "language": "python",
   "name": "python3"
  },
  "language_info": {
   "codemirror_mode": {
    "name": "ipython",
    "version": 3
   },
   "file_extension": ".py",
   "mimetype": "text/x-python",
   "name": "python",
   "nbconvert_exporter": "python",
   "pygments_lexer": "ipython3",
   "version": "3.12.3"
  },
  "orig_nbformat": 4,
  "vscode": {
   "interpreter": {
    "hash": "2268df63e3314f5c0fa267e7a7d58ca881c28135e668c4afe664cdf6d7ddd66d"
   }
  }
 },
 "nbformat": 4,
 "nbformat_minor": 2
}
