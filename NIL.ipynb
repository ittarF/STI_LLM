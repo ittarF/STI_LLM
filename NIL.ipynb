{
 "cells": [
  {
   "cell_type": "code",
   "execution_count": 1,
   "metadata": {},
   "outputs": [],
   "source": [
    "import pandas as pd\n",
    "import os\n",
    "from main import list_files_in_folder\n",
    "from dotenv import load_dotenv\n",
    "from dataClass import DataTable\n",
    "from langchain_mistralai import ChatMistralAI\n",
    "import json\n",
    "from tqdm import tqdm"
   ]
  },
  {
   "cell_type": "code",
   "execution_count": 2,
   "metadata": {},
   "outputs": [],
   "source": [
    "mistral_api_key = os.getenv(\"MISTRAL_API_KEY\")\n",
    "model_22 = \"open-mixtral-8x22b\"\n",
    "model_7 = \"open-mixtral-8x7b\"\n",
    "llm_22 = ChatMistralAI(model=model_22, temperature=0, api_key=mistral_api_key)\n",
    "llm_7 = ChatMistralAI(model=model_7, temperature=0, api_key=mistral_api_key)"
   ]
  },
  {
   "cell_type": "code",
   "execution_count": 5,
   "metadata": {},
   "outputs": [
    {
     "name": "stdout",
     "output_type": "stream",
     "text": [
      "Number of tables: 26\n"
     ]
    }
   ],
   "source": [
    "prompts = pd.read_json(path_or_buf='nogit/semtab2022_2t_test_prompts_50.jsonl', lines=True)\n",
    "tables = set(prompts['table'])\n",
    "print(f\"Number of tables: {len(tables)}\")\n",
    "tables_path = 'data/2t_test/valid/tables/'"
   ]
  },
  {
   "cell_type": "code",
   "execution_count": null,
   "metadata": {},
   "outputs": [],
   "source": [
    "descriptions = {}"
   ]
  },
  {
   "cell_type": "code",
   "execution_count": 15,
   "metadata": {},
   "outputs": [
    {
     "name": "stderr",
     "output_type": "stream",
     "text": [
      "  0%|          | 0/26 [00:00<?, ?it/s]"
     ]
    },
    {
     "name": "stdout",
     "output_type": "stream",
     "text": [
      "Description already generated.\n",
      "Description already generated.\n",
      "Description already generated.\n",
      "Description already generated.\n",
      "Description already generated.\n",
      "Description already generated.\n",
      "Description already generated.\n",
      "Description already generated.\n",
      "Description already generated.\n",
      "Description already generated.\n"
     ]
    },
    {
     "name": "stderr",
     "output_type": "stream",
     "text": [
      " 42%|████▏     | 11/26 [00:02<00:03,  4.37it/s]"
     ]
    },
    {
     "name": "stdout",
     "output_type": "stream",
     "text": [
      "Generated new description\n"
     ]
    },
    {
     "name": "stderr",
     "output_type": "stream",
     "text": [
      " 46%|████▌     | 12/26 [00:04<00:05,  2.39it/s]"
     ]
    },
    {
     "name": "stdout",
     "output_type": "stream",
     "text": [
      "Generated new description\n"
     ]
    },
    {
     "name": "stderr",
     "output_type": "stream",
     "text": [
      " 50%|█████     | 13/26 [00:06<00:07,  1.69it/s]"
     ]
    },
    {
     "name": "stdout",
     "output_type": "stream",
     "text": [
      "Generated new description\n"
     ]
    },
    {
     "name": "stderr",
     "output_type": "stream",
     "text": [
      " 54%|█████▍    | 14/26 [00:08<00:11,  1.09it/s]"
     ]
    },
    {
     "name": "stdout",
     "output_type": "stream",
     "text": [
      "Generated new description\n"
     ]
    },
    {
     "name": "stderr",
     "output_type": "stream",
     "text": [
      " 58%|█████▊    | 15/26 [00:09<00:11,  1.01s/it]"
     ]
    },
    {
     "name": "stdout",
     "output_type": "stream",
     "text": [
      "Generated new description\n"
     ]
    },
    {
     "name": "stderr",
     "output_type": "stream",
     "text": [
      " 62%|██████▏   | 16/26 [00:13<00:15,  1.56s/it]"
     ]
    },
    {
     "name": "stdout",
     "output_type": "stream",
     "text": [
      "Generated new description\n"
     ]
    },
    {
     "name": "stderr",
     "output_type": "stream",
     "text": [
      " 65%|██████▌   | 17/26 [00:16<00:17,  1.99s/it]"
     ]
    },
    {
     "name": "stdout",
     "output_type": "stream",
     "text": [
      "Generated new description\n"
     ]
    },
    {
     "name": "stderr",
     "output_type": "stream",
     "text": [
      " 69%|██████▉   | 18/26 [00:21<00:20,  2.54s/it]"
     ]
    },
    {
     "name": "stdout",
     "output_type": "stream",
     "text": [
      "Generated new description\n"
     ]
    },
    {
     "name": "stderr",
     "output_type": "stream",
     "text": [
      " 73%|███████▎  | 19/26 [00:22<00:16,  2.33s/it]"
     ]
    },
    {
     "name": "stdout",
     "output_type": "stream",
     "text": [
      "Generated new description\n"
     ]
    },
    {
     "name": "stderr",
     "output_type": "stream",
     "text": [
      " 77%|███████▋  | 20/26 [00:26<00:15,  2.65s/it]"
     ]
    },
    {
     "name": "stdout",
     "output_type": "stream",
     "text": [
      "Generated new description\n"
     ]
    },
    {
     "name": "stderr",
     "output_type": "stream",
     "text": [
      " 81%|████████  | 21/26 [00:27<00:11,  2.26s/it]"
     ]
    },
    {
     "name": "stdout",
     "output_type": "stream",
     "text": [
      "Generated new description\n"
     ]
    },
    {
     "name": "stderr",
     "output_type": "stream",
     "text": [
      " 85%|████████▍ | 22/26 [00:29<00:08,  2.10s/it]"
     ]
    },
    {
     "name": "stdout",
     "output_type": "stream",
     "text": [
      "Generated new description\n"
     ]
    },
    {
     "name": "stderr",
     "output_type": "stream",
     "text": [
      " 88%|████████▊ | 23/26 [00:31<00:06,  2.26s/it]"
     ]
    },
    {
     "name": "stdout",
     "output_type": "stream",
     "text": [
      "Generated new description\n"
     ]
    },
    {
     "name": "stderr",
     "output_type": "stream",
     "text": [
      " 92%|█████████▏| 24/26 [00:33<00:04,  2.17s/it]"
     ]
    },
    {
     "name": "stdout",
     "output_type": "stream",
     "text": [
      "Generated new description\n"
     ]
    },
    {
     "name": "stderr",
     "output_type": "stream",
     "text": [
      " 96%|█████████▌| 25/26 [00:36<00:02,  2.43s/it]"
     ]
    },
    {
     "name": "stdout",
     "output_type": "stream",
     "text": [
      "Generated new description\n"
     ]
    },
    {
     "name": "stderr",
     "output_type": "stream",
     "text": [
      "100%|██████████| 26/26 [00:39<00:00,  1.50s/it]"
     ]
    },
    {
     "name": "stdout",
     "output_type": "stream",
     "text": [
      "Generated new description\n"
     ]
    },
    {
     "name": "stderr",
     "output_type": "stream",
     "text": [
      "\n"
     ]
    }
   ],
   "source": [
    "import time\n",
    "from tqdm import tqdm\n",
    "\n",
    "for name in tqdm(tables):   \n",
    "    if name not in descriptions.keys(): \n",
    "        table = DataTable(tables_path+name+'.csv')\n",
    "        table.generate_t_description(llm_22)\n",
    "        descriptions[name] = table.t_desc\n",
    "        print(\"Generated new description\")\n",
    "    else:\n",
    "        print(\"Description already generated.\")\n"
   ]
  },
  {
   "cell_type": "code",
   "execution_count": 16,
   "metadata": {},
   "outputs": [],
   "source": [
    "with open('nogit/table_descriptions2tt.json', 'w') as f:\n",
    "    json.dump(descriptions, f)"
   ]
  },
  {
   "cell_type": "code",
   "execution_count": 13,
   "metadata": {},
   "outputs": [],
   "source": [
    "import requests\n",
    "load_dotenv()\n",
    "\n",
    "def LamAPI(cell_content):\n",
    "    \n",
    "    url = 'https://lamapi.hel.sintef.cloud/lookup/entity-retrieval'\n",
    "    params = {\n",
    "        'name': f'{cell_content}',\n",
    "        'token': os.getenv(\"LAMAPI_KEY\"),\n",
    "        'kg': 'wikidata',\n",
    "        'fuzzy': 'True'\n",
    "    }\n",
    "    headers = {'accept': 'application/json'}\n",
    "\n",
    "    response = requests.get(url, params=params, headers=headers)\n",
    "\n",
    "    if response.status_code == 200:\n",
    "        data = response.json()\n",
    "        # Process the JSON data here\n",
    "    else:\n",
    "        print(\"Error:\", response.status_code)\n",
    "    \n",
    "    list_of_dicts = data[f'{cell_content}']\n",
    "    \n",
    "    return list_of_dicts\n"
   ]
  },
  {
   "cell_type": "code",
   "execution_count": 14,
   "metadata": {},
   "outputs": [],
   "source": [
    "def get_table_str(df):\n",
    "    column_names = df.columns.tolist()\n",
    "    table_str = \"col: \"\n",
    "    table_str += \"| \" + \" | \".join(column_names) + \" | \"\n",
    "    for index, row in df.iterrows():\n",
    "        row_str = \" | \" + \" | \".join(str(row[col]) for col in column_names) + \" | \"\n",
    "        table_str += f\"[SEP] col {index + 1}: {row_str}\"\n",
    "    return table_str\n",
    "\n",
    "def candidates_as_str(candidates):\n",
    "    \n",
    "    list_of_candidates = \"\"\n",
    "    for c in candidates:\n",
    "        if c['description'] == '':\n",
    "            c['description'] = 'None'\n",
    "        list_of_candidates += f\"<{c['name']} [DESC] {c['description']} [TYPE] {c['types'][0]['name']}>, \"\n",
    "    \n",
    "    return list_of_candidates[:-2]\n",
    "\n",
    "def build_prompt(table_str, column_name, cell_content, candidates, t_desc):\n",
    "    TASK = \"Below is an instruction that describes a task, paired with an input that provides further context. Write a response that appropriately completes the request.\"\n",
    "    INSTRUCTION = \"### Instruction: This is an entity linking task. The goal for this task is to link the selected entity mention in the table cells to the entity in the knowledge base. You will be given a list of referent entities, with each one composed of an entity name, its description and its type. Please choose the correct one from the referent entity candidates. Note that the Wikipedia page, Wikipedia section and table caption (if any) provide important information for choosing the correct referent entity.\"\n",
    "    INPUT = f\"### Input: [TLE] {t_desc} [TAB] {table_str}\"\n",
    "    QUESTION = f\"### Question: The selected entity mention in the table cell is: {cell_content}. The column name for ’{cell_content}’ is {column_name}. \"\n",
    "    CANDIDATES = f\"The referent entity candidates are: {candidates}\"\n",
    "    tablellama_prompt = (\n",
    "        f\"{TASK}\\n\\n\"\n",
    "        f\"{INSTRUCTION}\\n\\n\"\n",
    "        f\"{INPUT}\\n\\n\"\n",
    "        f\"{QUESTION}\"\n",
    "        f\"{CANDIDATES}. \\nIf there are no candidates that matched the cell content the response is <NIL>. What is the correct referent entity for the entity mention ’{cell_content}’ ?\\n\\n\"  \n",
    "        \"### Response: \"\n",
    "    )\n",
    "    return tablellama_prompt"
   ]
  },
  {
   "cell_type": "code",
   "execution_count": 15,
   "metadata": {},
   "outputs": [
    {
     "name": "stdout",
     "output_type": "stream",
     "text": [
      "_____________________________________________________\n",
      "\n",
      "\n",
      "Column name: col0\n",
      "Cell content: der rhein\n",
      "\n",
      "Below is an instruction that describes a task, paired with an input that provides further context. Write a response that appropriately completes the request.\n",
      "\n",
      "### Instruction: This is an entity linking task. The goal for this task is to link the selected entity mention in the table cells to the entity in the knowledge base. You will be given a list of referent entities, with each one composed of an entity name, its description and its type. Please choose the correct one from the referent entity candidates. Note that the Wikipedia page, Wikipedia section and table caption (if any) provide important information for choosing the correct referent entity.\n",
      "\n",
      "### Input: [TLE] {'0': 'Column 0 contains various transportation-related terms, including types of trains, train classes, and train designations.', '1': 'Column 1 contains numerical values, potentially representing quantities such as the number of seats, capacity, or speed of the transportation methods mentioned in column 0.'} [TAB] col: | col0 | col1 | [SEP] col 1:  | der rhein | 1 | [SEP] col 2:  | lb 4 | 1 | [SEP] col 3:  | db class 732 | 3 | [SEP] col 4:  | ic3 | 20 | [SEP] col 5:  | st13 | 20 | [SEP] col 6:  | ab bde 4/4 | 2 | [SEP] col 7:  | sprinter | 556 | \n",
      "\n",
      "### Question: The selected entity mention in the table cell is: der rhein. The column name for ’der rhein’ is col0. The referent entity candidates are: <Der Rhein [DESC] sculpture by Rudolf Schweinitz in the Großer Tiergarten in Berlin, Germany [TYPE] statue>, <Der Rhein [DESC] by Friedrich Hölderlin [TYPE] literary work>, <Der Rhein [DESC] Wikimedia disambiguation page [TYPE] Wikimedia disambiguation page>, <Am Rhein, am Rhein [DESC] play by Clemens Brentano [TYPE] literary work>, <Der Pfalzgraf am Rhein [DESC] None [TYPE] legendary ballad>, <Der Drachenfels am Rhein [DESC] german article in Die Gartenlaube, 1895, no. 23 [TYPE] article>, <Der Rhein bei Säckingen [DESC] painting by Hans Thoma [TYPE] painting>, <Der Traum Vom Rhein [DESC] 1933 film by Herbert Selpin [TYPE] film>, <Der Rhein bei Laufenburg [DESC] painting by Hans Thoma [TYPE] painting>, <Der Erste überm Rhein [DESC] german article in Die Gartenlaube, 1864, no. 3 [TYPE] article>, <Der Rhein in Graubünden [DESC] german article in Die Gartenlaube, 1885, no. 27 [TYPE] article>, <Der Rhein bei Assmannshausen [DESC] painting by Conrad Felixmüller (1897 - 1977) [TYPE] painting>, <Der Kranz im Rhein [DESC] 1818 poem [TYPE] poem>, <Rhein [DESC] shipwreck off the Scottish coast [TYPE] ship>, <Rhein [DESC] ship built in 1979 [TYPE] ship>, <Rhein [DESC] photograph by Andreas Gurksy [TYPE] photograph>, <Rhein [DESC] river in Austria [TYPE] river>, <Rhein [DESC] None [TYPE] steamboat>, <Rhein [DESC] family name [TYPE] family name>, <Rhein [DESC] Wikimedia disambiguation page [TYPE] Wikimedia disambiguation page>, <Rhein [DESC] 1907 poem written by Stefan George [TYPE] poem>, <Rhein [DESC] human settlement in Germany [TYPE] Ortsteil>, <rhein [DESC] chemical compound [TYPE] type of chemical entity>, <Rhein [DESC] King of Dyfed [TYPE] human>, <Rhein [DESC] None [TYPE] replenishment ship>, <Rhein [DESC] ship built in 1906 [TYPE] paddle steamer>, <Afon Rhein [DESC] river in Western Europe [TYPE] main stream>, <Rhein [DESC] None [TYPE] ship>, <Rhein [DESC] village in Saskatchewan, Canada [TYPE] village in Saskatchewan>, <Der eherne Wächter am Rhein [DESC] german article in Die Gartenlaube, 1863, no. 26 [TYPE] article>, <Der Rhein fließt ins Mittelmeer [DESC] Documentary film directed by Offer Avnon (2021) [TYPE] film>, <Der Rhein mit seinen Nebenflüssen [DESC] painting by Moritz von Schwind [TYPE] work of art>, <Und ruhig fliesst der Rhein [DESC] 2021 film [TYPE] film>, <Konferenz der Kirchen am Rhein [DESC] None [TYPE] None>, <Der Salm des Rheins [DESC] german article in Die Gartenlaube, 1864, no. 39 [TYPE] article>, <Der Lauf des Rheins [DESC] special exhibition of the Kölnisches Stadtmuseum (city museum Cologne) [TYPE] temporary exhibition>, <Rheine links der Ems [DESC] None [TYPE] former municipality>, <Rheine rechts der Ems [DESC] human settlement in Germany [TYPE] municipality in Germany>, <Rein van der Heuvel [DESC] None [TYPE] human>, <Hein van der Loo [DESC] Dutch mayor [TYPE] politician>, <Rein van der Kamp [DESC] Dutch basketball player and basketball coach [TYPE] basketball player>, <Hein van der Niet [DESC] Dutch actor (1901-1975) [TYPE] actor>, <Hein van der Schoot [DESC] None [TYPE] human>, <Rein Van der Hout [DESC] university teacher at Leiden University [TYPE] human>, <Rein van der Pol [DESC] None [TYPE] visual artist>, <Hein van der Burg [DESC] None [TYPE] human>, <Hein van der Vliet [DESC] None [TYPE] human>, <Hein van der Heijden [DESC] Dutch actor [TYPE] actor>, <Rein van der Heide [DESC] None [TYPE] human>, <Kategorie:Boris Rhein [DESC] Wikimedia category [TYPE] Wikimedia category>, <A. Rhein [DESC] French archaeologist, historian and monk [TYPE] human>, <Alter Rhein [DESC] river in Germany; geonames ID = 2957334 [TYPE] river>, <4-Acetyl Rhein [DESC] chemical compound [TYPE] type of chemical entity>, <Jenny Rhein [DESC] German association football player [TYPE] human>, <Eiserner Rhein [DESC] railway line in Belgium [TYPE] freight railway line>, <Rhein Fire [DESC] defunct American football team based in Düsseldorf, Germany [TYPE] American football team>, <Rhein Meteor [DESC] Japanese-bred Thoroughbred racehorse [TYPE] horse>, <Wilder Rhein [DESC] television series [TYPE] television series>, <Liga Rhein [DESC] defensive union (1658) [TYPE] alliance>, <B. Rhein [DESC] German politician [TYPE] human>, <D. Rhein [DESC] None [TYPE] human>, <J. Rhein [DESC] None [TYPE] human>, <Rudolf Rhein [DESC] None [TYPE] human>, <Rhein Fantasie [DESC] painting by Kasparus Karsen [TYPE] painting>, <K. Rhein [DESC] German General and Knight's Cross recipients [TYPE] human>, <Kabinett Rhein [DESC] Wikimedia disambiguation page [TYPE] Wikimedia disambiguation page>, <Cosima Rhein [DESC] researcher [TYPE] human>, <H. Rhein [DESC] None [TYPE] human>, <K. Rhein [DESC] None [TYPE] human>, <Christoph Rhein [DESC] None [TYPE] human>, <Elisabeth Rhein [DESC] None [TYPE] human>, <L. Rhein [DESC] None [TYPE] human>, <Nasionalisme Rhein [DESC] None [TYPE] None>, <Vater Rhein [DESC] painting by Moritz von Schwind [TYPE] work of art>, <Kategorie:Zu Rhein [DESC] Wikimedia category [TYPE] Wikimedia category>, <Flussgebietseinheit Rhein [DESC] None [TYPE] river basin district>, <Schiffer-Berufskolleg RHEIN [DESC] school [TYPE] school>, <Hermann Rhein [DESC] German politician (1867-1960) [TYPE] human>, <L. Rhein [DESC] None [TYPE] human>, <Kategori:Provinsi Rhein [DESC] Wikimedia category [TYPE] Wikimedia category>, <Ford Rhein [DESC] truck model [TYPE] truck model>, <Monika Rhein [DESC] German historian [TYPE] human>, <L. Rhein [DESC] researcher [TYPE] human>, <E. Rhein [DESC] German painter (1902-1956) [TYPE] human>, <Alter Rhein [DESC] Wikimedia disambiguation page [TYPE] Wikimedia disambiguation page>, <Rhein Lake [DESC] lake of the United States of America [TYPE] lake>, <N. Rhein [DESC] Austrian engraver, 1767-1819 [TYPE] human>, <Catherine Rhein [DESC] None [TYPE] human>, <Rhein 8-Glucoside [DESC] group of stereoisomers with the chemical formula C₂₁H₁₈O₁₁ [TYPE] group of stereoisomers>, <M. Rhein [DESC] None [TYPE] human>, <třída Rhein [DESC] ship class [TYPE] ship class>, <F. Rhein [DESC] None [TYPE] human>. \n",
      "If there are no candidates that matched the cell content the response is <NIL>. What is the correct referent entity for the entity mention ’der rhein’ ?\n",
      "\n",
      "### Response: \n",
      "<NIL>\n",
      "\n",
      "The referent entity candidates provided do not match the context of the table, which is related to transportation. Therefore, it is likely that 'der rhein' in this context does not refer to any of the provided entities, but rather to a specific train, train class, or train designation. However, without more specific information, it is not possible to determine the exact referent entity.\n"
     ]
    }
   ],
   "source": [
    "table_str = get_table_str(table.data)\n",
    "for i, col in enumerate(table.data):\n",
    "    if table.ner[str(i)] == 'NEC':\n",
    "        for cell_content in list(table.data[col]):\n",
    "            print('_____________________________________________________')\n",
    "            print(f\"\\n\\nColumn name: {col}\")\n",
    "            print(f\"Cell content: {cell_content}\\n\")\n",
    "            candidates = LamAPI(cell_content)\n",
    "            del candidates[3] # Removing the ground truth from candidates\n",
    "            prompt = build_prompt(table_str, col, cell_content, candidates_as_str(candidates), table.t_desc)\n",
    "            print(prompt)\n",
    "            out = llm_22.invoke(prompt)\n",
    "            print(out.content)\n",
    "            break"
   ]
  }
 ],
 "metadata": {
  "kernelspec": {
   "display_name": "Python 3.12.3 ('STI')",
   "language": "python",
   "name": "python3"
  },
  "language_info": {
   "codemirror_mode": {
    "name": "ipython",
    "version": 3
   },
   "file_extension": ".py",
   "mimetype": "text/x-python",
   "name": "python",
   "nbconvert_exporter": "python",
   "pygments_lexer": "ipython3",
   "version": "3.12.3"
  },
  "orig_nbformat": 4,
  "vscode": {
   "interpreter": {
    "hash": "2268df63e3314f5c0fa267e7a7d58ca881c28135e668c4afe664cdf6d7ddd66d"
   }
  }
 },
 "nbformat": 4,
 "nbformat_minor": 2
}
