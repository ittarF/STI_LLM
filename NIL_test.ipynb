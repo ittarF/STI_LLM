{
 "cells": [
  {
   "cell_type": "markdown",
   "metadata": {},
   "source": [
    "## Imports"
   ]
  },
  {
   "cell_type": "code",
   "execution_count": 1,
   "metadata": {},
   "outputs": [],
   "source": [
    "import pandas as pd\n",
    "import os\n",
    "from main import list_files_in_folder\n",
    "from dotenv import load_dotenv\n",
    "from dataClass import DataTable\n",
    "from langchain_mistralai import ChatMistralAI\n",
    "import json\n",
    "from tqdm import tqdm\n",
    "from utils import get_table_str, candidates_as_str, build_prompt\n",
    "from prompts import generate_CEA_prompt_with_t_desc\n",
    "import time"
   ]
  },
  {
   "cell_type": "markdown",
   "metadata": {},
   "source": [
    "## Prompt"
   ]
  },
  {
   "cell_type": "code",
   "execution_count": 2,
   "metadata": {},
   "outputs": [],
   "source": [
    "prompts = pd.read_json(path_or_buf='nogit/semtab2022_2t_test_prompts_50.jsonl', lines=True)"
   ]
  },
  {
   "cell_type": "code",
   "execution_count": 3,
   "metadata": {},
   "outputs": [
    {
     "name": "stdout",
     "output_type": "stream",
     "text": [
      "Number of tables: 26\n"
     ]
    }
   ],
   "source": [
    "tables = set(prompts['table'])\n",
    "print(f\"Number of tables: {len(tables)}\")"
   ]
  },
  {
   "cell_type": "markdown",
   "metadata": {},
   "source": [
    "## Data"
   ]
  },
  {
   "cell_type": "code",
   "execution_count": 5,
   "metadata": {},
   "outputs": [
    {
     "name": "stdout",
     "output_type": "stream",
     "text": [
      "Number of Tables: 200\n"
     ]
    }
   ],
   "source": [
    "# This json contains for each cell to be annotated, a list of possible candidates\n",
    "# retrieved with LamAPI but without the right candidate.\n",
    "with open('nogit/HardTablesR1_Valid_CEA_ER_without_gt.json') as f:\n",
    "    data = json.load(f) \n",
    "with open('nogit/table_descriptions2tt.json') as f:\n",
    "    table_descriptions = json.load(f) \n",
    "\n",
    "gt_path = 'data/HardTablesR1/DataSets/HardTablesR1/Valid/gt/cea_gt.csv'\n",
    "gt = pd.read_csv(gt_path, header=None)\n",
    "\n",
    "print(f\"Number of Tables: {len(data)}\")"
   ]
  },
  {
   "cell_type": "code",
   "execution_count": 6,
   "metadata": {},
   "outputs": [
    {
     "name": "stdout",
     "output_type": "stream",
     "text": [
      "Number of cells: 1406\n"
     ]
    }
   ],
   "source": [
    "ncells = 0\n",
    "for k, v in data.items():\n",
    "    ncells += len(v)\n",
    "print(f\"Number of cells: {ncells}\")\n",
    "\n",
    "if ncells != len(gt):\n",
    "    print(\"Cells in ground_truth don't match cells in test set.\")"
   ]
  },
  {
   "cell_type": "code",
   "execution_count": 7,
   "metadata": {},
   "outputs": [
    {
     "data": {
      "text/plain": [
       "True"
      ]
     },
     "execution_count": 7,
     "metadata": {},
     "output_type": "execute_result"
    }
   ],
   "source": [
    "\n",
    "prompts.iloc[60]['output'] in prompts.iloc[60]['question']"
   ]
  },
  {
   "cell_type": "code",
   "execution_count": 8,
   "metadata": {},
   "outputs": [
    {
     "data": {
      "text/plain": [
       "'<Alabama [DESC] state of the United States of America [TYPE] U.S. state>,'"
      ]
     },
     "execution_count": 8,
     "metadata": {},
     "output_type": "execute_result"
    }
   ],
   "source": [
    "prompts.iloc[60]['output']+','"
   ]
  },
  {
   "cell_type": "code",
   "execution_count": 9,
   "metadata": {},
   "outputs": [
    {
     "name": "stdout",
     "output_type": "stream",
     "text": [
      "The selected entity mention in the table cell is: 'Allabama'. The column name for 'Allabama' is col0. The referent entity candidates are: <CSS Alabama [DESC] screw sloop-of-war built in 1862 [TYPE] sloop-of-war>,<Alabama, Alabama, Alabama [DESC] A short stories collection [TYPE] book>,<Alabama [DESC] schooner built in 1926 [TYPE] schooner>,<Alabama Creek [DESC] river in the United States of America [TYPE] river>,<Alabama [DESC] mine in Colfax County, New Mexico, United States of America [TYPE] mine>,<Alabama Slim [DESC] musical artist [TYPE] human>,<Alabama [DESC] John Coltrane song [TYPE] musical work/composition>,<Alabama Port [DESC] unincorporated community on Mon Louis Island, in Mobile County, Alabama [TYPE] unincorporated community in the United States>,<ALABAMA [DESC] scientific article published in September 2006 [TYPE] scholarly article>,<Alabama [DESC] computer virus [TYPE] computer virus>,<Alabama [DESC] article in Otto's encyclopedia [TYPE] encyclopedia article>,<Alabama [DESC] song by Neil Young [TYPE] musical work/composition>,<Alabama [DESC] state song of Alabama [TYPE] regional anthem>,<Alabama [DESC] scientific article published in June 2010 [TYPE] scholarly article>,<Alabama Nick [DESC] American musician [TYPE] human>,<Judge [DESC] episode of Veep [TYPE] television series episode>,<Alabama Chanin [DESC] American fashion designer [TYPE] human>,<Alabama [DESC] constituency of the United States Senate [TYPE] United States senate constituency>,<Alabama Barker [DESC] American Tiktokerist [TYPE] human>,<Alabama [DESC] painting by Norman Lewis (American, 1909-1979) (2017.1) [TYPE] painting>,<Alabama [DESC] shipwreck off the Scottish coast [TYPE] steamship>,<Alabama [DESC] American country and rock music band [TYPE] musical group>,<Alabama [DESC] None [TYPE] ridge>,<Alabama [DESC] novel by Alessandro Barbero [TYPE] literary work>,<Alabama [DESC] Canadian band of the early 1970s [TYPE] musical group>,<Alabama [DESC] episode of Man vs. Wild (S4 E2) [TYPE] television series episode>,<Alabama [DESC] scientific article published in December 2009 [TYPE] scholarly article>,<Alabama Junior [DESC] None [TYPE] human>,<Alabama [DESC] Gloucester fishing schooner built in 1926 [TYPE] schooner>,<ALABAMA [DESC] scientific article published in December 2005 [TYPE] scholarly article>,<ALABAMA [DESC] hymn tune [TYPE] musical work/composition>,<Alabama [DESC] state of the United States of America [TYPE] U.S. state>,<Alabama [DESC] 1985 film by Ryszard Rydzewski [TYPE] film>,<Portal:Alabama [DESC] Wikimedia portal [TYPE] Wikimedia portal>,<Alabama [DESC] player character from the 2012  video game Unit 13 [TYPE] video game character>,<Alabama [DESC] scientific article published in December 2012 [TYPE] scholarly article>,<Alabama [DESC] scientific article published in September 2012 [TYPE] scholarly article>,<Alabama [DESC] scientific article published in June 2005 [TYPE] scholarly article>,<Alabama [DESC] None [TYPE] None>,<Alabama [DESC] scientific article published in March 2011 [TYPE] scholarly article>,<Alabama River [DESC] river in Alabama, United States [TYPE] river>,<Alabama [DESC] genus of insects [TYPE] monotypic taxon>,<Alabama Creek [DESC] river in United States of America [TYPE] river>,<Alabama (1992) [DESC] publication published in 1993 [TYPE] publication>,<Alabama [DESC] the federated state of Alabama in the USA as depicted in Star Trek [TYPE] fictional state of the United States>,<Alabama [DESC] town in New York, United States [TYPE] town in the United States>,<Alabama [DESC] scientific article published in December 2014 [TYPE] scholarly article>,<Alabama Territory [DESC] territory of the USA between 1817-1819 [TYPE] territory of the United States>,<Alabama [DESC] Savannah?1919? | Library of Congress [TYPE] publication>,. What is the correct referent entity for the entity mention ’Allabama’?\n",
      "The selected entity mention in the table cell is: 'Allabama'. The column name for 'Allabama' is col0. The referent entity candidates are: <CSS Alabama [DESC] screw sloop-of-war built in 1862 [TYPE] sloop-of-war>,<Alabama, Alabama, Alabama [DESC] A short stories collection [TYPE] book>,<Alabama [DESC] schooner built in 1926 [TYPE] schooner>,<Alabama Creek [DESC] river in the United States of America [TYPE] river>,<Alabama [DESC] mine in Colfax County, New Mexico, United States of America [TYPE] mine>,<Alabama Slim [DESC] musical artist [TYPE] human>,<Alabama [DESC] John Coltrane song [TYPE] musical work/composition>,<Alabama Port [DESC] unincorporated community on Mon Louis Island, in Mobile County, Alabama [TYPE] unincorporated community in the United States>,<ALABAMA [DESC] scientific article published in September 2006 [TYPE] scholarly article>,<Alabama [DESC] computer virus [TYPE] computer virus>,<Alabama [DESC] article in Otto's encyclopedia [TYPE] encyclopedia article>,<Alabama [DESC] song by Neil Young [TYPE] musical work/composition>,<Alabama [DESC] state song of Alabama [TYPE] regional anthem>,<Alabama [DESC] scientific article published in June 2010 [TYPE] scholarly article>,<Alabama Nick [DESC] American musician [TYPE] human>,<Judge [DESC] episode of Veep [TYPE] television series episode>,<Alabama Chanin [DESC] American fashion designer [TYPE] human>,<Alabama [DESC] constituency of the United States Senate [TYPE] United States senate constituency>,<Alabama Barker [DESC] American Tiktokerist [TYPE] human>,<Alabama [DESC] painting by Norman Lewis (American, 1909-1979) (2017.1) [TYPE] painting>,<Alabama [DESC] shipwreck off the Scottish coast [TYPE] steamship>,<Alabama [DESC] American country and rock music band [TYPE] musical group>,<Alabama [DESC] None [TYPE] ridge>,<Alabama [DESC] novel by Alessandro Barbero [TYPE] literary work>,<Alabama [DESC] Canadian band of the early 1970s [TYPE] musical group>,<Alabama [DESC] episode of Man vs. Wild (S4 E2) [TYPE] television series episode>,<Alabama [DESC] scientific article published in December 2009 [TYPE] scholarly article>,<Alabama Junior [DESC] None [TYPE] human>,<Alabama [DESC] Gloucester fishing schooner built in 1926 [TYPE] schooner>,<ALABAMA [DESC] scientific article published in December 2005 [TYPE] scholarly article>,<ALABAMA [DESC] hymn tune [TYPE] musical work/composition>,<Alabama [DESC] 1985 film by Ryszard Rydzewski [TYPE] film>,<Portal:Alabama [DESC] Wikimedia portal [TYPE] Wikimedia portal>,<Alabama [DESC] player character from the 2012  video game Unit 13 [TYPE] video game character>,<Alabama [DESC] scientific article published in December 2012 [TYPE] scholarly article>,<Alabama [DESC] scientific article published in September 2012 [TYPE] scholarly article>,<Alabama [DESC] scientific article published in June 2005 [TYPE] scholarly article>,<Alabama [DESC] None [TYPE] None>,<Alabama [DESC] scientific article published in March 2011 [TYPE] scholarly article>,<Alabama River [DESC] river in Alabama, United States [TYPE] river>,<Alabama [DESC] genus of insects [TYPE] monotypic taxon>,<Alabama Creek [DESC] river in United States of America [TYPE] river>,<Alabama (1992) [DESC] publication published in 1993 [TYPE] publication>,<Alabama [DESC] the federated state of Alabama in the USA as depicted in Star Trek [TYPE] fictional state of the United States>,<Alabama [DESC] town in New York, United States [TYPE] town in the United States>,<Alabama [DESC] scientific article published in December 2014 [TYPE] scholarly article>,<Alabama Territory [DESC] territory of the USA between 1817-1819 [TYPE] territory of the United States>,<Alabama [DESC] Savannah?1919? | Library of Congress [TYPE] publication>. \n",
      "If there are no candidates that matched the cell content the response is <NIL>. What is the correct referent entity for the entity mention ’Allabama’?\n"
     ]
    }
   ],
   "source": [
    "q = prompts.iloc[60]['question']\n",
    "o = prompts.iloc[60]['output']+','\n",
    "print(q)\n",
    "post = q.replace(o, '').replace(',.', '. \\nIf there are no candidates that matched the cell content the response is <NIL>.')\n",
    "print(post)"
   ]
  },
  {
   "cell_type": "code",
   "execution_count": 9,
   "metadata": {},
   "outputs": [],
   "source": [
    "def build_prompt(retrieved, t_desc=None):\n",
    "    q = retrieved['question']\n",
    "    o = retrieved['output']+','\n",
    "    post = q.replace(o, '').replace(',.', '. \\nIf there are no candidates that matched the cell content the response is <NIL>.')\n",
    "    if t_desc == None:\n",
    "        t_desc = 'None'\n",
    "    TASK = \"Below is an instruction that describes a task, paired with an input that provides further context. Write a response that appropriately completes the request.\"\n",
    "    INSTRUCTION = f\"### Instruction: {retrieved['instruction']}\"\n",
    "    INPUT = f\"### Input: [TLE] {t_desc} [TAB] {retrieved['input'].split(' [TAB] ')[-1]}\"\n",
    "    QUESTION = f\"### Question: {post}\"\n",
    "    tablellama_prompt = (\n",
    "        f\"{TASK}\\n\\n\"\n",
    "        f\"{INSTRUCTION}\\n\\n\"\n",
    "        f\"{INPUT}\\n\\n\"\n",
    "        f\"{QUESTION}\"  \n",
    "        \"\\n\\n### Response: \"\n",
    "    )\n",
    "    return tablellama_prompt"
   ]
  },
  {
   "cell_type": "code",
   "execution_count": 10,
   "metadata": {},
   "outputs": [
    {
     "data": {
      "text/html": [
       "<div>\n",
       "<style scoped>\n",
       "    .dataframe tbody tr th:only-of-type {\n",
       "        vertical-align: middle;\n",
       "    }\n",
       "\n",
       "    .dataframe tbody tr th {\n",
       "        vertical-align: top;\n",
       "    }\n",
       "\n",
       "    .dataframe thead th {\n",
       "        text-align: right;\n",
       "    }\n",
       "</style>\n",
       "<table border=\"1\" class=\"dataframe\">\n",
       "  <thead>\n",
       "    <tr style=\"text-align: right;\">\n",
       "      <th></th>\n",
       "      <th>table</th>\n",
       "      <th>instruction</th>\n",
       "      <th>input</th>\n",
       "      <th>question</th>\n",
       "      <th>output</th>\n",
       "    </tr>\n",
       "  </thead>\n",
       "  <tbody>\n",
       "    <tr>\n",
       "      <th>0</th>\n",
       "      <td>2NEDAQI9</td>\n",
       "      <td>This is an entity linking task. The goal for t...</td>\n",
       "      <td>[TLE] None [TAB] col: |col0|col1|col2|col3|col...</td>\n",
       "      <td>The selected entity mention in the table cell ...</td>\n",
       "      <td>&lt;Citigroup [DESC] American investment bank and...</td>\n",
       "    </tr>\n",
       "    <tr>\n",
       "      <th>1</th>\n",
       "      <td>2NEDAQI9</td>\n",
       "      <td>This is an entity linking task. The goal for t...</td>\n",
       "      <td>[TLE] None [TAB] col: |col0|col1|col2|col3|col...</td>\n",
       "      <td>The selected entity mention in the table cell ...</td>\n",
       "      <td>&lt;United States of America [DESC] country in No...</td>\n",
       "    </tr>\n",
       "    <tr>\n",
       "      <th>2</th>\n",
       "      <td>2NEDAQI9</td>\n",
       "      <td>This is an entity linking task. The goal for t...</td>\n",
       "      <td>[TLE] None [TAB] col: |col0|col1|col2|col3|col...</td>\n",
       "      <td>The selected entity mention in the table cell ...</td>\n",
       "      <td>&lt;bank [DESC] financial institution that accept...</td>\n",
       "    </tr>\n",
       "    <tr>\n",
       "      <th>3</th>\n",
       "      <td>2NEDAQI9</td>\n",
       "      <td>This is an entity linking task. The goal for t...</td>\n",
       "      <td>[TLE] None [TAB] col: |col0|col1|col2|col3|col...</td>\n",
       "      <td>The selected entity mention in the table cell ...</td>\n",
       "      <td>&lt;Bank of America [DESC] American multinational...</td>\n",
       "    </tr>\n",
       "    <tr>\n",
       "      <th>4</th>\n",
       "      <td>2NEDAQI9</td>\n",
       "      <td>This is an entity linking task. The goal for t...</td>\n",
       "      <td>[TLE] None [TAB] col: |col0|col1|col2|col3|col...</td>\n",
       "      <td>The selected entity mention in the table cell ...</td>\n",
       "      <td>&lt;United States of America [DESC] country in No...</td>\n",
       "    </tr>\n",
       "  </tbody>\n",
       "</table>\n",
       "</div>"
      ],
      "text/plain": [
       "      table                                        instruction  \\\n",
       "0  2NEDAQI9  This is an entity linking task. The goal for t...   \n",
       "1  2NEDAQI9  This is an entity linking task. The goal for t...   \n",
       "2  2NEDAQI9  This is an entity linking task. The goal for t...   \n",
       "3  2NEDAQI9  This is an entity linking task. The goal for t...   \n",
       "4  2NEDAQI9  This is an entity linking task. The goal for t...   \n",
       "\n",
       "                                               input  \\\n",
       "0  [TLE] None [TAB] col: |col0|col1|col2|col3|col...   \n",
       "1  [TLE] None [TAB] col: |col0|col1|col2|col3|col...   \n",
       "2  [TLE] None [TAB] col: |col0|col1|col2|col3|col...   \n",
       "3  [TLE] None [TAB] col: |col0|col1|col2|col3|col...   \n",
       "4  [TLE] None [TAB] col: |col0|col1|col2|col3|col...   \n",
       "\n",
       "                                            question  \\\n",
       "0  The selected entity mention in the table cell ...   \n",
       "1  The selected entity mention in the table cell ...   \n",
       "2  The selected entity mention in the table cell ...   \n",
       "3  The selected entity mention in the table cell ...   \n",
       "4  The selected entity mention in the table cell ...   \n",
       "\n",
       "                                              output  \n",
       "0  <Citigroup [DESC] American investment bank and...  \n",
       "1  <United States of America [DESC] country in No...  \n",
       "2  <bank [DESC] financial institution that accept...  \n",
       "3  <Bank of America [DESC] American multinational...  \n",
       "4  <United States of America [DESC] country in No...  "
      ]
     },
     "execution_count": 10,
     "metadata": {},
     "output_type": "execute_result"
    }
   ],
   "source": [
    "prompts.head()"
   ]
  },
  {
   "cell_type": "code",
   "execution_count": 11,
   "metadata": {},
   "outputs": [],
   "source": [
    "for i, row in prompts.iterrows():\n",
    "    #print(table_descriptions[row['table']])\n",
    "    \n",
    "    #print(row)\n",
    "    prompt_desc = build_prompt(row, t_desc=table_descriptions[row['table']])\n",
    "    prompt_nodesc = build_prompt(row)\n",
    "    #print(res)\n",
    "        # Add new columns with the generated prompts\n",
    "    prompts.at[i, 'prompt_desc'] = prompt_desc\n",
    "    prompts.at[i, 'prompt_nodesc'] = prompt_nodesc\n",
    "    "
   ]
  },
  {
   "cell_type": "code",
   "execution_count": 12,
   "metadata": {},
   "outputs": [
    {
     "name": "stdout",
     "output_type": "stream",
     "text": [
      "ROW: table                                                     2NEDAQI9\n",
      "instruction      This is an entity linking task. The goal for t...\n",
      "input            [TLE] None [TAB] col: |col0|col1|col2|col3|col...\n",
      "question         The selected entity mention in the table cell ...\n",
      "output           <Citigroup [DESC] American investment bank and...\n",
      "prompt_desc      Below is an instruction that describes a task,...\n",
      "prompt_nodesc    Below is an instruction that describes a task,...\n",
      "Name: 0, dtype: object\n",
      "\n",
      "\n",
      "No desc prompt: \n",
      " Below is an instruction that describes a task, paired with an input that provides further context. Write a response that appropriately completes the request.\n",
      "\n",
      "### Instruction: This is an entity linking task. The goal for this task is to link the selected entity mention in the table cells to the entity in the knowledge base. You will be given a list of referent entities, with each one composed of an entity name, its description and its type. Please choose the correct one from the referent entity candidates. Note that the Wikipedia page, Wikipedia section and table caption (if any) provide important information for choosing the correct referent entity.\n",
      "\n",
      "### Input: [TLE] None [TAB] col: |col0|col1|col2|col3|col4|col5|col6|col7| row 0: |1|Cittigroupp|USAA|Banking|146.56|21.54|1,884.32|247.42| row 1: |2|Bank of Americaa|UUSA|Banking|116.57|21.13|1,459.74|226.61| row 2: |3|HSBCC|UUK|Banking|121.51|16.63|1,860.76|202.29| row 3: |4|General Electricc|USA|Conglomerate|163.39|20.83|697.24|358.98| row 4: |5|JPMorgan Chase & Co..|USA|Banking|99.30|14.44|1,351.52|170.97| row 5: |6|American International Groupp|UUSA|Insurance|113.19|14.01|979.41|174.47| row 6: |7|ExxonMMobil|UUSA|Oil and gas|335.09|39.50|223.95|410.65| row 7: |8|Royal Dutch Shhelll|Netherlands|Oil and gas|318.85|25.44|232.31|208.25| row 8: |9|UBS|Switzerlandd|Diversified Financials|105.59|9.78|1,776.89|116.84| row 9: |10|ING Group|Netherlands|Diversified Financials|153.44|9.65|1,615.05|93.99| row 10: |11|BPPP|UUK|Oil and gas|265.91|22.29|217.60|198.14| row 11: |12|Toyotaa|Japan|Automotive|179.02|11.68|243.60|217.69| row 12: |13|Royal Bank of Scotlandd|UKK|Banking|77.41|12.51|1,705.35|124.13| row 13: |14|BBNP PParibas|FFrance|Banking|89.16|9.64|1,898.19|97.03| row 14: |15|Allianzz|Germany|Insurance|125.33|8.81|1,380.88|87.22| row 15: |16|Berkshire Hathawayy|USA|Diversified Financials|98.54|11.02|248.44|163.79| row 16: |17|WWal--Mart|USSA|Retailing|348.65|11.29|151.19|201.36| row 17: |18|Barclaysss|UK|Banking|67.71|8.95|1,949.17|94.79| row 18: |19|Chevronn|USSA|Oil and gas|195.34|17.14|132.63|149.37| row 19: |19|Total S.A..|France|Oil and gas|175.05|15.53|138.82|152.62| \n",
      "\n",
      "### Question: The selected entity mention in the table cell is: 'Cittigroupp'. The column name for 'Cittigroupp' is col1. The referent entity candidates are: <Citigroup 2016 Form 10-K [DESC] None [TYPE] Form 10-K>,<Citigroup 2011 data breach [DESC] None [TYPE] data breach>,<Citigroup Global Markets [DESC] UK company [TYPE] business>,<Citigroup Centre, Auckland [DESC] office building in Auckland [TYPE] office building>,<Citigroup Tower [DESC] building in Citigroup Tower, China [TYPE] skyscraper>,<Citigroup 2005 data breach [DESC] None [TYPE] data breach>,<Citigroup Japan Holdings [DESC] None [TYPE] business>,<Citigroup Center [DESC] office skyscraper in Manhattan, New York [TYPE] skyscraper>,<Citigroup Centre [DESC] building complex in London, England [TYPE] building complex>,<Citigroup Center [DESC] skyscraper in Los Angeles [TYPE] skyscraper>,<Citigroup Place (Toronto) [DESC] architectural structure [TYPE] architectural structure>,<Citigroup Center [DESC] Skyscraper in Chicago [TYPE] high-rise building>,<Citigroup Centre [DESC] skyscraper in Sydney, New South Wales, Australia [TYPE] high-rise building>,<Citigroup 2013 data breach [DESC] None [TYPE] data breach>,<Citigroup Global Markets Japan [DESC] financial services firm in Japan [TYPE] business>,<Citigroup Global Markets [DESC] stock exchange [TYPE] stock exchange>,<Citigroup Global Markets Limited [DESC] Registered market for equities [TYPE] stock exchange>,<Citigroup Capital Partners Japan [DESC] None [TYPE] business>. \n",
      "If there are no candidates that matched the cell content the response is <NIL>. What is the correct referent entity for the entity mention ’Cittigroupp’?\n",
      "\n",
      "### Response: \n",
      "\n",
      "Desc prompt: \n",
      " Below is an instruction that describes a task, paired with an input that provides further context. Write a response that appropriately completes the request.\n",
      "\n",
      "### Instruction: This is an entity linking task. The goal for this task is to link the selected entity mention in the table cells to the entity in the knowledge base. You will be given a list of referent entities, with each one composed of an entity name, its description and its type. Please choose the correct one from the referent entity candidates. Note that the Wikipedia page, Wikipedia section and table caption (if any) provide important information for choosing the correct referent entity.\n",
      "\n",
      "### Input: [TLE] {'col0': 'A unique identifier for each row, an integer', 'col1': 'The name of the company, often abbreviated, in lowercase with extra spaces and special characters removed', 'col2': \"The country code of the company's headquarters, in uppercase, with one or two extra letters sometimes added to the end of the code\", 'col3': 'The industry category of the company, in lowercase, with one or two extra letters sometimes added to the end of the category', 'col4': 'The stock price of the company, represented as a decimal number', 'col5': 'The earning per share (EPS) of the company, represented as a decimal number', 'col6': 'The market capitalization of the company, represented as a decimal number', 'col7': 'The annual revenue of the company, represented as a decimal number'} [TAB] col: |col0|col1|col2|col3|col4|col5|col6|col7| row 0: |1|Cittigroupp|USAA|Banking|146.56|21.54|1,884.32|247.42| row 1: |2|Bank of Americaa|UUSA|Banking|116.57|21.13|1,459.74|226.61| row 2: |3|HSBCC|UUK|Banking|121.51|16.63|1,860.76|202.29| row 3: |4|General Electricc|USA|Conglomerate|163.39|20.83|697.24|358.98| row 4: |5|JPMorgan Chase & Co..|USA|Banking|99.30|14.44|1,351.52|170.97| row 5: |6|American International Groupp|UUSA|Insurance|113.19|14.01|979.41|174.47| row 6: |7|ExxonMMobil|UUSA|Oil and gas|335.09|39.50|223.95|410.65| row 7: |8|Royal Dutch Shhelll|Netherlands|Oil and gas|318.85|25.44|232.31|208.25| row 8: |9|UBS|Switzerlandd|Diversified Financials|105.59|9.78|1,776.89|116.84| row 9: |10|ING Group|Netherlands|Diversified Financials|153.44|9.65|1,615.05|93.99| row 10: |11|BPPP|UUK|Oil and gas|265.91|22.29|217.60|198.14| row 11: |12|Toyotaa|Japan|Automotive|179.02|11.68|243.60|217.69| row 12: |13|Royal Bank of Scotlandd|UKK|Banking|77.41|12.51|1,705.35|124.13| row 13: |14|BBNP PParibas|FFrance|Banking|89.16|9.64|1,898.19|97.03| row 14: |15|Allianzz|Germany|Insurance|125.33|8.81|1,380.88|87.22| row 15: |16|Berkshire Hathawayy|USA|Diversified Financials|98.54|11.02|248.44|163.79| row 16: |17|WWal--Mart|USSA|Retailing|348.65|11.29|151.19|201.36| row 17: |18|Barclaysss|UK|Banking|67.71|8.95|1,949.17|94.79| row 18: |19|Chevronn|USSA|Oil and gas|195.34|17.14|132.63|149.37| row 19: |19|Total S.A..|France|Oil and gas|175.05|15.53|138.82|152.62| \n",
      "\n",
      "### Question: The selected entity mention in the table cell is: 'Cittigroupp'. The column name for 'Cittigroupp' is col1. The referent entity candidates are: <Citigroup 2016 Form 10-K [DESC] None [TYPE] Form 10-K>,<Citigroup 2011 data breach [DESC] None [TYPE] data breach>,<Citigroup Global Markets [DESC] UK company [TYPE] business>,<Citigroup Centre, Auckland [DESC] office building in Auckland [TYPE] office building>,<Citigroup Tower [DESC] building in Citigroup Tower, China [TYPE] skyscraper>,<Citigroup 2005 data breach [DESC] None [TYPE] data breach>,<Citigroup Japan Holdings [DESC] None [TYPE] business>,<Citigroup Center [DESC] office skyscraper in Manhattan, New York [TYPE] skyscraper>,<Citigroup Centre [DESC] building complex in London, England [TYPE] building complex>,<Citigroup Center [DESC] skyscraper in Los Angeles [TYPE] skyscraper>,<Citigroup Place (Toronto) [DESC] architectural structure [TYPE] architectural structure>,<Citigroup Center [DESC] Skyscraper in Chicago [TYPE] high-rise building>,<Citigroup Centre [DESC] skyscraper in Sydney, New South Wales, Australia [TYPE] high-rise building>,<Citigroup 2013 data breach [DESC] None [TYPE] data breach>,<Citigroup Global Markets Japan [DESC] financial services firm in Japan [TYPE] business>,<Citigroup Global Markets [DESC] stock exchange [TYPE] stock exchange>,<Citigroup Global Markets Limited [DESC] Registered market for equities [TYPE] stock exchange>,<Citigroup Capital Partners Japan [DESC] None [TYPE] business>. \n",
      "If there are no candidates that matched the cell content the response is <NIL>. What is the correct referent entity for the entity mention ’Cittigroupp’?\n",
      "\n",
      "### Response: \n",
      "\n"
     ]
    }
   ],
   "source": [
    "print(f\"ROW: {prompts.iloc[0]}\\n\\n\")\n",
    "print(F\"No desc prompt: \\n {prompts.iloc[0]['prompt_nodesc']}\\n\")\n",
    "print(F\"Desc prompt: \\n {prompts.iloc[0]['prompt_desc']}\\n\")"
   ]
  },
  {
   "cell_type": "code",
   "execution_count": 13,
   "metadata": {},
   "outputs": [],
   "source": [
    "with open('nome', 'w') as f:\n",
    "    for _, row in prompts.iterrows():\n",
    "        json.dump(row.to_dict(), f)\n",
    "        f.write('\\n')"
   ]
  },
  {
   "cell_type": "code",
   "execution_count": 10,
   "metadata": {},
   "outputs": [
    {
     "name": "stderr",
     "output_type": "stream",
     "text": [
      "/Users/giofratti/miniforge3/envs/STI/lib/python3.12/site-packages/tqdm/auto.py:21: TqdmWarning: IProgress not found. Please update jupyter and ipywidgets. See https://ipywidgets.readthedocs.io/en/stable/user_install.html\n",
      "  from .autonotebook import tqdm as notebook_tqdm\n",
      "Special tokens have been added in the vocabulary, make sure the associated word embeddings are fine-tuned or trained.\n"
     ]
    }
   ],
   "source": [
    "from transformers import AutoTokenizer, AutoModelForCausalLM\n",
    "\n",
    "tokenizer = AutoTokenizer.from_pretrained(\"Qwen/Qwen2-1.5B-Instruct\")\n",
    "model = AutoModelForCausalLM.from_pretrained(\"Qwen/Qwen2-1.5B-Instruct\")"
   ]
  },
  {
   "cell_type": "code",
   "execution_count": null,
   "metadata": {},
   "outputs": [],
   "source": [
    "# Encode the prompt into tokens\n",
    "inputs = tokenizer(prompt[:-55], return_tensors=\"pt\")\n",
    "\n",
    "# Generate text\n",
    "outputs = model.generate(\n",
    "    inputs['input_ids'], \n",
    "    attention_mask=inputs['attention_mask'], \n",
    "    max_length=2000, \n",
    "    pad_token_id=tokenizer.eos_token_id\n",
    ")\n",
    "\n",
    "# Decode the generated tokens back into text\n",
    "generated_text = tokenizer.decode(outputs[0], skip_special_tokens=True)\n",
    "\n",
    "print(generated_text)"
   ]
  },
  {
   "cell_type": "code",
   "execution_count": 11,
   "metadata": {},
   "outputs": [
    {
     "ename": "KeyError",
     "evalue": "'prompt_nodesc'",
     "output_type": "error",
     "traceback": [
      "\u001b[0;31m---------------------------------------------------------------------------\u001b[0m",
      "\u001b[0;31mKeyError\u001b[0m                                  Traceback (most recent call last)",
      "File \u001b[0;32m~/miniforge3/envs/STI/lib/python3.12/site-packages/pandas/core/indexes/base.py:3805\u001b[0m, in \u001b[0;36mIndex.get_loc\u001b[0;34m(self, key)\u001b[0m\n\u001b[1;32m   3804\u001b[0m \u001b[39mtry\u001b[39;00m:\n\u001b[0;32m-> 3805\u001b[0m     \u001b[39mreturn\u001b[39;00m \u001b[39mself\u001b[39;49m\u001b[39m.\u001b[39;49m_engine\u001b[39m.\u001b[39;49mget_loc(casted_key)\n\u001b[1;32m   3806\u001b[0m \u001b[39mexcept\u001b[39;00m \u001b[39mKeyError\u001b[39;00m \u001b[39mas\u001b[39;00m err:\n",
      "File \u001b[0;32mindex.pyx:167\u001b[0m, in \u001b[0;36mpandas._libs.index.IndexEngine.get_loc\u001b[0;34m()\u001b[0m\n",
      "File \u001b[0;32mindex.pyx:196\u001b[0m, in \u001b[0;36mpandas._libs.index.IndexEngine.get_loc\u001b[0;34m()\u001b[0m\n",
      "File \u001b[0;32mpandas/_libs/hashtable_class_helper.pxi:7081\u001b[0m, in \u001b[0;36mpandas._libs.hashtable.PyObjectHashTable.get_item\u001b[0;34m()\u001b[0m\n",
      "File \u001b[0;32mpandas/_libs/hashtable_class_helper.pxi:7089\u001b[0m, in \u001b[0;36mpandas._libs.hashtable.PyObjectHashTable.get_item\u001b[0;34m()\u001b[0m\n",
      "\u001b[0;31mKeyError\u001b[0m: 'prompt_nodesc'",
      "\nThe above exception was the direct cause of the following exception:\n",
      "\u001b[0;31mKeyError\u001b[0m                                  Traceback (most recent call last)",
      "Cell \u001b[0;32mIn[11], line 1\u001b[0m\n\u001b[0;32m----> 1\u001b[0m \u001b[43mprompts\u001b[49m\u001b[38;5;241;43m.\u001b[39;49m\u001b[43miloc\u001b[49m\u001b[43m[\u001b[49m\u001b[38;5;241;43m0\u001b[39;49m\u001b[43m]\u001b[49m\u001b[43m[\u001b[49m\u001b[38;5;124;43m'\u001b[39;49m\u001b[38;5;124;43mprompt_nodesc\u001b[39;49m\u001b[38;5;124;43m'\u001b[39;49m\u001b[43m]\u001b[49m\n",
      "File \u001b[0;32m~/miniforge3/envs/STI/lib/python3.12/site-packages/pandas/core/series.py:1121\u001b[0m, in \u001b[0;36mSeries.__getitem__\u001b[0;34m(self, key)\u001b[0m\n\u001b[1;32m   1118\u001b[0m     \u001b[39mreturn\u001b[39;00m \u001b[39mself\u001b[39m\u001b[39m.\u001b[39m_values[key]\n\u001b[1;32m   1120\u001b[0m \u001b[39melif\u001b[39;00m key_is_scalar:\n\u001b[0;32m-> 1121\u001b[0m     \u001b[39mreturn\u001b[39;00m \u001b[39mself\u001b[39;49m\u001b[39m.\u001b[39;49m_get_value(key)\n\u001b[1;32m   1123\u001b[0m \u001b[39m# Convert generator to list before going through hashable part\u001b[39;00m\n\u001b[1;32m   1124\u001b[0m \u001b[39m# (We will iterate through the generator there to check for slices)\u001b[39;00m\n\u001b[1;32m   1125\u001b[0m \u001b[39mif\u001b[39;00m is_iterator(key):\n",
      "File \u001b[0;32m~/miniforge3/envs/STI/lib/python3.12/site-packages/pandas/core/series.py:1237\u001b[0m, in \u001b[0;36mSeries._get_value\u001b[0;34m(self, label, takeable)\u001b[0m\n\u001b[1;32m   1234\u001b[0m     \u001b[39mreturn\u001b[39;00m \u001b[39mself\u001b[39m\u001b[39m.\u001b[39m_values[label]\n\u001b[1;32m   1236\u001b[0m \u001b[39m# Similar to Index.get_value, but we do not fall back to positional\u001b[39;00m\n\u001b[0;32m-> 1237\u001b[0m loc \u001b[39m=\u001b[39m \u001b[39mself\u001b[39;49m\u001b[39m.\u001b[39;49mindex\u001b[39m.\u001b[39;49mget_loc(label)\n\u001b[1;32m   1239\u001b[0m \u001b[39mif\u001b[39;00m is_integer(loc):\n\u001b[1;32m   1240\u001b[0m     \u001b[39mreturn\u001b[39;00m \u001b[39mself\u001b[39m\u001b[39m.\u001b[39m_values[loc]\n",
      "File \u001b[0;32m~/miniforge3/envs/STI/lib/python3.12/site-packages/pandas/core/indexes/base.py:3812\u001b[0m, in \u001b[0;36mIndex.get_loc\u001b[0;34m(self, key)\u001b[0m\n\u001b[1;32m   3807\u001b[0m     \u001b[39mif\u001b[39;00m \u001b[39misinstance\u001b[39m(casted_key, \u001b[39mslice\u001b[39m) \u001b[39mor\u001b[39;00m (\n\u001b[1;32m   3808\u001b[0m         \u001b[39misinstance\u001b[39m(casted_key, abc\u001b[39m.\u001b[39mIterable)\n\u001b[1;32m   3809\u001b[0m         \u001b[39mand\u001b[39;00m \u001b[39many\u001b[39m(\u001b[39misinstance\u001b[39m(x, \u001b[39mslice\u001b[39m) \u001b[39mfor\u001b[39;00m x \u001b[39min\u001b[39;00m casted_key)\n\u001b[1;32m   3810\u001b[0m     ):\n\u001b[1;32m   3811\u001b[0m         \u001b[39mraise\u001b[39;00m InvalidIndexError(key)\n\u001b[0;32m-> 3812\u001b[0m     \u001b[39mraise\u001b[39;00m \u001b[39mKeyError\u001b[39;00m(key) \u001b[39mfrom\u001b[39;00m \u001b[39merr\u001b[39;00m\n\u001b[1;32m   3813\u001b[0m \u001b[39mexcept\u001b[39;00m \u001b[39mTypeError\u001b[39;00m:\n\u001b[1;32m   3814\u001b[0m     \u001b[39m# If we have a listlike key, _check_indexing_error will raise\u001b[39;00m\n\u001b[1;32m   3815\u001b[0m     \u001b[39m#  InvalidIndexError. Otherwise we fall through and re-raise\u001b[39;00m\n\u001b[1;32m   3816\u001b[0m     \u001b[39m#  the TypeError.\u001b[39;00m\n\u001b[1;32m   3817\u001b[0m     \u001b[39mself\u001b[39m\u001b[39m.\u001b[39m_check_indexing_error(key)\n",
      "\u001b[0;31mKeyError\u001b[0m: 'prompt_nodesc'"
     ]
    }
   ],
   "source": [
    "prompts.iloc[0]['prompt_nodesc']"
   ]
  }
 ],
 "metadata": {
  "kernelspec": {
   "display_name": "Python 3.12.3 ('STI')",
   "language": "python",
   "name": "python3"
  },
  "language_info": {
   "codemirror_mode": {
    "name": "ipython",
    "version": 3
   },
   "file_extension": ".py",
   "mimetype": "text/x-python",
   "name": "python",
   "nbconvert_exporter": "python",
   "pygments_lexer": "ipython3",
   "version": "3.12.3"
  },
  "orig_nbformat": 4,
  "vscode": {
   "interpreter": {
    "hash": "2268df63e3314f5c0fa267e7a7d58ca881c28135e668c4afe664cdf6d7ddd66d"
   }
  }
 },
 "nbformat": 4,
 "nbformat_minor": 2
}
