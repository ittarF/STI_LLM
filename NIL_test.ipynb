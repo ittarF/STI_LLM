{
 "cells": [
  {
   "cell_type": "markdown",
   "metadata": {},
   "source": [
    "## Imports"
   ]
  },
  {
   "cell_type": "code",
   "execution_count": 44,
   "metadata": {},
   "outputs": [],
   "source": [
    "import pandas as pd\n",
    "import os\n",
    "from main import list_files_in_folder\n",
    "from dotenv import load_dotenv\n",
    "from dataClass import DataTable\n",
    "from langchain_mistralai import ChatMistralAI\n",
    "import json\n",
    "from tqdm import tqdm\n",
    "from utils import get_table_str, candidates_as_str, build_prompt\n",
    "from prompts import generate_CEA_prompt_with_t_desc\n",
    "import time"
   ]
  },
  {
   "cell_type": "markdown",
   "metadata": {},
   "source": [
    "## LLMs"
   ]
  },
  {
   "cell_type": "code",
   "execution_count": 20,
   "metadata": {},
   "outputs": [],
   "source": [
    "mistral_api_key = os.getenv(\"MISTRAL_API_KEY\")\n",
    "model_22 = \"open-mixtral-8x22b\"\n",
    "model_7 = \"open-mixtral-8x7b\"\n",
    "llm_22 = ChatMistralAI(model=model_22, temperature=0, api_key=mistral_api_key)\n",
    "llm_7 = ChatMistralAI(model=model_7, temperature=0, api_key=mistral_api_key)"
   ]
  },
  {
   "cell_type": "markdown",
   "metadata": {},
   "source": [
    "## Data"
   ]
  },
  {
   "cell_type": "code",
   "execution_count": 36,
   "metadata": {},
   "outputs": [
    {
     "name": "stdout",
     "output_type": "stream",
     "text": [
      "Number of Tables: 200\n"
     ]
    }
   ],
   "source": [
    "# This json contains for each cell to be annotated, a list of possible candidates\n",
    "# retrieved with LamAPI but without the right candidate.\n",
    "with open('nogit/HardTablesR1_Valid_CEA_ER_without_gt.json') as f:\n",
    "    data = json.load(f) \n",
    "with open('nogit/table_descriptionsHTV.json') as f:\n",
    "    table_descriptions = json.load(f) \n",
    "\n",
    "gt_path = 'data/HardTablesR1/DataSets/HardTablesR1/Valid/gt/cea_gt.csv'\n",
    "gt = pd.read_csv(gt_path, header=None)\n",
    "\n",
    "print(f\"Number of Tables: {len(data)}\")"
   ]
  },
  {
   "cell_type": "code",
   "execution_count": 37,
   "metadata": {},
   "outputs": [
    {
     "name": "stdout",
     "output_type": "stream",
     "text": [
      "Number of cells: 1406\n"
     ]
    }
   ],
   "source": [
    "ncells = 0\n",
    "for k, v in data.items():\n",
    "    ncells += len(v)\n",
    "print(f\"Number of cells: {ncells}\")\n",
    "\n",
    "if ncells != len(gt):\n",
    "    print(\"Cells in ground_truth don't match cells in test set.\")"
   ]
  },
  {
   "cell_type": "code",
   "execution_count": 43,
   "metadata": {},
   "outputs": [
    {
     "name": "stderr",
     "output_type": "stream",
     "text": [
      "0it [00:00, ?it/s]"
     ]
    },
    {
     "name": "stdout",
     "output_type": "stream",
     "text": [
      "0 NQK7B1JD 0 1 http://www.wikidata.org/entity/Q7996268\n",
      "\n",
      "Table:\n",
      "                    col0  col1   col2\n",
      "0      lincoln township   209  42.56\n",
      "1  stony creek township   265  28.28\n",
      "2     hartford township   257  24.08\n",
      "\n",
      "Table Description:\n",
      " {'col0': \"Column 0 contains names of townships, which are small divisions of a county responsible for providing local services. The townships in this column are from an unknown geographical region in the United States, as they follow the common naming convention of using 'township' in their name.\", 'col1': 'Column 1 contains integer values that likely represent population counts for each township. These values range from 209 to 265, indicating small to moderately-sized townships.', 'col2': 'Column 2 contains decimal values that likely represent the geographical area of each township in square miles. These values range from 24.08 to 42.56, indicating that the townships are relatively small in size.'}\n",
      "dict_keys(['(1, 0)', '(2, 0)', '(3, 0)'])\n"
     ]
    },
    {
     "name": "stderr",
     "output_type": "stream",
     "text": [
      "\n"
     ]
    }
   ],
   "source": [
    "table_name = None\n",
    "export = {}\n",
    "for i, (name, r, c, l)  in tqdm(gt.iterrows()):\n",
    "    print(i, name, c, r, l)\n",
    "    \n",
    "    if name != table_name:\n",
    "        table_name = name\n",
    "        table = DataTable(f\"data/HardTablesR1/DataSets/HardTablesR1/Valid/tables/{name}.csv\")\n",
    "        table.t_desc = table_descriptions[table_name]\n",
    "        export[name] = {}\n",
    "        table_as_str = get_table_str(table.data)\n",
    "\n",
    "    \n",
    "    print(f\"\\nTable:\\n {table.data}\")\n",
    "    print(f\"\\nTable Description:\\n {table.t_desc}\")\n",
    "    \n",
    "    print(data[name].keys())\n",
    "    \n",
    "    \n",
    "    # Perform CEA (we want all NILs):\n",
    "    cell_content = data[name][str((r, c))]['cell']\n",
    "    prompt = generate_CEA_prompt_with_t_desc(table.data, cell_content, candidates_as_str(data[name][str((r, c))]['retrieved_list']), table.t_desc)\n",
    "    #print(f\"\\nPrompt:\\n{prompt}\\n\\n\")\n",
    "    out = llm_7.invoke(prompt)\n",
    "    time.sleep(2)\n",
    "    # print(out.content)\n",
    "    y_true.append(target_id)\n",
    "    y_pred.append(out.content)\n",
    "    index.append(i)\n",
    "    export[name][str((r, c))] = {\n",
    "        'cell': cell_content,\n",
    "        'table_desc': table.t_desc,\n",
    "        'cea_prompt': prompt,\n",
    "        'cea_model': llm_7.model,\n",
    "        'model_out': out.content\n",
    "    }"
   ]
  },
  {
   "cell_type": "code",
   "execution_count": 34,
   "metadata": {},
   "outputs": [],
   "source": [
    "with open('nogit/table_descriptionsHTV.json', 'w') as f:\n",
    "    json.dump(table_descriptions, f)"
   ]
  },
  {
   "cell_type": "code",
   "execution_count": 46,
   "metadata": {},
   "outputs": [
    {
     "data": {
      "text/plain": [
       "34294"
      ]
     },
     "execution_count": 46,
     "metadata": {},
     "output_type": "execute_result"
    }
   ],
   "source": [
    "tables_path = 'data/SemTab2020_Table_GT_Target/Round1/tables'\n",
    "tables = list_files_in_folder(tables_path)\n",
    "len(tables)"
   ]
  },
  {
   "cell_type": "code",
   "execution_count": null,
   "metadata": {},
   "outputs": [],
   "source": []
  }
 ],
 "metadata": {
  "kernelspec": {
   "display_name": "Python 3.12.3 ('STI')",
   "language": "python",
   "name": "python3"
  },
  "language_info": {
   "codemirror_mode": {
    "name": "ipython",
    "version": 3
   },
   "file_extension": ".py",
   "mimetype": "text/x-python",
   "name": "python",
   "nbconvert_exporter": "python",
   "pygments_lexer": "ipython3",
   "version": "3.12.3"
  },
  "orig_nbformat": 4,
  "vscode": {
   "interpreter": {
    "hash": "2268df63e3314f5c0fa267e7a7d58ca881c28135e668c4afe664cdf6d7ddd66d"
   }
  }
 },
 "nbformat": 4,
 "nbformat_minor": 2
}
