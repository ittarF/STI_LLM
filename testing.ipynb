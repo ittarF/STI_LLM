{
 "cells": [
  {
   "cell_type": "markdown",
   "metadata": {},
   "source": [
    "## Imports"
   ]
  },
  {
   "cell_type": "code",
   "execution_count": 1,
   "metadata": {},
   "outputs": [],
   "source": [
    "import os\n",
    "from dotenv import load_dotenv\n",
    "from dataClass import DataTable\n",
    "from langchain_mistralai import ChatMistralAI\n",
    "import json"
   ]
  },
  {
   "cell_type": "code",
   "execution_count": 2,
   "metadata": {},
   "outputs": [],
   "source": [
    "def list_files_in_folder(folder_path):\n",
    "    try:\n",
    "        # Get a list of all entries in the directory\n",
    "        entries = os.listdir(folder_path)\n",
    "        \n",
    "        # Filter out the files from the entries\n",
    "        files = [os.path.join(folder_path, entry) for entry in entries if os.path.isfile(os.path.join(folder_path, entry))]\n",
    "        \n",
    "        return files\n",
    "    except FileNotFoundError:\n",
    "        return f\"The folder '{folder_path}' does not exist.\"\n",
    "    except Exception as e:\n",
    "        return f\"An error occurred: {e}\""
   ]
  },
  {
   "cell_type": "markdown",
   "metadata": {},
   "source": [
    "## Load Data"
   ]
  },
  {
   "cell_type": "code",
   "execution_count": 3,
   "metadata": {},
   "outputs": [
    {
     "name": "stdout",
     "output_type": "stream",
     "text": [
      "\n",
      "Number of tables: 200\n",
      "\n"
     ]
    }
   ],
   "source": [
    "load_dotenv()\n",
    "mistral_api_key = os.getenv(\"MISTRAL_API_KEY\")\n",
    "lamapi_key = os.getenv(\"LAMAPI_KEY\")\n",
    "model = \"open-mixtral-8x7b\"\n",
    "llm = ChatMistralAI(model=model, temperature=0, api_key=mistral_api_key)\n",
    "tables_path = 'data/HardTablesR1/DataSets/HardTablesR1/Valid/tables'\n",
    "tables = list_files_in_folder(tables_path)\n",
    "print(f\"\\nNumber of tables: {len(tables)}\\n\")"
   ]
  },
  {
   "cell_type": "code",
   "execution_count": 4,
   "metadata": {},
   "outputs": [],
   "source": [
    "t = DataTable(tables[1])"
   ]
  },
  {
   "cell_type": "code",
   "execution_count": 5,
   "metadata": {},
   "outputs": [
    {
     "name": "stdout",
     "output_type": "stream",
     "text": [
      "Table name: DFRU6OJ0\n",
      "Table shape: (6, 2)\n"
     ]
    }
   ],
   "source": [
    "print(f\"Table name: {t.name}\")\n",
    "print(f\"Table shape: {t.data.shape}\")"
   ]
  },
  {
   "cell_type": "code",
   "execution_count": 6,
   "metadata": {},
   "outputs": [
    {
     "data": {
      "text/html": [
       "<div>\n",
       "<style scoped>\n",
       "    .dataframe tbody tr th:only-of-type {\n",
       "        vertical-align: middle;\n",
       "    }\n",
       "\n",
       "    .dataframe tbody tr th {\n",
       "        vertical-align: top;\n",
       "    }\n",
       "\n",
       "    .dataframe thead th {\n",
       "        text-align: right;\n",
       "    }\n",
       "</style>\n",
       "<table border=\"1\" class=\"dataframe\">\n",
       "  <thead>\n",
       "    <tr style=\"text-align: right;\">\n",
       "      <th></th>\n",
       "      <th>col0</th>\n",
       "      <th>col1</th>\n",
       "    </tr>\n",
       "  </thead>\n",
       "  <tbody>\n",
       "    <tr>\n",
       "      <th>0</th>\n",
       "      <td>predlitz</td>\n",
       "      <td>157</td>\n",
       "    </tr>\n",
       "    <tr>\n",
       "      <th>1</th>\n",
       "      <td>stadtbergen</td>\n",
       "      <td>164</td>\n",
       "    </tr>\n",
       "    <tr>\n",
       "      <th>2</th>\n",
       "      <td>michelstetten</td>\n",
       "      <td>157</td>\n",
       "    </tr>\n",
       "    <tr>\n",
       "      <th>3</th>\n",
       "      <td>ahorn</td>\n",
       "      <td>169</td>\n",
       "    </tr>\n",
       "    <tr>\n",
       "      <th>4</th>\n",
       "      <td>stillfried</td>\n",
       "      <td>169</td>\n",
       "    </tr>\n",
       "    <tr>\n",
       "      <th>5</th>\n",
       "      <td>oberweg</td>\n",
       "      <td>164</td>\n",
       "    </tr>\n",
       "  </tbody>\n",
       "</table>\n",
       "</div>"
      ],
      "text/plain": [
       "            col0  col1\n",
       "0       predlitz   157\n",
       "1    stadtbergen   164\n",
       "2  michelstetten   157\n",
       "3          ahorn   169\n",
       "4     stillfried   169\n",
       "5        oberweg   164"
      ]
     },
     "execution_count": 6,
     "metadata": {},
     "output_type": "execute_result"
    }
   ],
   "source": [
    "t.data"
   ]
  },
  {
   "cell_type": "markdown",
   "metadata": {},
   "source": [
    "## Generate table description"
   ]
  },
  {
   "cell_type": "code",
   "execution_count": 7,
   "metadata": {},
   "outputs": [
    {
     "name": "stdout",
     "output_type": "stream",
     "text": [
      "For every column write a short description, in the format: {\"0\": \"description of column 0\", \"1\": \"description of column 1\", ..., \"n\": \"description of column n\"}. Cells of the same column represent must have be of the same type (all football teams, all actors, etc.)\n",
      "\n",
      "Table:\n",
      "| col0 | col1 |\n",
      "|------|------|\n",
      "| predlitz | 157 |\n",
      "| stadtbergen | 164 |\n",
      "| michelstetten | 157 |\n",
      "| ahorn | 169 |\n",
      "| stillfried | 169 |\n",
      "| oberweg | 164 |\n",
      "\n",
      "\n",
      "\n"
     ]
    }
   ],
   "source": [
    "from prompts import generate_tableDesc_prompt\n",
    "\n",
    "prompt = generate_tableDesc_prompt(t.data)\n",
    "print(prompt)"
   ]
  },
  {
   "cell_type": "code",
   "execution_count": 8,
   "metadata": {},
   "outputs": [
    {
     "name": "stdout",
     "output_type": "stream",
     "text": [
      "{'0': 'Column 0 contains names of places, which could be towns or villages.', '1': 'Column 1 contains numbers, which could represent various metrics associated with the corresponding place in column 0, such as population size, elevation, or some other relevant statistic.'}\n"
     ]
    }
   ],
   "source": [
    "t.generate_t_description(llm)\n",
    "print(t.t_desc)"
   ]
  },
  {
   "cell_type": "markdown",
   "metadata": {},
   "source": [
    "## Columns Classification"
   ]
  },
  {
   "cell_type": "code",
   "execution_count": 9,
   "metadata": {},
   "outputs": [
    {
     "name": "stdout",
     "output_type": "stream",
     "text": [
      "You are to classify each column in a given table as either a Named Entity Column (NEC) or a Literal Column (LC).\n",
      "\n",
      "Definitions:\n",
      "- Named Entity Column (NEC): Columns that contain names of people, organizations, locations, or other proper nouns.\n",
      "- Literal Column (LC): Columns that contain numerical values, dates, measurements, or other literal values.\n",
      "\n",
      "Examples:\n",
      "- Named Entity Column (NEC) Examples:\n",
      "  - Column with values: [\"John Doe\", \"Jane Smith\", \"Company XYZ\", \"Paris\"]\n",
      "  - Column with values: [\"Microsoft\", \"Apple\", \"Google\", \"Amazon\"]\n",
      "\n",
      "- Literal Column (LC) Examples:\n",
      "  - Column with values: [34, 56, 78, 23]\n",
      "  - Column with values: [\"2021-01-01\", \"2022-05-12\", \"2023-08-23\"]\n",
      "  - Column with values: [5.6, 3.4, 2.8, 4.5]\n",
      "\n",
      "Table for Classification:\n",
      "| col0 | col1 |\n",
      "|------|------|\n",
      "| predlitz | 157 |\n",
      "| stadtbergen | 164 |\n",
      "| michelstetten | 157 |\n",
      "| ahorn | 169 |\n",
      "| stillfried | 169 |\n",
      "| oberweg | 164 |\n",
      "\n",
      "\n",
      "Classification Request:\n",
      "Based on the above definitions and examples, please classify each column in the provided table as either Named Entity Column (NEC) or Literal Column (LC).\n",
      "Please provide the response strictly in the format {'column indexs': 'classification'}. Do not include any additional text or explanation.\n",
      "Example: {'0': 'NEC', '1': 'LC', '2': NEC} \n",
      "Wrong Answer: {'col0': 'NEC', 'col1': 'LC', 'col2': NEC}. keys must be string of integers\n",
      "\n",
      "Classification:\n",
      "\n"
     ]
    }
   ],
   "source": [
    "from prompts import generate_NER_prompt\n",
    "\n",
    "prompt = generate_NER_prompt(t.data)\n",
    "print(prompt)"
   ]
  },
  {
   "cell_type": "code",
   "execution_count": 10,
   "metadata": {},
   "outputs": [
    {
     "name": "stdout",
     "output_type": "stream",
     "text": [
      "{'0': 'NEC', '1': 'LC'}\n"
     ]
    }
   ],
   "source": [
    "t.generate_ner_labels(llm)\n",
    "print(t.ner)"
   ]
  },
  {
   "cell_type": "markdown",
   "metadata": {},
   "source": [
    "## Cell Entity Annotation"
   ]
  },
  {
   "cell_type": "code",
   "execution_count": 11,
   "metadata": {},
   "outputs": [
    {
     "name": "stdout",
     "output_type": "stream",
     "text": [
      "Based on the table, table description, cell content and retrieved entities and their types you have to associate the cell content to one of the retrieved entities \n",
      "\n",
      "Table:\n",
      "| col0 | col1 |\n",
      "|------|------|\n",
      "| predlitz | 157 |\n",
      "| stadtbergen | 164 |\n",
      "| michelstetten | 157 |\n",
      "| ahorn | 169 |\n",
      "| stillfried | 169 |\n",
      "| oberweg | 164 |\n",
      "\n",
      "\n",
      "Table Description: {'0': 'Column 0 contains names of places, which could be towns or villages.', '1': 'Column 1 contains numbers, which could represent various metrics associated with the corresponding place in column 0, such as population size, elevation, or some other relevant statistic.'}\n",
      "\n",
      "Cell Content: predlitz\n",
      "\n",
      "Retrieved Entities and their types: {id: Q28020967, Predlitz, types: { Wikimedia disambiguation page}}, {id: Q42344347, Predlitz, types: { cadastral municipality of Austria}, { locality}}, {id: Q82019201, Preilitz, types: { locality}}, {id: Q29572069, Pr\\u00f6dlitz, types: { Wikimedia disambiguation page}}, {id: Q37777803, Redlitz, types: { locality}, { village}}, {id: Q37789551, Predlitz - Messkapelle, types: { chapel}}, {id: Q110728245, Preuwitz, types: { cadastral municipality of Austria}, { locality}}, {id: Q1639515, Prellwitz, types: { Wikimedia disambiguation page}}, {id: Q37293397, Prellwitz, types: { family name}}, {id: Q696301, Preu\\u00dflitz, types: { Ortsteil}}, {id: Q1737626, presnitz, types: { null}}, {id: Q15840961, Pre\\u00dfnitz, types: { Wikimedia disambiguation page}}, {id: Q34828297, Predling, types: { Ortsteil}, { hamlet}}, {id: Q65088785, Creidlitz, types: { null}}, {id: Q37497433, Fredritz, types: { family name}}, {id: Q17517401, Jiedlitz, types: { Ortsteil}, { village}, { municipality in Germany}}, {id: Q102045315, Pr\\u00fchlitz, types: { street}}, {id: Q110573134, Preititz, types: { article}}, {id: Q24211903, Premnitz, types: { Wikimedia disambiguation page}}, {id: Q1414886, Pre\\u00dfwitz, types: { abandoned village}}, {id: Q585620, Premnitz, types: { urban municipality in Germany}}, {id: Q92768853, Creidlitz, types: { railway station}}, {id: Q2109396, Pre\\u00dfnitz, types: { river}}, {id: Q1139531, Creidlitz, types: { Ortsteil}}, {id: Q160462, Preititz, types: { Ortsteil}, { municipality in Germany}, { village}}, {id: Q32235643, Premnitz, types: { geographic location}}, {id: Q20826992, Drehlitz, types: { human settlement}}, {id: Q28920296, Kreblitz, types: { human settlement}, { Ortsteil}}, {id: Q91786525, Pre\\u00dfnitz, types: { human settlement}}, {id: Q51057987, Preinitz, types: { family name}}, {id: Q95711635, A. Redlitz, types: { human}}, {id: Q77386828, Prelicz, types: { family name}}, {id: Q24211954, Poelitz, types: { Wikimedia disambiguation page}}, {id: Q1440238, Sedlitz, types: { Ortsteil}}, {id: Q1734503, R\\u00f6dlitz, types: { Ortsteil}}, {id: Q505809, Redwitz, types: { non-urban municipality in Germany}}, {id: Q615831, Nedlitz, types: { Ortsteil}}, {id: Q124293045, Redwitz, types: { family name}}, {id: Q184333, Zedlitz, types: { Wikimedia disambiguation page}}, {id: Q1496445, Pehlitz, types: { Ortsteil}}, {id: Q49294463, Zedlitz, types: { municipality seat}}, {id: Q697389, Wedlitz, types: { Ortsteil}}, {id: Q47493335, Zedlitz, types: { family name}}, {id: Q32235523, Prebitz, types: { municipality seat}}, {id: Q1669322, Medlitz, types: { Ortsteil}, { parish village}}, {id: Q118176102, Prelicz, types: { Wikimedia disambiguation page}}, {id: Q184331, Zedlitz, types: { noble family}, { lineage}}, {id: Q2136438, Redwitz, types: { noble family}}, {id: Q24211907, Prebitz, types: { Wikimedia disambiguation page}}, {id: Q15125937, Redwitz, types: { human settlement}, { abandoned village}}, {id: Q10776793, Pielitz, types: { Ortsteil}, { municipality in Germany}}, {id: Q235414, Nedlitz, types: { Wikimedia disambiguation page}}, {id: Q121109027, Brelitz, types: { family name}}, {id: Q1974014, Nedlitz, types: { Ortsteil}}, {id: Q2136436, Redwitz, types: { Wikimedia disambiguation page}}, {id: Q104037495, Creditz, types: { encyclopedia article}}, {id: Q120717554, Medlitz, types: { railway stop}, { former railway station}}, {id: Q106120530, Perlitz, types: { family name}}, {id: Q503588, Prebitz, types: { non-urban municipality in Germany}}, {id: Q184339, Zedlitz, types: { non-urban municipality in Germany}}, {id: Q2136437, Redwitz, types: { German noble family}, { family}}, {id: Q184334, Zedlitz, types: { village of Poland}}, {id: Q1206168, Sedlitz, types: { Wikimedia disambiguation page}}, {id: Q694389, Rednitz, types: { river}}, {id: Q23765065, Rednitz, types: { abandoned village}}, {id: Q689566, Nedlitz, types: { Ortsteil}}, {id: Q37501212, Relitz, types: { family name}}, {id: Q113436729, Edlitz, types: { locality}}, {id: Q21880301, Edlitz, types: { locality}, { municipality seat}}, {id: Q123218720, Preitz, types: { family name}}, {id: Q110899045, Edlitz, types: { cadastral municipality of Austria}, { locality}}, {id: Q123218719, Preitz, types: { Wikimedia disambiguation page}}, {id: Q1285466, Edlitz, types: { Wikimedia disambiguation page}}, {id: Q701754, Edlitz, types: { market municipality}, { municipality of Austria}, { cadastral municipality of Austria}}, {id: Q112564294, J. F. Redlitz, types: { human}, { printer}}, {id: Q34417861, Kriegerdenkmal Preu\\u00dflitz, types: { architectural structure}}, {id: Q50804810, A. Preinitz, types: { human}, { author}, { philanthropist}, { null}}, {id: Q115907567, Premnitz Nord, types: { railway station}}, {id: Q115907579, Premnitz Zentrum, types: { railway station}}, {id: Q21985541, Henry Prellwitz, types: { human}, { painter}}, {id: Q25900887, Template:Pallamano Premnitz, types: { Wikimedia template}}, {id: Q20966109, ogun Pre\\u00dfnitz, types: { battle}}, {id: Q91239329, Dorfkirche Kreblitz, types: { church building}}, {id: Q116856463, Stadtkirche Premnitz, types: { church building}}, {id: Q21863188, Spreglitz Graben, types: { valley}}, {id: Q89780035, W. Prellwitz, types: { human}}, {id: Q114722006, M. Presnitz, types: { human}, { researcher}}, {id: Q2390933, Talsperre Pre\\u00dfnitz, types: { lake}}, {id: Q65064658, P. Prellwitz, types: { human}, { politician}, { civil servant}}, {id: Q28650222, E. Preinitz, types: { human}, { artist}}\n",
      "\n",
      "Classification Request:\n",
      " Study the table and the retrieved entities along with their types then associate the cell to the correct entity choosen between the list of retrieved entities.\n",
      "Please provide the response strictly in the format [[[choosen_entity_id]]]. Do not include any additional text or explanation.\n",
      "Example of your answer:[[[Q89029]]]\n",
      "\n",
      "Chosen Entity ID:\n",
      "\n"
     ]
    }
   ],
   "source": [
    "from prompts import generate_CEA_prompt_with_t_desc\n",
    "from dataClass import LamAPI\n",
    "\n",
    "cell_content = t.data.iloc[0,0] # Show prompt only for the first cell\n",
    "ER = LamAPI(cell_content)\n",
    "prompt = generate_CEA_prompt_with_t_desc(t.data, cell_content, ER, t.t_desc)\n",
    "print(prompt)"
   ]
  },
  {
   "cell_type": "code",
   "execution_count": 13,
   "metadata": {},
   "outputs": [
    {
     "name": "stdout",
     "output_type": "stream",
     "text": [
      "{'(0, 0)': {'id': 'Q42344347', 'llm_output': '[[[Q42344347]]]'}, '(1, 0)': {'id': 'Q503300', 'llm_output': '[[[Q503300]]]'}, '(2, 0)': {'id': 'Q33103647', 'llm_output': '[[[Q33103647]]]'}, '(3, 0)': {'id': 'Q29015792', 'llm_output': '[[[Q29015792]]]'}, '(4, 0)': {'id': 'Q2349606', 'llm_output': '[[[Q2349606]]]'}, '(5, 0)': {'id': 'Q696108', 'llm_output': '[[[Q696108]]]'}}\n"
     ]
    }
   ],
   "source": [
    "t.generate_cea_annotatons(llm)\n",
    "print(t.cea)"
   ]
  },
  {
   "cell_type": "markdown",
   "metadata": {},
   "source": [
    "## Evaluation"
   ]
  },
  {
   "cell_type": "code",
   "execution_count": 14,
   "metadata": {},
   "outputs": [
    {
     "name": "stdout",
     "output_type": "stream",
     "text": [
      "DFRU6OJ0\n"
     ]
    }
   ],
   "source": [
    "import pandas as pd\n",
    "gt = pd.read_csv('data/HardTablesR1/DataSets/HardTablesR1/Valid/gt/cea_gt.csv', header=None)  \n",
    "\n",
    "print(t.name)"
   ]
  },
  {
   "cell_type": "code",
   "execution_count": 18,
   "metadata": {},
   "outputs": [
    {
     "name": "stdout",
     "output_type": "stream",
     "text": [
      "            0  1  2                                         3\n",
      "595  DFRU6OJ0  1  0  http://www.wikidata.org/entity/Q42344347\n",
      "596  DFRU6OJ0  2  0  http://www.wikidata.org/entity/Q41709246\n",
      "597  DFRU6OJ0  3  0  http://www.wikidata.org/entity/Q33103647\n",
      "598  DFRU6OJ0  4  0  http://www.wikidata.org/entity/Q29015792\n",
      "599  DFRU6OJ0  5  0   http://www.wikidata.org/entity/Q2349606\n",
      "600  DFRU6OJ0  6  0   http://www.wikidata.org/entity/Q2011429\n"
     ]
    }
   ],
   "source": [
    "filtered_df = gt[gt[0] == 'DFRU6OJ0']\n",
    "print(filtered_df)"
   ]
  },
  {
   "cell_type": "code",
   "execution_count": 19,
   "metadata": {},
   "outputs": [
    {
     "name": "stdout",
     "output_type": "stream",
     "text": [
      "(0, 0) Q42344347\n",
      "(1, 0) Q503300\n",
      "(2, 0) Q33103647\n",
      "(3, 0) Q29015792\n",
      "(4, 0) Q2349606\n",
      "(5, 0) Q696108\n"
     ]
    }
   ],
   "source": [
    "pred = []\n",
    "for cell in t.cea:\n",
    "    print(cell, t.cea[cell]['id'])"
   ]
  }
 ],
 "metadata": {
  "kernelspec": {
   "display_name": "Python 3.12.3 ('STI')",
   "language": "python",
   "name": "python3"
  },
  "language_info": {
   "codemirror_mode": {
    "name": "ipython",
    "version": 3
   },
   "file_extension": ".py",
   "mimetype": "text/x-python",
   "name": "python",
   "nbconvert_exporter": "python",
   "pygments_lexer": "ipython3",
   "version": "3.12.3"
  },
  "orig_nbformat": 4,
  "vscode": {
   "interpreter": {
    "hash": "2268df63e3314f5c0fa267e7a7d58ca881c28135e668c4afe664cdf6d7ddd66d"
   }
  }
 },
 "nbformat": 4,
 "nbformat_minor": 2
}
