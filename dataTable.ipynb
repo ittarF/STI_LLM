{
 "cells": [
  {
   "cell_type": "markdown",
   "metadata": {},
   "source": [
    "# Imports"
   ]
  },
  {
   "cell_type": "code",
   "execution_count": 7,
   "metadata": {},
   "outputs": [],
   "source": [
    "import pandas as pd\n",
    "import os"
   ]
  },
  {
   "cell_type": "code",
   "execution_count": 219,
   "metadata": {},
   "outputs": [],
   "source": [
    "def LamAPI(cell_content):\n",
    "    \n",
    "    url = 'https://lamapi.hel.sintef.cloud/lookup/entity-retrieval'\n",
    "    params = {\n",
    "        'name': f'{cell_content}',\n",
    "        'token': 'lamapi_demo_2023',\n",
    "        'kg': 'wikidata',\n",
    "        'fuzzy': 'True'\n",
    "    }\n",
    "    headers = {'accept': 'application/json'}\n",
    "\n",
    "    response = requests.get(url, params=params, headers=headers)\n",
    "\n",
    "    if response.status_code == 200:\n",
    "        data = response.json()\n",
    "        # Process the JSON data here\n",
    "    else:\n",
    "        print(\"Error:\", response.status_code)\n",
    "    \n",
    "    list_of_dicts = data[f'{cell_content}']\n",
    "    keys_to_select = ['id', 'name', 'types']\n",
    "\n",
    "    selected_dicts = [{k: v for k, v in d.items() if k in keys_to_select} for d in list_of_dicts]\n",
    "    res_dict = {d['id']: d for d in selected_dicts}\n",
    "    \n",
    "    for item in selected_dicts:\n",
    "        for type_dict in item['types']:\n",
    "            if 'id' in type_dict:\n",
    "                del type_dict['id']\n",
    "\n",
    "    string = json.dumps(selected_dicts)\n",
    "    string = string.replace('\"', '').replace('name:', '').replace('  ', ' ').replace('[', '').replace(']', '')\n",
    "    \n",
    "    return string"
   ]
  },
  {
   "cell_type": "code",
   "execution_count": 218,
   "metadata": {},
   "outputs": [],
   "source": [
    "def generate_CEA_prompt(df, cell_content, ER):\n",
    "    '''\n",
    "    input:\n",
    "        df: pandas dataframe\n",
    "        cell_content : str\n",
    "        ER: retrieved entities from lamapi\n",
    "    '''\n",
    "    task_description = \"You are to choose which retrieved entity is the correct entity to be associated to the cell content\"\n",
    "    # Extract column names\n",
    "    column_names = df.columns.tolist()\n",
    "    \n",
    "    # Construct the table for display in the prompt\n",
    "    table_str = \"Table:\\n\"\n",
    "    table_str += \"| \" + \" | \".join(column_names) + \" |\\n\"\n",
    "    table_str += \"|-\" + \"-|-\".join([\"-\" * len(col) for col in column_names]) + \"-|\\n\"\n",
    "    for index, row in df.iterrows():\n",
    "        row_str = \"| \" + \" | \".join(str(row[col]) for col in column_names) + \" |\\n\"\n",
    "        table_str += row_str\n",
    "    cell = f\"Cell Content: {cell_content}\"\n",
    "    entities = f\"Retrieved Entities and their types: {ER}\"\n",
    "    # Add classification request\n",
    "    classification_request = \"Classification Request:\\n Please associate the cell to the correct entity choosen between the list of retrieved entities along with their types.\\nPlease provide the response strictly in the format {'id': 'entity_id'}. Do not include any additional text or explanation.\\nExample: {'id': '12345'} \"\n",
    "    \n",
    "    classification_str = \"Chosen Entity ID:\\n\"\n",
    "    #for i, col in enumerate(column_names, start=1):\n",
    "    #    classification_str += f\"{i}. {col}: [Your classification]\\n\"\n",
    "    \n",
    "    # Combine all parts to form the final prompt\n",
    "    prompt = (\n",
    "        f\"{task_description}\\n\\n\"\n",
    "        f\"{table_str}\\n\\n\"\n",
    "        f\"{cell}\\n\\n\"\n",
    "        f\"{ER}\\n\\n\"\n",
    "        f\"{classification_request}\\n\\n\"\n",
    "        f\"{classification_str}\"\n",
    "    )\n",
    "    \n",
    "    return prompt"
   ]
  },
  {
   "cell_type": "markdown",
   "metadata": {},
   "source": [
    "# Basic classes and functions"
   ]
  },
  {
   "cell_type": "code",
   "execution_count": 262,
   "metadata": {},
   "outputs": [],
   "source": [
    "import pandas as pd\n",
    "import os\n",
    "import json\n",
    "from prompts import generate_NER_prompt, generate_CEA_prompt\n",
    "from tqdm import tqdm\n",
    "\n",
    "class DataTable:\n",
    "    def __init__(self, file_path):\n",
    "        self.file_path = file_path\n",
    "        self.name = self.file_path.split('/')[-1].strip('.csv').strip('.json')\n",
    "        self.ner = None\n",
    "        self.cea = None\n",
    "        if file_path.endswith('.csv'):\n",
    "            self.data = pd.read_csv(file_path)\n",
    "        elif file_path.endswith('.json'):\n",
    "            self.data = pd.read_json(file_path)\n",
    "        else:\n",
    "            raise ValueError(\"Unsupported file format. Please use a CSV or JSON file.\")\n",
    "\n",
    "        # Convert all cells to lowercase\n",
    "        self.data = self.data.map(lambda x: x.lower() if isinstance(x, str) else x)\n",
    "\n",
    "    def get_column(self, column_index):\n",
    "        if 0 <= column_index < len(self.data.columns):\n",
    "            return self.data.iloc[:, column_index]\n",
    "        else:\n",
    "            raise IndexError(f\"Column index '{column_index}' is out of range.\")\n",
    "\n",
    "    def get_row(self, row_index):\n",
    "        if 0 <= row_index < len(self.data):\n",
    "            return self.data.iloc[row_index]\n",
    "        else:\n",
    "            raise IndexError(\"Row index out of range.\")\n",
    "\n",
    "    def get_cell(self, row_index, column_index):\n",
    "        if not (0 <= column_index < len(self.data.columns)):\n",
    "            raise IndexError(f\"Column index '{column_index}' is out of range.\")\n",
    "        if not (0 <= row_index < len(self.data)):\n",
    "            raise IndexError(\"Row index out of range.\")\n",
    "        return self.data.iat[row_index, column_index]\n",
    "\n",
    "    def shape(self):\n",
    "        return self.data.shape\n",
    "    \n",
    "    def generate_ner_labels(self, llm):\n",
    "        if(self.ner==None):\n",
    "            prompt = generate_NER_prompt(self.data)\n",
    "            out = llm.invoke(prompt)\n",
    "            self.ner = json.loads(out.content.replace(\"'\", '\"'))\n",
    "        else:\n",
    "            print(\"Labels already generated.\\n\")\n",
    "        return self.ner        \n",
    "    \n",
    "    def generate_cea_annotatons(self, llm):\n",
    "        cea_dict = {}\n",
    "        if (self.ner == None):\n",
    "            return 'Perform Columns Named Entities classification first!'\n",
    "        if (self.cea == None):\n",
    "            print('passed')\n",
    "            ner_columns_idx = [idx for idx in range(len(self.ner)) if self.ner[str(idx)] == 'NEC']\n",
    "            for j in ner_columns_idx:\n",
    "                for i in range(len(self.data)):\n",
    "                \n",
    "                    cell_content = self.data.iloc[i, j]\n",
    "                    entity_retrieval = LamAPI(cell_content) \n",
    "                    prompt = generate_CEA_prompt(self.data, cell_content, entity_retrieval)\n",
    "                    out = llm.invoke(prompt)\n",
    "                    cea_out = out.content.replace(\"'\", '\"')\n",
    "                    cea_out = json.loads(cea_out)\n",
    "                    cea_dict[str((i,j))] = {'id': cea_out['id'], 'llm_output': out.content}\n",
    "            self.cea = cea_dict\n",
    "        else:\n",
    "            print('CEA annotations already generated.')\n",
    "        return cea_dict        \n",
    "        \n",
    "    def save_json(self, folder):\n",
    "        dict = {\n",
    "            \"name\": self.name,\n",
    "            \"named_entity_columns\": self.ner,\n",
    "            \"cea\": self.cea\n",
    "        }\n",
    "        # Serialize data into file:\n",
    "        json.dump(dict, open(folder + f\"/{self.name}.json\", 'w'))\n",
    "        print(f\"Saved as: {folder}/{self.name}.json\")\n",
    "        return\n",
    "    "
   ]
  },
  {
   "cell_type": "code",
   "execution_count": 140,
   "metadata": {},
   "outputs": [],
   "source": [
    "\n",
    "def list_files_in_folder(folder_path):\n",
    "    try:\n",
    "        # Get a list of all entries in the directory\n",
    "        entries = os.listdir(folder_path)\n",
    "        \n",
    "        # Filter out the files from the entries\n",
    "        files = [os.path.join(folder_path, entry) for entry in entries if os.path.isfile(os.path.join(folder_path, entry))]\n",
    "        \n",
    "        return files\n",
    "    except FileNotFoundError:\n",
    "        return f\"The folder '{folder_path}' does not exist.\"\n",
    "    except Exception as e:\n",
    "        return f\"An error occurred: {e}\"\n"
   ]
  },
  {
   "cell_type": "markdown",
   "metadata": {},
   "source": [
    "# Pre - Processing\n",
    "\n",
    "- Cells are converted into lowercase (implemented in DataTable class)\n",
    "- Preliminary set of annotations:\n",
    "    - Literal-column or Named Entity Column"
   ]
  },
  {
   "cell_type": "code",
   "execution_count": null,
   "metadata": {},
   "outputs": [],
   "source": []
  },
  {
   "cell_type": "code",
   "execution_count": 266,
   "metadata": {},
   "outputs": [
    {
     "name": "stdout",
     "output_type": "stream",
     "text": [
      "200\n",
      "Table name: ZRWO683W\n",
      "\n",
      "Table shape: (7, 2)\n",
      "\n",
      "passed\n"
     ]
    },
    {
     "ename": "KeyError",
     "evalue": "'0'",
     "output_type": "error",
     "traceback": [
      "\u001b[0;31m---------------------------------------------------------------------------\u001b[0m",
      "\u001b[0;31mKeyError\u001b[0m                                  Traceback (most recent call last)",
      "Cell \u001b[0;32mIn[266], line 11\u001b[0m\n\u001b[1;32m      9\u001b[0m \u001b[38;5;28mprint\u001b[39m(\u001b[38;5;124mf\u001b[39m\u001b[38;5;124m\"\u001b[39m\u001b[38;5;124mTable shape: \u001b[39m\u001b[38;5;132;01m{\u001b[39;00mt\u001b[38;5;241m.\u001b[39mshape()\u001b[38;5;132;01m}\u001b[39;00m\u001b[38;5;130;01m\\n\u001b[39;00m\u001b[38;5;124m\"\u001b[39m)\n\u001b[1;32m     10\u001b[0m t\u001b[38;5;241m.\u001b[39mgenerate_ner_labels(llm)\n\u001b[0;32m---> 11\u001b[0m \u001b[43mt\u001b[49m\u001b[38;5;241;43m.\u001b[39;49m\u001b[43mgenerate_cea_annotatons\u001b[49m\u001b[43m(\u001b[49m\u001b[43mllm\u001b[49m\u001b[43m)\u001b[49m\n\u001b[1;32m     12\u001b[0m results[t\u001b[38;5;241m.\u001b[39mname] \u001b[38;5;241m=\u001b[39m {\n\u001b[1;32m     13\u001b[0m     \u001b[38;5;124m'\u001b[39m\u001b[38;5;124mnec\u001b[39m\u001b[38;5;124m'\u001b[39m: t\u001b[38;5;241m.\u001b[39mner,\n\u001b[1;32m     14\u001b[0m     \u001b[38;5;124m'\u001b[39m\u001b[38;5;124mcea\u001b[39m\u001b[38;5;124m'\u001b[39m: t\u001b[38;5;241m.\u001b[39mcea\n\u001b[1;32m     15\u001b[0m }\n\u001b[1;32m     16\u001b[0m json\u001b[38;5;241m.\u001b[39mdump(\u001b[38;5;28mdict\u001b[39m, \u001b[38;5;28mopen\u001b[39m(\u001b[38;5;124m'\u001b[39m\u001b[38;5;124mresults/HardTablesR1/Valid.json\u001b[39m\u001b[38;5;124m'\u001b[39m, \u001b[38;5;124m'\u001b[39m\u001b[38;5;124mw\u001b[39m\u001b[38;5;124m'\u001b[39m))\n",
      "Cell \u001b[0;32mIn[262], line 60\u001b[0m, in \u001b[0;36mDataTable.generate_cea_annotatons\u001b[0;34m(self, llm)\u001b[0m\n\u001b[1;32m     58\u001b[0m \u001b[38;5;28;01mif\u001b[39;00m (\u001b[38;5;28mself\u001b[39m\u001b[38;5;241m.\u001b[39mcea \u001b[38;5;241m==\u001b[39m \u001b[38;5;28;01mNone\u001b[39;00m):\n\u001b[1;32m     59\u001b[0m     \u001b[38;5;28mprint\u001b[39m(\u001b[38;5;124m'\u001b[39m\u001b[38;5;124mpassed\u001b[39m\u001b[38;5;124m'\u001b[39m)\n\u001b[0;32m---> 60\u001b[0m     ner_columns_idx \u001b[38;5;241m=\u001b[39m [idx \u001b[38;5;28;01mfor\u001b[39;00m idx \u001b[38;5;129;01min\u001b[39;00m \u001b[38;5;28mrange\u001b[39m(\u001b[38;5;28mlen\u001b[39m(\u001b[38;5;28mself\u001b[39m\u001b[38;5;241m.\u001b[39mner)) \u001b[38;5;28;01mif\u001b[39;00m \u001b[38;5;28;43mself\u001b[39;49m\u001b[38;5;241;43m.\u001b[39;49m\u001b[43mner\u001b[49m\u001b[43m[\u001b[49m\u001b[38;5;28;43mstr\u001b[39;49m\u001b[43m(\u001b[49m\u001b[43midx\u001b[49m\u001b[43m)\u001b[49m\u001b[43m]\u001b[49m \u001b[38;5;241m==\u001b[39m \u001b[38;5;124m'\u001b[39m\u001b[38;5;124mNEC\u001b[39m\u001b[38;5;124m'\u001b[39m]\n\u001b[1;32m     61\u001b[0m     \u001b[38;5;28;01mfor\u001b[39;00m j \u001b[38;5;129;01min\u001b[39;00m ner_columns_idx:\n\u001b[1;32m     62\u001b[0m         \u001b[38;5;28;01mfor\u001b[39;00m i \u001b[38;5;129;01min\u001b[39;00m \u001b[38;5;28mrange\u001b[39m(\u001b[38;5;28mlen\u001b[39m(\u001b[38;5;28mself\u001b[39m\u001b[38;5;241m.\u001b[39mdata)):\n",
      "\u001b[0;31mKeyError\u001b[0m: '0'"
     ]
    }
   ],
   "source": [
    "tables_path = 'data/HardTablesR1/DataSets/HardTablesR1/Valid/tables'\n",
    "tables = list_files_in_folder(tables_path)\n",
    "print(len(tables))\n",
    "i = 0\n",
    "results = {}\n",
    "for table in tables:\n",
    "    t = DataTable(table)\n",
    "    print(f\"Table name: {t.name}\\n\")\n",
    "    print(f\"Table shape: {t.shape()}\\n\")\n",
    "    t.generate_ner_labels(llm)\n",
    "    t.generate_cea_annotatons(llm)\n",
    "    results[t.name] = {\n",
    "        'nec': t.ner,\n",
    "        'cea': t.cea\n",
    "    }\n",
    "    json.dump(dict, open('results/HardTablesR1/Valid.json', 'w'))\n",
    "    i += 1\n",
    "    if i > 1:\n",
    "        break"
   ]
  },
  {
   "cell_type": "code",
   "execution_count": 267,
   "metadata": {},
   "outputs": [
    {
     "data": {
      "text/plain": [
       "{'col0': 'NEC', 'col1': 'LC'}"
      ]
     },
     "execution_count": 267,
     "metadata": {},
     "output_type": "execute_result"
    }
   ],
   "source": [
    "t.ner"
   ]
  },
  {
   "cell_type": "code",
   "execution_count": null,
   "metadata": {},
   "outputs": [],
   "source": [
    "def generate_prompt_from_dataframe(df):\n",
    "    task_description = \"You are to classify each column in a given table as either a Named Entity Column (NEC) or a Literal Column (LC).\"\n",
    "    definitions = (\n",
    "        \"Definitions:\\n\"\n",
    "        \"- Named Entity Column (NEC): Columns that contain names of people, organizations, locations, or other proper nouns.\\n\"\n",
    "        \"- Literal Column (LC): Columns that contain numerical values, dates, measurements, or other literal values.\"\n",
    "    )\n",
    "    examples = (\n",
    "        \"Examples:\\n\"\n",
    "        \"- Named Entity Column (NEC) Examples:\\n\"\n",
    "        '  - Column with values: [\"John Doe\", \"Jane Smith\", \"Company XYZ\", \"Paris\"]\\n'\n",
    "        '  - Column with values: [\"Microsoft\", \"Apple\", \"Google\", \"Amazon\"]\\n\\n'\n",
    "        \"- Literal Column (LC) Examples:\\n\"\n",
    "        '  - Column with values: [34, 56, 78, 23]\\n'\n",
    "        '  - Column with values: [\"2021-01-01\", \"2022-05-12\", \"2023-08-23\"]\\n'\n",
    "        '  - Column with values: [5.6, 3.4, 2.8, 4.5]'\n",
    "    )\n",
    "    \n",
    "    # Extract column names\n",
    "    column_names = df.columns.tolist()\n",
    "    \n",
    "    # Construct the table for display in the prompt\n",
    "    table_str = \"Table for Classification:\\n\"\n",
    "    table_str += \"| \" + \" | \".join(column_names) + \" |\\n\"\n",
    "    table_str += \"|-\" + \"-|-\".join([\"-\" * len(col) for col in column_names]) + \"-|\\n\"\n",
    "    for index, row in df.iterrows():\n",
    "        row_str = \"| \" + \" | \".join(str(row[col]) for col in column_names) + \" |\\n\"\n",
    "        table_str += row_str\n",
    "    \n",
    "    # Add classification request\n",
    "    classification_request = \"Classification Request:\\nBased on the above definitions and examples, please classify each column in the provided table as either Named Entity Column (NEC) or Literal Column (LC).\\n Please provide the response strictly in the format {'column_position': 'classification'}. Do not include any additional text or explanation.\\nExample: {'0': 'NEC', '1': 'LIT', '2': NEC} \"\n",
    "    \n",
    "    classification_str = \"Classification:\\n\"\n",
    "    #for i, col in enumerate(column_names, start=1):\n",
    "    #    classification_str += f\"{i}. {col}: [Your classification]\\n\"\n",
    "    \n",
    "    # Combine all parts to form the final prompt\n",
    "    prompt = (\n",
    "        f\"{task_description}\\n\\n\"\n",
    "        f\"{definitions}\\n\\n\"\n",
    "        f\"{examples}\\n\\n\"\n",
    "        f\"{table_str}\\n\\n\"\n",
    "        f\"{classification_request}\\n\\n\"\n",
    "        f\"{classification_str}\"\n",
    "    )\n",
    "    \n",
    "    return prompt\n",
    "\n",
    "\n"
   ]
  },
  {
   "cell_type": "markdown",
   "metadata": {},
   "source": [
    "# Pre-Processing"
   ]
  },
  {
   "cell_type": "markdown",
   "metadata": {},
   "source": [
    "## Named Entity Columns and Literal Columns"
   ]
  },
  {
   "cell_type": "code",
   "execution_count": 224,
   "metadata": {},
   "outputs": [
    {
     "data": {
      "text/plain": [
       "'client = MistralClient(api_key=api_key)\\n\\nmessages = [\\n    ChatMessage(role=\"user\", content=prompt)\\n]\\n\\n# No streaming\\nchat_response = client.chat(\\n    model=model,\\n    messages=messages,\\n)\\n\\nout = chat_response.choices[0].message.content\\n'"
      ]
     },
     "execution_count": 224,
     "metadata": {},
     "output_type": "execute_result"
    }
   ],
   "source": [
    "# Prepare the prompt\n",
    "from mistralai.client import MistralClient\n",
    "from mistralai.models.chat_completion import ChatMessage\n",
    "\n",
    "api_key = \"\"\n",
    "model = \"open-mixtral-8x7b\"\n",
    "\n",
    "'''client = MistralClient(api_key=api_key)\n",
    "\n",
    "messages = [\n",
    "    ChatMessage(role=\"user\", content=prompt)\n",
    "]\n",
    "\n",
    "# No streaming\n",
    "chat_response = client.chat(\n",
    "    model=model,\n",
    "    messages=messages,\n",
    ")\n",
    "\n",
    "out = chat_response.choices[0].message.content\n",
    "'''\n",
    "\n"
   ]
  },
  {
   "cell_type": "code",
   "execution_count": 146,
   "metadata": {},
   "outputs": [],
   "source": [
    "\n",
    "from langchain_mistralai import ChatMistralAI\n",
    "llm = ChatMistralAI(model=model, temperature=0, api_key=api_key)\n",
    "# out = llm.invoke(prompt)\n",
    "# No streaming"
   ]
  },
  {
   "cell_type": "code",
   "execution_count": 226,
   "metadata": {},
   "outputs": [
    {
     "name": "stdout",
     "output_type": "stream",
     "text": [
      "None\n"
     ]
    }
   ],
   "source": [
    "print(t0.ner)"
   ]
  },
  {
   "cell_type": "code",
   "execution_count": 227,
   "metadata": {},
   "outputs": [
    {
     "name": "stdout",
     "output_type": "stream",
     "text": [
      "generating\n"
     ]
    },
    {
     "data": {
      "text/plain": [
       "{'0': 'NEC', '1': 'LC', '2': 'LC', '3': 'NEC'}"
      ]
     },
     "execution_count": 227,
     "metadata": {},
     "output_type": "execute_result"
    }
   ],
   "source": [
    "t0.ner_labels(llm)"
   ]
  },
  {
   "cell_type": "code",
   "execution_count": 231,
   "metadata": {},
   "outputs": [
    {
     "name": "stdout",
     "output_type": "stream",
     "text": [
      "None\n",
      "passed\n",
      "{(0, 0): {'id': 'Q11209', 'llm_output': \"{'id': 'Q11209'}\"}}\n"
     ]
    }
   ],
   "source": [
    "print(t0.cea)\n",
    "t0.generate_cea_annotatons(llm)\n",
    "print(t0.cea)"
   ]
  },
  {
   "cell_type": "markdown",
   "metadata": {},
   "source": [
    "# Entity Retrieval"
   ]
  },
  {
   "cell_type": "markdown",
   "metadata": {},
   "source": [
    "### LamAPI interface"
   ]
  },
  {
   "cell_type": "code",
   "execution_count": null,
   "metadata": {},
   "outputs": [],
   "source": [
    "import requests\n",
    "import json\n",
    "\n",
    "def LamAPI(cell_content):\n",
    "    \n",
    "    url = 'https://lamapi.hel.sintef.cloud/lookup/entity-retrieval'\n",
    "    params = {\n",
    "        'name': f'{cell_content}',\n",
    "        'token': 'lamapi_demo_2023',\n",
    "        'kg': 'wikidata',\n",
    "        'fuzzy': 'True'\n",
    "    }\n",
    "    headers = {'accept': 'application/json'}\n",
    "\n",
    "    response = requests.get(url, params=params, headers=headers)\n",
    "\n",
    "    if response.status_code == 200:\n",
    "        data = response.json()\n",
    "        # Process the JSON data here\n",
    "    else:\n",
    "        print(\"Error:\", response.status_code)\n",
    "    \n",
    "    list_of_dicts = data[f'{cell_content}']\n",
    "    keys_to_select = ['id', 'name', 'types']\n",
    "\n",
    "    selected_dicts = [{k: v for k, v in d.items() if k in keys_to_select} for d in list_of_dicts]\n",
    "    res_dict = {d['id']: d for d in selected_dicts}\n",
    "    \n",
    "    for item in selected_dicts:\n",
    "        for type_dict in item['types']:\n",
    "            if 'id' in type_dict:\n",
    "                del type_dict['id']\n",
    "\n",
    "    string = json.dumps(selected_dicts)\n",
    "    string = string.replace('\"', '').replace('name:', '').replace('  ', ' ').replace('[', '').replace(']', '')\n",
    "    \n",
    "    return string"
   ]
  },
  {
   "cell_type": "markdown",
   "metadata": {},
   "source": [
    "### Retrieval"
   ]
  },
  {
   "cell_type": "code",
   "execution_count": 186,
   "metadata": {},
   "outputs": [
    {
     "data": {
      "text/plain": [
       "'NEC'"
      ]
     },
     "execution_count": 186,
     "metadata": {},
     "output_type": "execute_result"
    }
   ],
   "source": [
    "t0.ner['0']"
   ]
  },
  {
   "cell_type": "code",
   "execution_count": 187,
   "metadata": {},
   "outputs": [
    {
     "data": {
      "text/plain": [
       "[0, 3]"
      ]
     },
     "execution_count": 187,
     "metadata": {},
     "output_type": "execute_result"
    }
   ],
   "source": [
    "a = 0\n",
    "t0.ner[f\"{a}\"]\n",
    "ner_columns_idx = [idx for idx in range(len(t0.ner)) if t0.ner[str(idx)] == 'NEC']\n",
    "ner_columns_idx"
   ]
  },
  {
   "cell_type": "code",
   "execution_count": null,
   "metadata": {},
   "outputs": [],
   "source": []
  },
  {
   "cell_type": "code",
   "execution_count": 193,
   "metadata": {},
   "outputs": [],
   "source": [
    "def generate_CEA_prompt(df, cell_content, ER):\n",
    "    '''\n",
    "    input:\n",
    "        df: pandas dataframe\n",
    "        cell_content : str\n",
    "        ER: retrieved entities from lamapi\n",
    "    '''\n",
    "    task_description = \"You are to choose which retrieved entity is the correct entity to be associated to the cell content\"\n",
    "    # Extract column names\n",
    "    column_names = df.columns.tolist()\n",
    "    \n",
    "    # Construct the table for display in the prompt\n",
    "    table_str = \"Table:\\n\"\n",
    "    table_str += \"| \" + \" | \".join(column_names) + \" |\\n\"\n",
    "    table_str += \"|-\" + \"-|-\".join([\"-\" * len(col) for col in column_names]) + \"-|\\n\"\n",
    "    for index, row in df.iterrows():\n",
    "        row_str = \"| \" + \" | \".join(str(row[col]) for col in column_names) + \" |\\n\"\n",
    "        table_str += row_str\n",
    "    cell = f\"Cell Content: {cell_content}\"\n",
    "    entities = f\"Retrieved Entities and their types: {ER}\"\n",
    "    # Add classification request\n",
    "    classification_request = \"Classification Request:\\n Please associate the cell to the correct entity choosen between the list of retrieved entities along with their types.\\nPlease provide the response strictly in the format {'id': 'entity_id'}. Do not include any additional text or explanation.\\nExample: {'id': '12345'} \"\n",
    "    \n",
    "    classification_str = \"Chosen Entity ID:\\n\"\n",
    "    #for i, col in enumerate(column_names, start=1):\n",
    "    #    classification_str += f\"{i}. {col}: [Your classification]\\n\"\n",
    "    \n",
    "    # Combine all parts to form the final prompt\n",
    "    prompt = (\n",
    "        f\"{task_description}\\n\\n\"\n",
    "        f\"{table_str}\\n\\n\"\n",
    "        f\"{cell}\\n\\n\"\n",
    "        f\"{ER}\\n\\n\"\n",
    "        f\"{classification_request}\\n\\n\"\n",
    "        f\"{classification_str}\"\n",
    "    )\n",
    "    \n",
    "    return prompt"
   ]
  },
  {
   "cell_type": "code",
   "execution_count": 215,
   "metadata": {},
   "outputs": [
    {
     "name": "stdout",
     "output_type": "stream",
     "text": [
      "passed\n"
     ]
    }
   ],
   "source": [
    "def generate_cea_annotatons(t0, llm):\n",
    "    cea_dict = {}\n",
    "    if (t0.cea == None):\n",
    "        print('passed')\n",
    "        ner_columns_idx = [idx for idx in range(len(t0.ner)) if t0.ner[str(idx)] == 'NEC']\n",
    "        for j in ner_columns_idx:\n",
    "            for i in range(len(t0.data)):\n",
    "            \n",
    "                cell_content = t0.data.iloc[i, j]\n",
    "                entity_retrieval = LamAPI(cell_content) \n",
    "                prompt = generate_CEA_prompt(t0.data, cell_content, entity_retrieval)\n",
    "                out = llm.invoke(prompt)\n",
    "                cea_out = out.content.replace(\"'\", '\"')\n",
    "                cea_out = json.loads(cea_out)\n",
    "                cea_dict[(i,j)] = {'id': cea_out['id'], 'llm_output': out.content}\n",
    "                break\n",
    "            break\n",
    "    return cea_dict\n",
    "\n",
    "cea_dict = generate_cea_annotatons(t0, llm)    "
   ]
  },
  {
   "cell_type": "code",
   "execution_count": 217,
   "metadata": {},
   "outputs": [
    {
     "data": {
      "text/plain": [
       "'Q11209'"
      ]
     },
     "execution_count": 217,
     "metadata": {},
     "output_type": "execute_result"
    }
   ],
   "source": [
    "cea_dict[(0, 0)]['id']"
   ]
  },
  {
   "cell_type": "code",
   "execution_count": 188,
   "metadata": {},
   "outputs": [
    {
     "name": "stdout",
     "output_type": "stream",
     "text": [
      "{id: Q108779219, United States Department of Defense, types: { record label}}, {id: Q11209, United States Department of Defense, types: { defence ministry}, { United States federal executive department}}, {id: Q97430551, Category:Fictional United States Department of Defense officials, types: { Wikimedia category}}, {id: Q6453078, Category:United States Department of Defense, types: { Wikimedia category}}, {id: Q107056052, Portal:United States Department of Defense, types: { Wikimedia portal}}, {id: Q7748656, Template:United States Department of Defense, types: { Wikimedia template}}, {id: Q30803168, Category:Seals of the United States Department of Defense, types: { Wikimedia category}}, {id: Q853561, United States Department of Defense aerospace vehicle designation, types: { null}}, {id: Q96376137, Defense Distributed v. United States Department of State, types: { null}}, {id: Q16955038, Nation Magazine v. United States Department of Defense, types: { legal case}}, {id: Q105677106, United States Department of Defense China Task Force, types: { task force}}, {id: Q7892373, United States civil defense, types: { organization}}, {id: Q735015, United States Secretary of Defense, types: { position}}, {id: Q8870636, Category:United States Department of Defense lists, types: { Wikimedia lists category}}, {id: Q8870643, Category:United States Department of Defense publications, types: { Wikimedia category}}, {id: Q8870639, Category:United States Department of Defense officials, types: { Wikimedia category}}, {id: Q8870644, Category:United States Department of Defense standards, types: { Wikimedia category}}, {id: Q15144610, Category:United States Department of Defense plans, types: { Wikimedia category}}, {id: Q8870631, Category:United States Department of Defense doctrine, types: { Wikimedia category}}, {id: Q8870629, Category:United States Department of Defense agencies, types: { Wikimedia category}}, {id: Q44908429, Department of Defense, types: { scholarly article}}, {id: Q39865430, Department of Defense, types: { scholarly article}}, {id: Q50242484, Department of Defense, types: { Wikimedia disambiguation page}}, {id: Q2981744, Department of Defense, types: { defence ministry}, { department of the Australian Government}}, {id: Q628807, United States Department of Labor, types: { ministry of labour}, { United States federal executive department}}, {id: Q861556, United States Department of Education, types: { ministry of education}, { United States federal executive department}}, {id: Q852211, United States Department of Transportation, types: { transport ministry}, { United States federal executive department}}, {id: Q217810, United States Department of Energy, types: { United States federal executive department}, { ministry of energy}}, {id: Q503577, United States Department of Commerce, types: { United States federal executive department}, { ministry of trade}}, {id: Q1143596, United States Department of War, types: { ministry of War}, { organization}}, {id: Q1553390, United States Department of Justice, types: { justice ministry}, { United States federal executive department}}, {id: Q501542, United States Department of Agriculture, types: { ministry of agriculture}, { United States federal executive department}, { United States federal agency}, { academic publisher}}, {id: Q789915, United States Department of State, types: { United States federal executive department}, { foreign affairs ministry}}, {id: Q4294498, Department of Defence, types: { defence ministry}, { Department of State}}, {id: Q15729021, Department of Defence, types: { Wikimedia disambiguation page}}, {id: Q16959680, Department of Defence, types: { government agency}, { department of the Australian Government}}, {id: Q4294514, Department of Defence, types: { defence ministry}, { department of the South African government}}, {id: Q16959685, Department of Defence, types: { government agency}, { department of the Australian Government}}, {id: Q8870635, Category:United States Department of Defense information technology, types: { Wikimedia category}}, {id: Q2297543, United States Deputy Secretary of Defense, types: { position}}, {id: Q27877170, Category:Fictional United States Secretaries of Defense, types: { Wikimedia category}}, {id: Q7889544, United States Assistant Secretary of Defense, types: { null}}, {id: Q6602756, list of United States defense contractors, types: { Wikimedia information list}, { Wikimedia list article}}, {id: Q1156255, United States national missile defense, types: { null}}, {id: Q7889534, United States Army air defense, types: { military doctrine}}, {id: Q7892359, United States biological defense program, types: { null}}, {id: Q7892234, United States Taiwan Defense Command, types: { command}}, {id: Q7604024, States Department, types: { null}}, {id: Q5260238, Department of Defense Police, types: { federal law enforcement agency of the United States}, { federal police}}, {id: Q5547445, Georgia Department of Defense, types: { government agency}}, {id: Q2606731, Department of National Defense, types: { defence ministry}, { executive department of the Philippines}}, {id: Q30259010, Hawaii Department of Defense, types: { government agency}}, {id: Q49482836, Department of Defense Withdrawal, types: { park}}, {id: Q19080232, Department of Employment v. United States, types: { United States Supreme Court decision}}, {id: Q592576, United States Department of Veterans Affairs, types: { United States federal executive department}, { null}}, {id: Q742787, United States Department of the Navy, types: { navy ministry}, { United States federal agency}}, {id: Q608427, United States Department of the Interior, types: { United States federal executive department}, { interior ministry}}, {id: Q125679380, United States Department of Temporal Phenomena, types: { fictional government body}}, {id: Q11231, United States Department of Homeland Security, types: { United States federal executive department}, { interior ministry}, { ministry of migration}}, {id: Q29643959, United States Department of Energy complex, types: { building complex}}, {id: Q85130357, United States Department of the Interior, types: { scholarly article}}, {id: Q87995256, police department of the United States, types: { null}}, {id: Q119812981, Bulletin, United States Department of Agriculture, types: { written work}}, {id: Q55316318, United States Department of Agriculture Building, types: { building}}, {id: Q1328562, United States Department of the Army, types: { United States federal executive department}, { department}}, {id: Q648666, United States Department of the Treasury, types: { United States federal executive department}, { finance ministry}, { financial regulatory agency}}, {id: Q3109672, United States Post Office Department, types: { postal services ministry}, { United States federal executive department}}, {id: Q910252, United States federal executive department, types: { null}}, {id: Q19840975, United States War Department Forms, types: { Wikimedia list article}}, {id: Q7889927, United States Hotel Stakes, types: { horse race}}, {id: Q68393214, In defense of defenses, types: { scholarly article}}, {id: Q488396, United Defense, types: { business}}, {id: Q7014710, Category:Probation departments of the United States, types: { Wikimedia category}}, {id: Q7014764, Category:Sheriffs' departments of the United States, types: { Wikimedia category}}, {id: Q8459588, Category:Fire departments of the United States, types: { Wikimedia category}}, {id: Q13293895, Category:State defense forces of the United States, types: { Wikimedia category}}, {id: Q121840363, Category:Former defense companies of the United States, types: { Wikimedia category}}, {id: Q8466723, Category:Former United States Executive Departments, types: { Wikimedia category}}, {id: Q75824074, CIVIL defense in the United States, types: { scholarly article}}, {id: Q7889530, United States Army Trial Defense Service, types: { null}}, {id: Q17165392, Seacoast defense in the United States, types: { null}}, {id: Q16955988, Department of Defence Co-ordination, types: { government agency}, { department of the Australian Government}}, {id: Q16955992, Department of Defence Support, types: { government agency}, { department of the Australian Government}}, {id: Q18164656, Department of Defence Production, types: { government agency}, { department of the Australian Government}}, {id: Q107618428, Department of Defence Production, types: { null}}, {id: Q1191463, Department of National Defence, types: { Canadian federal department}, { defence ministry}}, {id: Q5365953, United States Office of the Secretary of Defense, types: { government agency}}, {id: Q105729472, Category:Assistant Secretaries of Defense of the United States, types: { Wikimedia category}}, {id: Q7889744, United States Department of State Operations Center, types: { null}}, {id: Q7889738, United States Department of Justice Tax Division, types: { government agency}}, {id: Q7892262, United States Virgin Islands Department of Justice, types: { state agency of the United States}}, {id: Q28400736, Category:Fictional United States Department of Justice officials, types: { Wikimedia category}}, {id: Q19024151, United States Department of State v. Ray, types: { legal case}, { United States Supreme Court decision}}\n"
     ]
    }
   ],
   "source": [
    "ER = LamAPI(cell_content)\n",
    "print(ER)"
   ]
  },
  {
   "cell_type": "code",
   "execution_count": null,
   "metadata": {},
   "outputs": [],
   "source": [
    "prompt = generate_CEA_prompt(t_0, cell_content, ER)\n",
    "print(prompt)"
   ]
  },
  {
   "cell_type": "code",
   "execution_count": null,
   "metadata": {},
   "outputs": [],
   "source": [
    "messages = [\n",
    "    ChatMessage(role=\"user\", content=prompt)\n",
    "]\n",
    "\n",
    "# No streaming\n",
    "chat_response = client.chat(\n",
    "    model=model,\n",
    "    messages=messages,\n",
    ")\n",
    "\n",
    "cea_out = chat_response.choices[0].message.content\n",
    "\n"
   ]
  },
  {
   "cell_type": "code",
   "execution_count": null,
   "metadata": {},
   "outputs": [
    {
     "name": "stdout",
     "output_type": "stream",
     "text": [
      "Q11209\n"
     ]
    }
   ],
   "source": [
    "cea_out = cea_out.replace(\"'\", '\"')\n",
    "c_out = json.loads(cea_out)\n",
    "\n",
    "print(c_out['id'])"
   ]
  }
 ],
 "metadata": {
  "kernelspec": {
   "display_name": "Python 3.12.3 ('STI')",
   "language": "python",
   "name": "python3"
  },
  "language_info": {
   "codemirror_mode": {
    "name": "ipython",
    "version": 3
   },
   "file_extension": ".py",
   "mimetype": "text/x-python",
   "name": "python",
   "nbconvert_exporter": "python",
   "pygments_lexer": "ipython3",
   "version": "3.12.3"
  },
  "orig_nbformat": 4,
  "vscode": {
   "interpreter": {
    "hash": "2268df63e3314f5c0fa267e7a7d58ca881c28135e668c4afe664cdf6d7ddd66d"
   }
  }
 },
 "nbformat": 4,
 "nbformat_minor": 2
}
