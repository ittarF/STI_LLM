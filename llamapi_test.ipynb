{
 "cells": [
  {
   "cell_type": "markdown",
   "metadata": {},
   "source": [
    "## imports\n"
   ]
  },
  {
   "cell_type": "code",
   "execution_count": 1,
   "metadata": {},
   "outputs": [],
   "source": [
    "import requests\n",
    "import json\n",
    "import os \n",
    "import pandas as pd\n",
    "from dataClass import DataTable\n",
    "from main import list_files_in_folder\n",
    "from dotenv import load_dotenv\n",
    "from tqdm import tqdm\n",
    "import time\n",
    "load_dotenv()\n",
    "\n",
    "f = open('nogit/HardTablesR1_Valid_CEA_ER_ngram.json') \n",
    "\n",
    "data = json.load(f) "
   ]
  },
  {
   "cell_type": "markdown",
   "metadata": {},
   "source": [
    "## functions"
   ]
  },
  {
   "cell_type": "code",
   "execution_count": 2,
   "metadata": {},
   "outputs": [],
   "source": [
    "def levenshtein_distance(s1, s2):\n",
    "    \"\"\"\n",
    "    Calculate the Levenshtein distance between two strings.\n",
    "\n",
    "    Parameters:\n",
    "    s1 (str): The first string.\n",
    "    s2 (str): The second string.\n",
    "\n",
    "    Returns:\n",
    "    int: The Levenshtein distance between the two strings.\n",
    "    \"\"\"\n",
    "    if len(s1) < len(s2):\n",
    "        return levenshtein_distance(s2, s1)\n",
    "\n",
    "    # len(s1) >= len(s2)\n",
    "    if len(s2) == 0:\n",
    "        return len(s1)\n",
    "\n",
    "    previous_row = range(len(s2) + 1)\n",
    "    for i, c1 in enumerate(s1):\n",
    "        current_row = [i + 1]\n",
    "        for j, c2 in enumerate(s2):\n",
    "            insertions = previous_row[j + 1] + 1\n",
    "            deletions = current_row[j] + 1\n",
    "            substitutions = previous_row[j] + (c1 != c2)\n",
    "            current_row.append(min(insertions, deletions, substitutions))\n",
    "        previous_row = current_row\n",
    "    \n",
    "    return previous_row[-1]\n",
    "\n",
    "def jaccard_distance(s1, s2, n=1):\n",
    "    \"\"\"\n",
    "    Calculate the Jaccard distance between two strings based on n-grams.\n",
    "\n",
    "    Parameters:\n",
    "    s1 (str): The first string.\n",
    "    s2 (str): The second string.\n",
    "    n (int): The length of n-grams to consider. Default is 1 (character-wise comparison).\n",
    "\n",
    "    Returns:\n",
    "    float: The Jaccard distance between the two strings.\n",
    "    \"\"\"\n",
    "    # Generate n-grams for both strings\n",
    "    def ngrams(string, n):\n",
    "        return {string[i:i+n] for i in range(len(string) - n + 1)}\n",
    "    \n",
    "    set1 = ngrams(s1, n)\n",
    "    set2 = ngrams(s2, n)\n",
    "    \n",
    "    # Calculate the intersection and union of the two sets\n",
    "    intersection = set1.intersection(set2)\n",
    "    union = set1.union(set2)\n",
    "    \n",
    "    # Handle the case where both sets are empty\n",
    "    if not union:\n",
    "        return 0.0\n",
    "    \n",
    "    # Calculate the Jaccard index\n",
    "    jaccard_index = len(intersection) / len(union)\n",
    "    \n",
    "    # Return the Jaccard distance\n",
    "    return 1 - jaccard_index\n"
   ]
  },
  {
   "cell_type": "code",
   "execution_count": 2,
   "metadata": {},
   "outputs": [],
   "source": [
    "def get_table_str(df):\n",
    "    column_names = df.columns.tolist()\n",
    "    table_str = \"col: \"\n",
    "    table_str += \"| \" + \" | \".join(column_names) + \" | \"\n",
    "    for index, row in df.iterrows():\n",
    "        row_str = \" | \" + \" | \".join(str(row[col]) for col in column_names) + \" | \"\n",
    "        table_str += f\"[SEP] col {index + 1}: {row_str}\"\n",
    "    return table_str\n",
    "\n",
    "def candidates_as_str(candidates):\n",
    "    \n",
    "    list_of_candidates = \"\"\n",
    "    for c in candidates:\n",
    "        if c['description'] == '':\n",
    "            c['description'] = 'None'\n",
    "        list_of_candidates += f\"<[ID] {c['id']} [NAME] {c['name']} [DESC] {c['description']} [TYPE] {c['types'][0]['name']}>, \"\n",
    "    \n",
    "    return list_of_candidates[:-2]\n",
    "\n",
    "def build_prompt(table_str, column_name, cell_content, candidates, t_desc):\n",
    "    TASK = \"Below is an instruction that describes a task, paired with an input that provides further context. Write a response that appropriately completes the request.\"\n",
    "    INSTRUCTION = \"### Instruction: This is an entity linking task. The goal for this task is to link the selected entity mention in the table cells to the entity in the knowledge base. You will be given a list of referent entities, with each one composed of an entity id, name, its description and its type. Please choose the correct one from the referent entity candidates. Note that the Wikipedia page, Wikipedia section and table caption (if any) provide important information for choosing the correct referent entity.\"\n",
    "    INPUT = f\"### Input: [TLE] {t_desc} [TAB] {table_str}\"\n",
    "    QUESTION = f\"### Question: The selected entity mention in the table cell is: {cell_content}. The column name for ’{cell_content}’ is {column_name}. \"\n",
    "    CANDIDATES = f\"The referent entity candidates are: {candidates}\"\n",
    "    tablellama_prompt = (\n",
    "        f\"{TASK}\\n\\n\"\n",
    "        f\"{INSTRUCTION}\\n\\n\"\n",
    "        f\"{INPUT}\\n\\n\"\n",
    "        f\"{QUESTION}\"\n",
    "        f\"{CANDIDATES}. \\nIf there are no candidates that matched the cell content the response is <NIL>. What is the correct referent entity for the entity mention ’{cell_content}’ ?\\n\\n\"  \n",
    "        \"### Response: \"\n",
    "    )\n",
    "    return tablellama_prompt"
   ]
  },
  {
   "cell_type": "markdown",
   "metadata": {},
   "source": [
    "## Load Data\n"
   ]
  },
  {
   "cell_type": "code",
   "execution_count": 3,
   "metadata": {},
   "outputs": [],
   "source": [
    "gt_path = 'data/HardTablesR1/DataSets/HardTablesR1/Valid/gt/cea_gt.csv'\n",
    "tables_path = 'data/HardTablesR1/DataSets/HardTablesR1/Valid/tables'\n",
    "\n",
    "gt = pd.read_csv(gt_path, header=None)\n",
    "tables = list_files_in_folder(tables_path)"
   ]
  },
  {
   "cell_type": "code",
   "execution_count": 4,
   "metadata": {},
   "outputs": [
    {
     "name": "stdout",
     "output_type": "stream",
     "text": [
      "200\n"
     ]
    }
   ],
   "source": [
    "target_names = list(data.keys())\n",
    "print(len(target_names))"
   ]
  },
  {
   "cell_type": "code",
   "execution_count": 5,
   "metadata": {},
   "outputs": [
    {
     "data": {
      "text/plain": [
       "1406"
      ]
     },
     "execution_count": 5,
     "metadata": {},
     "output_type": "execute_result"
    }
   ],
   "source": [
    "filtered_df = gt[gt[0].isin(target_names)]\n",
    "len(filtered_df)"
   ]
  },
  {
   "cell_type": "code",
   "execution_count": 6,
   "metadata": {},
   "outputs": [
    {
     "name": "stderr",
     "output_type": "stream",
     "text": [
      "1406it [00:00, 3204.28it/s]\n"
     ]
    }
   ],
   "source": [
    "\n",
    "correct = 0\n",
    "for i, (name, r, c, l)  in tqdm(filtered_df.iterrows()):\n",
    "    # print(i, name, c, r, l)\n",
    "    \n",
    "    target_id = l.split('/')[-1]\n",
    "    # print(f\"Ground Truth: {target_id}\")\n",
    "    \n",
    "    ids_list = [d['id'] for d in data[name][str((r, c))]['retrieved_list']]\n",
    "    # print(f\"Target list of ids: {ids_list}\\n\")\n",
    "    # print(f\"Is the ground truth in the target list?\\n{target_id in ids_list}\\n\\n\")\n",
    "    if target_id in ids_list:\n",
    "        correct += 1"
   ]
  },
  {
   "cell_type": "code",
   "execution_count": 7,
   "metadata": {},
   "outputs": [
    {
     "name": "stdout",
     "output_type": "stream",
     "text": [
      "Retrieval Accuracy: 0.80\n"
     ]
    }
   ],
   "source": [
    "print(f\"Retrieval Accuracy: {correct/len(filtered_df):.2f}\")"
   ]
  },
  {
   "cell_type": "code",
   "execution_count": 8,
   "metadata": {},
   "outputs": [],
   "source": [
    "from prompts import generate_tableDesc_prompt, generate_CEA_prompt_with_t_desc, generate_CEA_prompt\n",
    "from langchain_mistralai import ChatMistralAI\n",
    "mistral_api_key = os.getenv(\"MISTRAL_API_KEY\")\n",
    "model_22 = \"open-mixtral-8x22b\"\n",
    "model_7 = \"open-mistral-nemo-2407\"\n",
    "llm_22 = ChatMistralAI(model=model_22, temperature=0, api_key=mistral_api_key)\n",
    "llm_7 = ChatMistralAI(model=model_7, temperature=0, api_key=mistral_api_key)"
   ]
  },
  {
   "cell_type": "markdown",
   "metadata": {},
   "source": [
    "### Create prompts"
   ]
  },
  {
   "cell_type": "code",
   "execution_count": 9,
   "metadata": {},
   "outputs": [],
   "source": [
    "index = []\n",
    "export = {}\n",
    "\n",
    "with open('nogit/table_descriptionsHTV.json') as f:\n",
    "    descriptions = json.load(f)\n",
    "    "
   ]
  },
  {
   "cell_type": "code",
   "execution_count": 10,
   "metadata": {},
   "outputs": [
    {
     "name": "stdout",
     "output_type": "stream",
     "text": [
      "\n",
      "\n",
      "Table_name: None\n",
      "\n"
     ]
    },
    {
     "name": "stderr",
     "output_type": "stream",
     "text": [
      "1406it [00:03, 364.15it/s]\n"
     ]
    }
   ],
   "source": [
    "import time\n",
    "table_name = None \n",
    "print(f\"\\n\\nTable_name: {table_name}\\n\")\n",
    "y_true, y_pred = [], []\n",
    "for i, (name, r, c, l)  in tqdm(filtered_df.iterrows()):\n",
    "    # print(i, name, c, r, l)\n",
    "    \n",
    "    if name != table_name:\n",
    "        table_name = name\n",
    "        table = DataTable(f\"data/HardTablesR1/DataSets/HardTablesR1/Valid/tables/{name}.csv\")\n",
    "        export[name] = {}\n",
    "        table_as_str = get_table_str(table.data)\n",
    "\n",
    "    # print(table.data)\n",
    "    \n",
    "    target_id = l.split('/')[-1]\n",
    "    # print(f\"\\nGround Truth: {target_id}\\n\")\n",
    "    \n",
    "    ids_list = [d['id'] for d in data[name][str((r, c))]['retrieved_list']]\n",
    "    \n",
    "    if target_id in ids_list:\n",
    "\n",
    "        # Perform CEA:\n",
    "        cell_content = data[name][str((r, c))]['cell']\n",
    "        prompt = generate_CEA_prompt_with_t_desc(table.data, cell_content, candidates_as_str(data[name][str((r, c))]['retrieved_list']), descriptions[name])\n",
    "        prompt_nodesc = generate_CEA_prompt(table.data, cell_content, candidates_as_str(data[name][str((r, c))]['retrieved_list']))\n",
    "        # print(f\"\\nPrompt w. description:\\n{prompt}\\n\\n\")\n",
    "        # print(f\"\\nPrompt without description:\\n{prompt_nodesc}\\n\\n\")\n",
    "        export[name][str((r, c))] = {\n",
    "            'cell': cell_content,\n",
    "            'table_desc': table.t_desc,\n",
    "            'cea_prompt_desc': prompt,\n",
    "            'cea_prompt_nodesc': prompt_nodesc\n",
    "        }\n",
    "# save prompts\n",
    "with open('nogit/prompts_cea_HTV_200_80perc_nofuzzy11.json', 'w') as f:\n",
    "    json.dump(export, f)"
   ]
  },
  {
   "cell_type": "code",
   "execution_count": 75,
   "metadata": {},
   "outputs": [],
   "source": [
    "tot_entities = 0\n",
    "for key in export:\n",
    "    tot_entities += len(export[key])"
   ]
  },
  {
   "cell_type": "markdown",
   "metadata": {},
   "source": [
    "### eval\n"
   ]
  },
  {
   "cell_type": "code",
   "execution_count": 11,
   "metadata": {},
   "outputs": [],
   "source": [
    "with open('nogit/prompts_cea_HTV_200_80perc_nofuzzy.json') as f:\n",
    "    inputs = json.load(f)\n",
    "\n"
   ]
  },
  {
   "cell_type": "code",
   "execution_count": 78,
   "metadata": {},
   "outputs": [],
   "source": [
    "outputs = dict(inputs)"
   ]
  },
  {
   "cell_type": "code",
   "execution_count": 64,
   "metadata": {},
   "outputs": [
    {
     "name": "stderr",
     "output_type": "stream",
     "text": [
      " 50%|█████     | 101/200 [00:00<00:00, 869.74it/s]\n"
     ]
    },
    {
     "ename": "HTTPStatusError",
     "evalue": "Error response 401 while fetching https://api.mistral.ai/v1/chat/completions: {\n  \"message\":\"Unauthorized\",\n  \"request_id\":\"a44ae404b40d5675dbb452563c4a0e56\"\n}",
     "output_type": "error",
     "traceback": [
      "\u001b[0;31m---------------------------------------------------------------------------\u001b[0m",
      "\u001b[0;31mHTTPStatusError\u001b[0m                           Traceback (most recent call last)",
      "Cell \u001b[0;32mIn[64], line 6\u001b[0m\n\u001b[1;32m      4\u001b[0m p_desc \u001b[38;5;241m=\u001b[39m v[\u001b[38;5;124m'\u001b[39m\u001b[38;5;124mcea_prompt_desc\u001b[39m\u001b[38;5;124m'\u001b[39m]\n\u001b[1;32m      5\u001b[0m p_nodesc \u001b[38;5;241m=\u001b[39m v[\u001b[38;5;124m'\u001b[39m\u001b[38;5;124mcea_prompt_nodesc\u001b[39m\u001b[38;5;124m'\u001b[39m]\n\u001b[0;32m----> 6\u001b[0m out_desc \u001b[38;5;241m=\u001b[39m \u001b[43mllm_7\u001b[49m\u001b[38;5;241;43m.\u001b[39;49m\u001b[43minvoke\u001b[49m\u001b[43m(\u001b[49m\u001b[43mp_desc\u001b[49m\u001b[43m)\u001b[49m\n\u001b[1;32m      7\u001b[0m out_nodesc \u001b[38;5;241m=\u001b[39m llm_7\u001b[38;5;241m.\u001b[39minvoke(p_nodesc)\n\u001b[1;32m      8\u001b[0m outputs[t_name][k][\u001b[38;5;124m'\u001b[39m\u001b[38;5;124moutput_desc\u001b[39m\u001b[38;5;124m'\u001b[39m] \u001b[38;5;241m=\u001b[39m out_desc\n",
      "File \u001b[0;32m~/miniforge3/envs/STI/lib/python3.12/site-packages/langchain_core/language_models/chat_models.py:170\u001b[0m, in \u001b[0;36mBaseChatModel.invoke\u001b[0;34m(self, input, config, stop, **kwargs)\u001b[0m\n\u001b[1;32m    159\u001b[0m \u001b[39mdef\u001b[39;00m \u001b[39minvoke\u001b[39m(\n\u001b[1;32m    160\u001b[0m     \u001b[39mself\u001b[39m,\n\u001b[1;32m    161\u001b[0m     \u001b[39minput\u001b[39m: LanguageModelInput,\n\u001b[0;32m   (...)\u001b[0m\n\u001b[1;32m    165\u001b[0m     \u001b[39m*\u001b[39m\u001b[39m*\u001b[39mkwargs: Any,\n\u001b[1;32m    166\u001b[0m ) \u001b[39m-\u001b[39m\u001b[39m>\u001b[39m BaseMessage:\n\u001b[1;32m    167\u001b[0m     config \u001b[39m=\u001b[39m ensure_config(config)\n\u001b[1;32m    168\u001b[0m     \u001b[39mreturn\u001b[39;00m cast(\n\u001b[1;32m    169\u001b[0m         ChatGeneration,\n\u001b[0;32m--> 170\u001b[0m         \u001b[39mself\u001b[39;49m\u001b[39m.\u001b[39;49mgenerate_prompt(\n\u001b[1;32m    171\u001b[0m             [\u001b[39mself\u001b[39;49m\u001b[39m.\u001b[39;49m_convert_input(\u001b[39minput\u001b[39;49m)],\n\u001b[1;32m    172\u001b[0m             stop\u001b[39m=\u001b[39;49mstop,\n\u001b[1;32m    173\u001b[0m             callbacks\u001b[39m=\u001b[39;49mconfig\u001b[39m.\u001b[39;49mget(\u001b[39m\"\u001b[39;49m\u001b[39mcallbacks\u001b[39;49m\u001b[39m\"\u001b[39;49m),\n\u001b[1;32m    174\u001b[0m             tags\u001b[39m=\u001b[39;49mconfig\u001b[39m.\u001b[39;49mget(\u001b[39m\"\u001b[39;49m\u001b[39mtags\u001b[39;49m\u001b[39m\"\u001b[39;49m),\n\u001b[1;32m    175\u001b[0m             metadata\u001b[39m=\u001b[39;49mconfig\u001b[39m.\u001b[39;49mget(\u001b[39m\"\u001b[39;49m\u001b[39mmetadata\u001b[39;49m\u001b[39m\"\u001b[39;49m),\n\u001b[1;32m    176\u001b[0m             run_name\u001b[39m=\u001b[39;49mconfig\u001b[39m.\u001b[39;49mget(\u001b[39m\"\u001b[39;49m\u001b[39mrun_name\u001b[39;49m\u001b[39m\"\u001b[39;49m),\n\u001b[1;32m    177\u001b[0m             run_id\u001b[39m=\u001b[39;49mconfig\u001b[39m.\u001b[39;49mpop(\u001b[39m\"\u001b[39;49m\u001b[39mrun_id\u001b[39;49m\u001b[39m\"\u001b[39;49m, \u001b[39mNone\u001b[39;49;00m),\n\u001b[1;32m    178\u001b[0m             \u001b[39m*\u001b[39;49m\u001b[39m*\u001b[39;49mkwargs,\n\u001b[1;32m    179\u001b[0m         )\u001b[39m.\u001b[39mgenerations[\u001b[39m0\u001b[39m][\u001b[39m0\u001b[39m],\n\u001b[1;32m    180\u001b[0m     )\u001b[39m.\u001b[39mmessage\n",
      "File \u001b[0;32m~/miniforge3/envs/STI/lib/python3.12/site-packages/langchain_core/language_models/chat_models.py:599\u001b[0m, in \u001b[0;36mBaseChatModel.generate_prompt\u001b[0;34m(self, prompts, stop, callbacks, **kwargs)\u001b[0m\n\u001b[1;32m    591\u001b[0m \u001b[39mdef\u001b[39;00m \u001b[39mgenerate_prompt\u001b[39m(\n\u001b[1;32m    592\u001b[0m     \u001b[39mself\u001b[39m,\n\u001b[1;32m    593\u001b[0m     prompts: List[PromptValue],\n\u001b[0;32m   (...)\u001b[0m\n\u001b[1;32m    596\u001b[0m     \u001b[39m*\u001b[39m\u001b[39m*\u001b[39mkwargs: Any,\n\u001b[1;32m    597\u001b[0m ) \u001b[39m-\u001b[39m\u001b[39m>\u001b[39m LLMResult:\n\u001b[1;32m    598\u001b[0m     prompt_messages \u001b[39m=\u001b[39m [p\u001b[39m.\u001b[39mto_messages() \u001b[39mfor\u001b[39;00m p \u001b[39min\u001b[39;00m prompts]\n\u001b[0;32m--> 599\u001b[0m     \u001b[39mreturn\u001b[39;00m \u001b[39mself\u001b[39;49m\u001b[39m.\u001b[39;49mgenerate(prompt_messages, stop\u001b[39m=\u001b[39;49mstop, callbacks\u001b[39m=\u001b[39;49mcallbacks, \u001b[39m*\u001b[39;49m\u001b[39m*\u001b[39;49mkwargs)\n",
      "File \u001b[0;32m~/miniforge3/envs/STI/lib/python3.12/site-packages/langchain_core/language_models/chat_models.py:456\u001b[0m, in \u001b[0;36mBaseChatModel.generate\u001b[0;34m(self, messages, stop, callbacks, tags, metadata, run_name, run_id, **kwargs)\u001b[0m\n\u001b[1;32m    454\u001b[0m         \u001b[39mif\u001b[39;00m run_managers:\n\u001b[1;32m    455\u001b[0m             run_managers[i]\u001b[39m.\u001b[39mon_llm_error(e, response\u001b[39m=\u001b[39mLLMResult(generations\u001b[39m=\u001b[39m[]))\n\u001b[0;32m--> 456\u001b[0m         \u001b[39mraise\u001b[39;00m e\n\u001b[1;32m    457\u001b[0m flattened_outputs \u001b[39m=\u001b[39m [\n\u001b[1;32m    458\u001b[0m     LLMResult(generations\u001b[39m=\u001b[39m[res\u001b[39m.\u001b[39mgenerations], llm_output\u001b[39m=\u001b[39mres\u001b[39m.\u001b[39mllm_output)  \u001b[39m# type: ignore[list-item]\u001b[39;00m\n\u001b[1;32m    459\u001b[0m     \u001b[39mfor\u001b[39;00m res \u001b[39min\u001b[39;00m results\n\u001b[1;32m    460\u001b[0m ]\n\u001b[1;32m    461\u001b[0m llm_output \u001b[39m=\u001b[39m \u001b[39mself\u001b[39m\u001b[39m.\u001b[39m_combine_llm_outputs([res\u001b[39m.\u001b[39mllm_output \u001b[39mfor\u001b[39;00m res \u001b[39min\u001b[39;00m results])\n",
      "File \u001b[0;32m~/miniforge3/envs/STI/lib/python3.12/site-packages/langchain_core/language_models/chat_models.py:446\u001b[0m, in \u001b[0;36mBaseChatModel.generate\u001b[0;34m(self, messages, stop, callbacks, tags, metadata, run_name, run_id, **kwargs)\u001b[0m\n\u001b[1;32m    443\u001b[0m \u001b[39mfor\u001b[39;00m i, m \u001b[39min\u001b[39;00m \u001b[39menumerate\u001b[39m(messages):\n\u001b[1;32m    444\u001b[0m     \u001b[39mtry\u001b[39;00m:\n\u001b[1;32m    445\u001b[0m         results\u001b[39m.\u001b[39mappend(\n\u001b[0;32m--> 446\u001b[0m             \u001b[39mself\u001b[39;49m\u001b[39m.\u001b[39;49m_generate_with_cache(\n\u001b[1;32m    447\u001b[0m                 m,\n\u001b[1;32m    448\u001b[0m                 stop\u001b[39m=\u001b[39;49mstop,\n\u001b[1;32m    449\u001b[0m                 run_manager\u001b[39m=\u001b[39;49mrun_managers[i] \u001b[39mif\u001b[39;49;00m run_managers \u001b[39melse\u001b[39;49;00m \u001b[39mNone\u001b[39;49;00m,\n\u001b[1;32m    450\u001b[0m                 \u001b[39m*\u001b[39;49m\u001b[39m*\u001b[39;49mkwargs,\n\u001b[1;32m    451\u001b[0m             )\n\u001b[1;32m    452\u001b[0m         )\n\u001b[1;32m    453\u001b[0m     \u001b[39mexcept\u001b[39;00m \u001b[39mBaseException\u001b[39;00m \u001b[39mas\u001b[39;00m e:\n\u001b[1;32m    454\u001b[0m         \u001b[39mif\u001b[39;00m run_managers:\n",
      "File \u001b[0;32m~/miniforge3/envs/STI/lib/python3.12/site-packages/langchain_core/language_models/chat_models.py:671\u001b[0m, in \u001b[0;36mBaseChatModel._generate_with_cache\u001b[0;34m(self, messages, stop, run_manager, **kwargs)\u001b[0m\n\u001b[1;32m    669\u001b[0m \u001b[39melse\u001b[39;00m:\n\u001b[1;32m    670\u001b[0m     \u001b[39mif\u001b[39;00m inspect\u001b[39m.\u001b[39msignature(\u001b[39mself\u001b[39m\u001b[39m.\u001b[39m_generate)\u001b[39m.\u001b[39mparameters\u001b[39m.\u001b[39mget(\u001b[39m\"\u001b[39m\u001b[39mrun_manager\u001b[39m\u001b[39m\"\u001b[39m):\n\u001b[0;32m--> 671\u001b[0m         result \u001b[39m=\u001b[39m \u001b[39mself\u001b[39;49m\u001b[39m.\u001b[39;49m_generate(\n\u001b[1;32m    672\u001b[0m             messages, stop\u001b[39m=\u001b[39;49mstop, run_manager\u001b[39m=\u001b[39;49mrun_manager, \u001b[39m*\u001b[39;49m\u001b[39m*\u001b[39;49mkwargs\n\u001b[1;32m    673\u001b[0m         )\n\u001b[1;32m    674\u001b[0m     \u001b[39melse\u001b[39;00m:\n\u001b[1;32m    675\u001b[0m         result \u001b[39m=\u001b[39m \u001b[39mself\u001b[39m\u001b[39m.\u001b[39m_generate(messages, stop\u001b[39m=\u001b[39mstop, \u001b[39m*\u001b[39m\u001b[39m*\u001b[39mkwargs)\n",
      "File \u001b[0;32m~/miniforge3/envs/STI/lib/python3.12/site-packages/langchain_mistralai/chat_models.py:480\u001b[0m, in \u001b[0;36mChatMistralAI._generate\u001b[0;34m(self, messages, stop, run_manager, stream, **kwargs)\u001b[0m\n\u001b[1;32m    478\u001b[0m message_dicts, params \u001b[39m=\u001b[39m \u001b[39mself\u001b[39m\u001b[39m.\u001b[39m_create_message_dicts(messages, stop)\n\u001b[1;32m    479\u001b[0m params \u001b[39m=\u001b[39m {\u001b[39m*\u001b[39m\u001b[39m*\u001b[39mparams, \u001b[39m*\u001b[39m\u001b[39m*\u001b[39mkwargs}\n\u001b[0;32m--> 480\u001b[0m response \u001b[39m=\u001b[39m \u001b[39mself\u001b[39;49m\u001b[39m.\u001b[39;49mcompletion_with_retry(\n\u001b[1;32m    481\u001b[0m     messages\u001b[39m=\u001b[39;49mmessage_dicts, run_manager\u001b[39m=\u001b[39;49mrun_manager, \u001b[39m*\u001b[39;49m\u001b[39m*\u001b[39;49mparams\n\u001b[1;32m    482\u001b[0m )\n\u001b[1;32m    483\u001b[0m \u001b[39mreturn\u001b[39;00m \u001b[39mself\u001b[39m\u001b[39m.\u001b[39m_create_chat_result(response)\n",
      "File \u001b[0;32m~/miniforge3/envs/STI/lib/python3.12/site-packages/langchain_mistralai/chat_models.py:403\u001b[0m, in \u001b[0;36mChatMistralAI.completion_with_retry\u001b[0;34m(self, run_manager, **kwargs)\u001b[0m\n\u001b[1;32m    400\u001b[0m         _raise_on_error(response)\n\u001b[1;32m    401\u001b[0m         \u001b[39mreturn\u001b[39;00m response\u001b[39m.\u001b[39mjson()\n\u001b[0;32m--> 403\u001b[0m rtn \u001b[39m=\u001b[39m _completion_with_retry(\u001b[39m*\u001b[39;49m\u001b[39m*\u001b[39;49mkwargs)\n\u001b[1;32m    404\u001b[0m \u001b[39mreturn\u001b[39;00m rtn\n",
      "File \u001b[0;32m~/miniforge3/envs/STI/lib/python3.12/site-packages/langchain_mistralai/chat_models.py:400\u001b[0m, in \u001b[0;36mChatMistralAI.completion_with_retry.<locals>._completion_with_retry\u001b[0;34m(**kwargs)\u001b[0m\n\u001b[1;32m    398\u001b[0m \u001b[39melse\u001b[39;00m:\n\u001b[1;32m    399\u001b[0m     response \u001b[39m=\u001b[39m \u001b[39mself\u001b[39m\u001b[39m.\u001b[39mclient\u001b[39m.\u001b[39mpost(url\u001b[39m=\u001b[39m\u001b[39m\"\u001b[39m\u001b[39m/chat/completions\u001b[39m\u001b[39m\"\u001b[39m, json\u001b[39m=\u001b[39mkwargs)\n\u001b[0;32m--> 400\u001b[0m     _raise_on_error(response)\n\u001b[1;32m    401\u001b[0m     \u001b[39mreturn\u001b[39;00m response\u001b[39m.\u001b[39mjson()\n",
      "File \u001b[0;32m~/miniforge3/envs/STI/lib/python3.12/site-packages/langchain_mistralai/chat_models.py:131\u001b[0m, in \u001b[0;36m_raise_on_error\u001b[0;34m(response)\u001b[0m\n\u001b[1;32m    129\u001b[0m \u001b[39mif\u001b[39;00m httpx\u001b[39m.\u001b[39mcodes\u001b[39m.\u001b[39mis_error(response\u001b[39m.\u001b[39mstatus_code):\n\u001b[1;32m    130\u001b[0m     error_message \u001b[39m=\u001b[39m response\u001b[39m.\u001b[39mread()\u001b[39m.\u001b[39mdecode(\u001b[39m\"\u001b[39m\u001b[39mutf-8\u001b[39m\u001b[39m\"\u001b[39m)\n\u001b[0;32m--> 131\u001b[0m     \u001b[39mraise\u001b[39;00m httpx\u001b[39m.\u001b[39mHTTPStatusError(\n\u001b[1;32m    132\u001b[0m         \u001b[39mf\u001b[39m\u001b[39m\"\u001b[39m\u001b[39mError response \u001b[39m\u001b[39m{\u001b[39;00mresponse\u001b[39m.\u001b[39mstatus_code\u001b[39m}\u001b[39;00m\u001b[39m \u001b[39m\u001b[39m\"\u001b[39m\n\u001b[1;32m    133\u001b[0m         \u001b[39mf\u001b[39m\u001b[39m\"\u001b[39m\u001b[39mwhile fetching \u001b[39m\u001b[39m{\u001b[39;00mresponse\u001b[39m.\u001b[39murl\u001b[39m}\u001b[39;00m\u001b[39m: \u001b[39m\u001b[39m{\u001b[39;00merror_message\u001b[39m}\u001b[39;00m\u001b[39m\"\u001b[39m,\n\u001b[1;32m    134\u001b[0m         request\u001b[39m=\u001b[39mresponse\u001b[39m.\u001b[39mrequest,\n\u001b[1;32m    135\u001b[0m         response\u001b[39m=\u001b[39mresponse,\n\u001b[1;32m    136\u001b[0m     )\n",
      "\u001b[0;31mHTTPStatusError\u001b[0m: Error response 401 while fetching https://api.mistral.ai/v1/chat/completions: {\n  \"message\":\"Unauthorized\",\n  \"request_id\":\"a44ae404b40d5675dbb452563c4a0e56\"\n}"
     ]
    }
   ],
   "source": [
    "for t_name, t_dict in tqdm(inputs.items()):\n",
    "    if t_name not in already_done:\n",
    "        for k, v in t_dict.items():\n",
    "            p_desc = v['cea_prompt_desc']\n",
    "            p_nodesc = v['cea_prompt_nodesc']\n",
    "            out_desc = llm_7.invoke(p_desc)\n",
    "            out_nodesc = llm_7.invoke(p_nodesc)\n",
    "            outputs[t_name][k]['output_desc'] = out_desc\n",
    "            outputs[t_name][k]['output_nodesc'] = out_nodesc\n",
    "            time.sleep(1)"
   ]
  },
  {
   "cell_type": "code",
   "execution_count": 54,
   "metadata": {},
   "outputs": [
    {
     "name": "stderr",
     "output_type": "stream",
     "text": [
      " 50%|█████     | 101/200 [00:00<00:00, 14963.25it/s]\n"
     ]
    },
    {
     "ename": "KeyError",
     "evalue": "'output_desc'",
     "output_type": "error",
     "traceback": [
      "\u001b[0;31m---------------------------------------------------------------------------\u001b[0m",
      "\u001b[0;31mKeyError\u001b[0m                                  Traceback (most recent call last)",
      "Cell \u001b[0;32mIn[54], line 9\u001b[0m\n\u001b[1;32m      6\u001b[0m p_nodesc \u001b[38;5;241m=\u001b[39m v[\u001b[38;5;124m'\u001b[39m\u001b[38;5;124mcea_prompt_nodesc\u001b[39m\u001b[38;5;124m'\u001b[39m]\n\u001b[1;32m      7\u001b[0m \u001b[38;5;66;03m#out_desc = llm_7.invoke(p_desc)\u001b[39;00m\n\u001b[1;32m      8\u001b[0m \u001b[38;5;66;03m#out_nodesc = llm_7.invoke(p_nodesc)\u001b[39;00m\n\u001b[0;32m----> 9\u001b[0m \u001b[38;5;28;01mif\u001b[39;00m \u001b[38;5;28misinstance\u001b[39m(\u001b[43moutputs\u001b[49m\u001b[43m[\u001b[49m\u001b[43mt_name\u001b[49m\u001b[43m]\u001b[49m\u001b[43m[\u001b[49m\u001b[43mk\u001b[49m\u001b[43m]\u001b[49m\u001b[43m[\u001b[49m\u001b[38;5;124;43m'\u001b[39;49m\u001b[38;5;124;43moutput_desc\u001b[39;49m\u001b[38;5;124;43m'\u001b[39;49m\u001b[43m]\u001b[49m, AIMessage):\n\u001b[1;32m     10\u001b[0m     inputs[t_name][k][\u001b[38;5;124m'\u001b[39m\u001b[38;5;124moutput_desc\u001b[39m\u001b[38;5;124m'\u001b[39m] \u001b[38;5;241m=\u001b[39m outputs[t_name][k][\u001b[38;5;124m'\u001b[39m\u001b[38;5;124moutput_desc\u001b[39m\u001b[38;5;124m'\u001b[39m]\u001b[38;5;241m.\u001b[39mcontent\n\u001b[1;32m     11\u001b[0m \u001b[38;5;28;01melse\u001b[39;00m:\n",
      "\u001b[0;31mKeyError\u001b[0m: 'output_desc'"
     ]
    }
   ],
   "source": [
    "from langchain_core.messages.ai import AIMessage\n",
    "already_done = []\n",
    "for t_name, t_dict in tqdm(outputs.items()):\n",
    "    for k, v in t_dict.items():\n",
    "        p_desc = v['cea_prompt_desc']\n",
    "        p_nodesc = v['cea_prompt_nodesc']\n",
    "        #out_desc = llm_7.invoke(p_desc)\n",
    "        #out_nodesc = llm_7.invoke(p_nodesc)\n",
    "        if isinstance(outputs[t_name][k]['output_desc'], AIMessage):\n",
    "            inputs[t_name][k]['output_desc'] = outputs[t_name][k]['output_desc'].content\n",
    "        else:\n",
    "            inputs[t_name][k]['output_desc'] = outputs[t_name][k]['output_desc']\n",
    "        if isinstance(outputs[t_name][k]['output_nodesc'], AIMessage):\n",
    "            inputs[t_name][k]['output_nodesc'] = outputs[t_name][k]['output_nodesc'].content\n",
    "        else:\n",
    "            inputs[t_name][k]['output_nodesc'] = outputs[t_name][k]['output_nodesc']\n",
    "\n",
    "    already_done.append(t_name)"
   ]
  },
  {
   "cell_type": "code",
   "execution_count": 46,
   "metadata": {},
   "outputs": [
    {
     "data": {
      "text/plain": [
       "101"
      ]
     },
     "execution_count": 46,
     "metadata": {},
     "output_type": "execute_result"
    }
   ],
   "source": [
    "from langchain_core.messages.ai import AIMessage\n",
    "\n",
    "for t_name, t_dict in tqdm(outputs.items()):\n",
    "    for k, v in t_dict.items():\n",
    "        p_desc = v['cea_prompt_desc']\n",
    "        p_nodesc = v['cea_prompt_nodesc']\n",
    "        out_desc = llm_7.invoke(p_desc)\n",
    "        out_nodesc = llm_7.invoke(p_nodesc)\n",
    "        if isinstance(outputs[t_name][k]['output_desc'], AIMessage):\n",
    "            inputs[t_name][k]['output_desc'] = outputs[t_name][k]['output_desc'].content\n",
    "        else:\n",
    "            inputs[t_name][k]['output_desc'] = outputs[t_name][k]['output_desc']\n",
    "        if isinstance(outputs[t_name][k]['output_nodesc'], AIMessage):\n",
    "            inputs[t_name][k]['output_nodesc'] = outputs[t_name][k]['output_nodesc'].content\n",
    "        else:\n",
    "            inputs[t_name][k]['output_nodesc'] = outputs[t_name][k]['output_nodesc']"
   ]
  },
  {
   "cell_type": "code",
   "execution_count": 49,
   "metadata": {},
   "outputs": [
    {
     "data": {
      "text/plain": [
       "False"
      ]
     },
     "execution_count": 49,
     "metadata": {},
     "output_type": "execute_result"
    }
   ],
   "source": [
    "t_name in already_done"
   ]
  },
  {
   "cell_type": "code",
   "execution_count": 53,
   "metadata": {},
   "outputs": [
    {
     "data": {
      "text/plain": [
       "[]"
      ]
     },
     "execution_count": 53,
     "metadata": {},
     "output_type": "execute_result"
    }
   ],
   "source": [
    "already_done"
   ]
  },
  {
   "cell_type": "code",
   "execution_count": 58,
   "metadata": {},
   "outputs": [
    {
     "name": "stderr",
     "output_type": "stream",
     "text": [
      "100%|██████████| 200/200 [00:00<00:00, 180983.99it/s]"
     ]
    },
    {
     "name": "stdout",
     "output_type": "stream",
     "text": [
      "False\n",
      "False\n",
      "False\n",
      "False\n",
      "False\n",
      "False\n",
      "False\n",
      "False\n",
      "False\n",
      "False\n",
      "False\n",
      "False\n",
      "False\n",
      "False\n",
      "False\n",
      "False\n",
      "False\n",
      "False\n",
      "False\n",
      "False\n",
      "False\n",
      "False\n",
      "False\n",
      "False\n",
      "False\n",
      "False\n",
      "False\n",
      "False\n",
      "False\n",
      "False\n",
      "False\n",
      "False\n",
      "False\n",
      "False\n",
      "False\n",
      "False\n",
      "False\n",
      "False\n",
      "False\n",
      "False\n",
      "False\n",
      "False\n",
      "False\n",
      "False\n",
      "False\n",
      "False\n",
      "False\n",
      "False\n",
      "False\n",
      "False\n",
      "False\n",
      "False\n",
      "False\n",
      "False\n",
      "False\n",
      "False\n",
      "False\n",
      "False\n",
      "False\n",
      "False\n",
      "False\n",
      "False\n",
      "False\n",
      "False\n",
      "False\n",
      "False\n",
      "False\n",
      "False\n",
      "False\n",
      "False\n",
      "False\n",
      "False\n",
      "False\n",
      "False\n",
      "False\n",
      "False\n",
      "False\n",
      "False\n",
      "False\n",
      "False\n",
      "False\n",
      "False\n",
      "False\n",
      "False\n",
      "False\n",
      "False\n",
      "False\n",
      "False\n",
      "False\n",
      "False\n",
      "False\n",
      "False\n",
      "False\n",
      "False\n",
      "False\n",
      "False\n",
      "False\n",
      "False\n",
      "False\n",
      "False\n",
      "False\n",
      "True\n",
      "True\n",
      "True\n",
      "True\n",
      "True\n",
      "True\n",
      "True\n",
      "True\n",
      "True\n",
      "True\n",
      "True\n",
      "True\n",
      "True\n",
      "True\n",
      "True\n",
      "True\n",
      "True\n",
      "True\n",
      "True\n",
      "True\n",
      "True\n",
      "True\n",
      "True\n",
      "True\n",
      "True\n",
      "True\n",
      "True\n",
      "True\n",
      "True\n",
      "True\n",
      "True\n",
      "True\n",
      "True\n",
      "True\n",
      "True\n",
      "True\n",
      "True\n",
      "True\n",
      "True\n",
      "True\n",
      "True\n",
      "True\n",
      "True\n",
      "True\n",
      "True\n",
      "True\n",
      "True\n",
      "True\n",
      "True\n",
      "True\n",
      "True\n",
      "True\n",
      "True\n",
      "True\n",
      "True\n",
      "True\n",
      "True\n",
      "True\n",
      "True\n",
      "True\n",
      "True\n",
      "True\n",
      "True\n",
      "True\n",
      "True\n",
      "True\n",
      "True\n",
      "True\n",
      "True\n",
      "True\n",
      "True\n",
      "True\n",
      "True\n",
      "True\n",
      "True\n",
      "True\n",
      "True\n",
      "True\n",
      "True\n",
      "True\n",
      "True\n",
      "True\n",
      "True\n",
      "True\n",
      "True\n",
      "True\n",
      "True\n",
      "True\n",
      "True\n",
      "True\n",
      "True\n",
      "True\n",
      "True\n",
      "True\n",
      "True\n",
      "True\n",
      "True\n",
      "True\n",
      "True\n"
     ]
    },
    {
     "name": "stderr",
     "output_type": "stream",
     "text": [
      "\n"
     ]
    }
   ],
   "source": [
    "from langchain_core.messages.ai import AIMessage\n",
    "for t_name, t_dict in tqdm(outputs.items()):\n",
    "    print(t_name not in already_done)\n"
   ]
  },
  {
   "cell_type": "code",
   "execution_count": 44,
   "metadata": {},
   "outputs": [],
   "source": [
    "with open('results/outputsCEA2.json', 'w') as f:\n",
    "    json.dump(inputs, f)"
   ]
  },
  {
   "cell_type": "markdown",
   "metadata": {},
   "source": [
    "### more"
   ]
  },
  {
   "cell_type": "code",
   "execution_count": 20,
   "metadata": {},
   "outputs": [
    {
     "name": "stdout",
     "output_type": "stream",
     "text": [
      "\n",
      "\n",
      "Table_name: NQK7B1JD\n",
      "\n"
     ]
    },
    {
     "name": "stderr",
     "output_type": "stream",
     "text": [
      "0it [00:00, ?it/s]\n"
     ]
    },
    {
     "ename": "KeyError",
     "evalue": "'NQK7B1JD'",
     "output_type": "error",
     "traceback": [
      "\u001b[0;31m---------------------------------------------------------------------------\u001b[0m",
      "\u001b[0;31mKeyError\u001b[0m                                  Traceback (most recent call last)",
      "Cell \u001b[0;32mIn[20], line 30\u001b[0m\n\u001b[1;32m     27\u001b[0m         prompt_nodesc \u001b[38;5;241m=\u001b[39m generate_CEA_prompt(table\u001b[38;5;241m.\u001b[39mdata, cell_content, candidates_as_str(data[name][\u001b[38;5;28mstr\u001b[39m((r, c))][\u001b[38;5;124m'\u001b[39m\u001b[38;5;124mretrieved_list\u001b[39m\u001b[38;5;124m'\u001b[39m]))\n\u001b[1;32m     28\u001b[0m         \u001b[38;5;66;03m# print(f\"\\nPrompt w. description:\\n{prompt}\\n\\n\")\u001b[39;00m\n\u001b[1;32m     29\u001b[0m         \u001b[38;5;66;03m# print(f\"\\nPrompt without description:\\n{prompt_nodesc}\\n\\n\")\u001b[39;00m\n\u001b[0;32m---> 30\u001b[0m         \u001b[43mexport\u001b[49m\u001b[43m[\u001b[49m\u001b[43mname\u001b[49m\u001b[43m]\u001b[49m[\u001b[38;5;28mstr\u001b[39m((r, c))] \u001b[38;5;241m=\u001b[39m {\n\u001b[1;32m     31\u001b[0m             \u001b[38;5;124m'\u001b[39m\u001b[38;5;124mcell\u001b[39m\u001b[38;5;124m'\u001b[39m: cell_content,\n\u001b[1;32m     32\u001b[0m             \u001b[38;5;124m'\u001b[39m\u001b[38;5;124mtable_desc\u001b[39m\u001b[38;5;124m'\u001b[39m: table\u001b[38;5;241m.\u001b[39mt_desc,\n\u001b[1;32m     33\u001b[0m             \u001b[38;5;124m'\u001b[39m\u001b[38;5;124mcea_prompt_desc\u001b[39m\u001b[38;5;124m'\u001b[39m: prompt,\n\u001b[1;32m     34\u001b[0m             \u001b[38;5;124m'\u001b[39m\u001b[38;5;124mcea_prompt_nodesc\u001b[39m\u001b[38;5;124m'\u001b[39m: prompt_nodesc\n\u001b[1;32m     35\u001b[0m         }\n\u001b[1;32m     39\u001b[0m \u001b[38;5;124;03m'''\u001b[39;00m\n\u001b[1;32m     40\u001b[0m \u001b[38;5;124;03m        out = llm_7.invoke(prompt)\u001b[39;00m\n\u001b[1;32m     41\u001b[0m \u001b[38;5;124;03m        time.sleep(2)\u001b[39;00m\n\u001b[0;32m   (...)\u001b[0m\n\u001b[1;32m     52\u001b[0m \u001b[38;5;124;03m        }\u001b[39;00m\n\u001b[1;32m     53\u001b[0m \u001b[38;5;124;03m'''\u001b[39;00m\n",
      "\u001b[0;31mKeyError\u001b[0m: 'NQK7B1JD'"
     ]
    }
   ],
   "source": [
    "index = []\n",
    "export = {}\n",
    "print(f\"\\n\\nTable_name: {table_name}\\n\")\n",
    "for i, (name, r, c, l)  in tqdm(filtered_df.iterrows()):\n",
    "    # print(i, name, c, r, l)\n",
    "    \n",
    "    if name != table_name:\n",
    "        table_name = name\n",
    "        table = DataTable(f\"data/HardTablesR1/DataSets/HardTablesR1/Valid/tables/{name}.csv\")\n",
    "        export[name] = {}\n",
    "        # Generate table description\n",
    "        table.generate_t_description(llm_7)\n",
    "        table_as_str = get_table_str(table.data)\n",
    "\n",
    "    # print(table.data)\n",
    "    \n",
    "    target_id = l.split('/')[-1]\n",
    "    # print(f\"\\nGround Truth: {target_id}\\n\")\n",
    "    \n",
    "    ids_list = [d['id'] for d in data[name][str((r, c))]['retrieved_list']]\n",
    "    \n",
    "    if target_id in ids_list:\n",
    "\n",
    "        # Perform CEA:\n",
    "        cell_content = data[name][str((r, c))]['cell']\n",
    "        prompt = generate_CEA_prompt_with_t_desc(table.data, cell_content, candidates_as_str(data[name][str((r, c))]['retrieved_list']), table.t_desc)\n",
    "        prompt_nodesc = generate_CEA_prompt(table.data, cell_content, candidates_as_str(data[name][str((r, c))]['retrieved_list']))\n",
    "        # print(f\"\\nPrompt w. description:\\n{prompt}\\n\\n\")\n",
    "        # print(f\"\\nPrompt without description:\\n{prompt_nodesc}\\n\\n\")\n",
    "        export[name][str((r, c))] = {\n",
    "            'cell': cell_content,\n",
    "            'table_desc': table.t_desc,\n",
    "            'cea_prompt_desc': prompt,\n",
    "            'cea_prompt_nodesc': prompt_nodesc\n",
    "        }\n",
    "        \n",
    "        \n",
    "        \n",
    "'''\n",
    "        out = llm_7.invoke(prompt)\n",
    "        time.sleep(2)\n",
    "        # print(out.content)\n",
    "        y_true.append(target_id)\n",
    "        y_pred.append(out.content)\n",
    "        index.append(i)\n",
    "        export[name][str((r, c))] = {\n",
    "            'cell': cell_content,\n",
    "            'table_desc': table.t_desc,\n",
    "            'cea_prompt': prompt,\n",
    "            'cea_model': llm_7.model,\n",
    "            'model_out': out.content\n",
    "        }\n",
    "'''"
   ]
  },
  {
   "cell_type": "code",
   "execution_count": 51,
   "metadata": {},
   "outputs": [],
   "source": [
    "y_preds = [el.strip('[[[').strip(']]]') for el in y_pred]"
   ]
  },
  {
   "cell_type": "code",
   "execution_count": 52,
   "metadata": {},
   "outputs": [
    {
     "name": "stdout",
     "output_type": "stream",
     "text": [
      "Accuracy: 75.00%\n"
     ]
    }
   ],
   "source": [
    "correct = 0\n",
    "for true, pred in zip(y_true, y_preds):\n",
    "    if true == pred:\n",
    "        correct += 1\n",
    "print(f\"Accuracy: {correct/len(y_true)*100:.2f}%\")"
   ]
  },
  {
   "cell_type": "code",
   "execution_count": 53,
   "metadata": {},
   "outputs": [],
   "source": [
    "with open('nogit/results_8x7_Cea_sub80.json', 'w') as f:\n",
    "    json.dump(export, f)"
   ]
  },
  {
   "cell_type": "code",
   "execution_count": 1,
   "metadata": {},
   "outputs": [
    {
     "name": "stderr",
     "output_type": "stream",
     "text": [
      "/Users/giofratti/miniforge3/envs/STI/lib/python3.12/site-packages/tqdm/auto.py:21: TqdmWarning: IProgress not found. Please update jupyter and ipywidgets. See https://ipywidgets.readthedocs.io/en/stable/user_install.html\n",
      "  from .autonotebook import tqdm as notebook_tqdm\n",
      "A new version of the following files was downloaded from https://huggingface.co/apple/OpenELM-450M-Instruct:\n",
      "- configuration_openelm.py\n",
      ". Make sure to double-check they do not contain any added malicious code. To avoid downloading new versions of the code file, you can pin a revision.\n",
      "A new version of the following files was downloaded from https://huggingface.co/apple/OpenELM-450M-Instruct:\n",
      "- modeling_openelm.py\n",
      ". Make sure to double-check they do not contain any added malicious code. To avoid downloading new versions of the code file, you can pin a revision.\n"
     ]
    }
   ],
   "source": [
    "from transformers import AutoModelForCausalLM, AutoTokenizer\n",
    "\n",
    "# Load the model and tokenizer\n",
    "model = AutoModelForCausalLM.from_pretrained(\"apple/OpenELM-450M-Instruct\", trust_remote_code=True) \n",
    "tokenizer = AutoTokenizer.from_pretrained(\"NousResearch/Llama-2-7b-hf\")"
   ]
  },
  {
   "cell_type": "code",
   "execution_count": 84,
   "metadata": {},
   "outputs": [
    {
     "ename": "NameError",
     "evalue": "name 'tokenizer' is not defined",
     "output_type": "error",
     "traceback": [
      "\u001b[0;31m---------------------------------------------------------------------------\u001b[0m",
      "\u001b[0;31mNameError\u001b[0m                                 Traceback (most recent call last)",
      "Cell \u001b[0;32mIn[84], line 2\u001b[0m\n\u001b[1;32m      1\u001b[0m \u001b[38;5;66;03m# Encode the prompt into tokens\u001b[39;00m\n\u001b[0;32m----> 2\u001b[0m inputs \u001b[38;5;241m=\u001b[39m \u001b[43mtokenizer\u001b[49m(export[\u001b[38;5;124m'\u001b[39m\u001b[38;5;124mNQK7B1JD\u001b[39m\u001b[38;5;124m'\u001b[39m][\u001b[38;5;124m'\u001b[39m\u001b[38;5;124m(1, 0)\u001b[39m\u001b[38;5;124m'\u001b[39m][\u001b[38;5;124m'\u001b[39m\u001b[38;5;124mcea_prompt_desc\u001b[39m\u001b[38;5;124m'\u001b[39m], return_tensors\u001b[38;5;241m=\u001b[39m\u001b[38;5;124m\"\u001b[39m\u001b[38;5;124mpt\u001b[39m\u001b[38;5;124m\"\u001b[39m)\n\u001b[1;32m      4\u001b[0m \u001b[38;5;66;03m# Generate text\u001b[39;00m\n\u001b[1;32m      5\u001b[0m outputs \u001b[38;5;241m=\u001b[39m model\u001b[38;5;241m.\u001b[39mgenerate(\n\u001b[1;32m      6\u001b[0m     inputs[\u001b[38;5;124m'\u001b[39m\u001b[38;5;124minput_ids\u001b[39m\u001b[38;5;124m'\u001b[39m], \n\u001b[1;32m      7\u001b[0m     attention_mask\u001b[38;5;241m=\u001b[39minputs[\u001b[38;5;124m'\u001b[39m\u001b[38;5;124mattention_mask\u001b[39m\u001b[38;5;124m'\u001b[39m], \n\u001b[1;32m      8\u001b[0m     max_length\u001b[38;5;241m=\u001b[39m\u001b[38;5;241m2000\u001b[39m, \n\u001b[1;32m      9\u001b[0m     pad_token_id\u001b[38;5;241m=\u001b[39mtokenizer\u001b[38;5;241m.\u001b[39meos_token_id\n\u001b[1;32m     10\u001b[0m )\n",
      "\u001b[0;31mNameError\u001b[0m: name 'tokenizer' is not defined"
     ]
    }
   ],
   "source": [
    "# Encode the prompt into tokens\n",
    "inputs = tokenizer(export['NQK7B1JD']['(1, 0)']['cea_prompt_desc'], return_tensors=\"pt\")\n",
    "\n",
    "# Generate text\n",
    "outputs = model.generate(\n",
    "    inputs['input_ids'], \n",
    "    attention_mask=inputs['attention_mask'], \n",
    "    max_length=2000, \n",
    "    pad_token_id=tokenizer.eos_token_id\n",
    ")\n",
    "\n",
    "# Decode the generated tokens back into text\n",
    "generated_text = tokenizer.decode(outputs[0], skip_special_tokens=True)\n",
    "\n",
    "print(generated_text)\n"
   ]
  },
  {
   "cell_type": "code",
   "execution_count": 12,
   "metadata": {},
   "outputs": [
    {
     "name": "stdout",
     "output_type": "stream",
     "text": [
      "Based on the table, table description, cell content and retrieved entities and their types you have to associate the cell content to one of the retrieved entities \n",
      "\n",
      "Table:\n",
      "| col0 | col1 | col2 |\n",
      "|------|------|------|\n",
      "| lincoln township | 209 | 42.56 |\n",
      "| stony creek township | 265 | 28.28 |\n",
      "| hartford township | 257 | 24.08 |\n",
      "\n",
      "\n",
      "Table Description: {'col0': \"Column 0 contains names of townships, which are small divisions of a county responsible for providing local services. The townships in this column are from an unknown geographical region in the United States, as they follow the common naming convention of using 'township' in their name.\", 'col1': 'Column 1 contains integer values that likely represent population counts for each township. These values range from 209 to 265, indicating small to moderately-sized townships.', 'col2': 'Column 2 contains decimal values that likely represent the geographical area of each township in square miles. These values range from 24.08 to 42.56, indicating that the townships are relatively small in size.'}\n",
      "\n",
      "Cell Content: lincoln township\n",
      "\n",
      "Retrieved Entities and their types: <[ID] Q6551080 [NAME] Lincoln Township [DESC] township in Butler County, Kansas [TYPE] township of Kansas>, <[ID] Q9041492 [NAME] Lincoln Township [DESC] township in Poweshiek County, Iowa [TYPE] township of Iowa>, <[ID] Q9041510 [NAME] Lincoln Township [DESC] township in Ringgold County, Iowa [TYPE] township of Iowa>, <[ID] Q9041465 [NAME] Lincoln Township [DESC] township in Marshall County, Kansas, United States [TYPE] township of Kansas>, <[ID] Q10786155 [NAME] Lincoln Township [DESC] township in Jasper County, Missouri, USA [TYPE] township of Missouri>, <[ID] Q6029882 [NAME] Lincoln Township [DESC] township in Brown County, South Dakota [TYPE] township in the United States>, <[ID] Q1909371 [NAME] Lincoln Township [DESC] township in Blue Earth County, Minnesota [TYPE] township of Minnesota>, <[ID] Q955923 [NAME] Lincoln Township [DESC] township in Franklin County, Nebraska [TYPE] township of Nebraska>, <[ID] Q6551086 [NAME] Lincoln Township [DESC] township in Cloud County, Kansas [TYPE] township of Kansas>, <[ID] Q6551126 [NAME] Lincoln Township [DESC] township in Midland County, Michigan [TYPE] township of Michigan>, <[ID] Q6551151 [NAME] Lincoln Township [DESC] township in St. Joseph County, Indiana [TYPE] township of Indiana>, <[ID] Q9041506 [NAME] Lincoln Township [DESC] township in Shelby County, Iowa [TYPE] township of Iowa>, <[ID] Q10786158 [NAME] Lincoln Township [DESC] township in Mahaska County, Iowa [TYPE] township of Iowa>, <[ID] Q6551110 [NAME] Lincoln Township [DESC] township in Grant County, Kansas, United States [TYPE] township of Kansas>, <[ID] Q6551108 [NAME] Lincoln Township [DESC] township in Gage County, Nebraska [TYPE] township of Nebraska>, <[ID] Q6551157 [NAME] Lincoln Township [DESC] township in White County, Indiana [TYPE] township of Indiana>, <[ID] Q6029885 [NAME] Lincoln Township [DESC] township in Clark County, South Dakota [TYPE] township in the United States>, <[ID] Q7996268 [NAME] Lincoln Township [DESC] township in Newton County, Indiana [TYPE] township of Indiana>, <[ID] Q9041477 [NAME] Lincoln Township [DESC] township in Newton County, Arkansas [TYPE] township of Arkansas>, <[ID] Q9041500 [NAME] Lincoln Township [DESC] township in Republic County, Kansas, United States [TYPE] township of Kansas>, <[ID] Q9041522 [NAME] Lincoln Township [DESC] township in Union County, Iowa [TYPE] township of Iowa>, <[ID] Q9041469 [NAME] Lincoln Township [DESC] township in Monona County, Iowa [TYPE] township of Iowa>, <[ID] Q2220051 [NAME] Lincoln Township [DESC] township in Adams County, Iowa [TYPE] township of Iowa>, <[ID] Q5390548 [NAME] Lincoln Township [DESC] township in Page County, Iowa [TYPE] township of Iowa>, <[ID] Q2895495 [NAME] Lincoln Township [DESC] township in Johnson County, Iowa, United States [TYPE] township of Iowa>, <[ID] Q6551067 [NAME] Lincoln Township [DESC] township in Andrew County, Missouri [TYPE] township of Missouri>, <[ID] Q6551073 [NAME] Lincoln Township [DESC] township in Arenac County, Michigan [TYPE] township of Michigan>, <[ID] Q6551120 [NAME] Lincoln Township [DESC] township in Kearney County, Nebraska [TYPE] township of Nebraska>, <[ID] Q10786157 [NAME] Lincoln Township [DESC] township in Lawrence County, Missouri, USA [TYPE] township of Missouri>, <[ID] Q9041443 [NAME] Lincoln Township [DESC] township in Holt County, Missouri, USA [TYPE] township of Missouri>, <[ID] Q9041455 [NAME] Lincoln Township [DESC] township in Linn County, Kansas, United States [TYPE] township of Kansas>, <[ID] Q7996193 [NAME] Lincoln Township [DESC] township in Hendricks County, Indiana [TYPE] township of Indiana>, <[ID] Q10786164 [NAME] Lincoln Township [DESC] township in Pottawattamie County, Iowa [TYPE] township of Iowa>, <[ID] Q9041503 [NAME] Lincoln Township [DESC] township in Rice County, Kansas, United States [TYPE] township of Kansas>, <[ID] Q2219510 [NAME] Lincoln Township [DESC] township in Audubon County, Iowa [TYPE] township of Iowa>, <[ID] Q6551096 [NAME] Lincoln Township [DESC] township in Decatur County, Kansas [TYPE] township of Kansas>, <[ID] Q6551131 [NAME] Lincoln Township [DESC] township in Morrow County, Ohio [TYPE] township of Ohio>, <[ID] Q6551142 [NAME] Lincoln Township [DESC] township in Perkins County, South Dakota [TYPE] civil township of South Dakota>, <[ID] Q2879565 [NAME] Lincoln Township [DESC] township in Tama County, Iowa [TYPE] township of Iowa>, <[ID] Q10786161 [NAME] Lincoln Township [DESC] township in Pembina County, North Dakota [TYPE] township in the United States>, <[ID] Q5814715 [NAME] Lincoln Township [DESC] township in Huntingdon County, Pennsylvania [TYPE] township of Pennsylvania>, <[ID] Q6551085 [NAME] Lincoln Township [DESC] township in Clare County, Michigan [TYPE] township of Michigan>, <[ID] Q6551104 [NAME] Lincoln Township [DESC] township in Franklin County, Kansas, United States [TYPE] township of Kansas>, <[ID] Q6551145 [NAME] Lincoln Township [DESC] township in Russell County, Kansas [TYPE] township of Kansas>, <[ID] Q6029900 [NAME] Lincoln Township [DESC] township in Spink County, South Dakota [TYPE] township in the United States>, <[ID] Q5840307 [NAME] Lincoln Township [DESC] township in Osage County, Kansas, United States [TYPE] township of Kansas>, <[ID] Q5402333 [NAME] Lincoln Township [DESC] township in Somerset County, Pennsylvania [TYPE] township of Pennsylvania>, <[ID] Q10786166 [NAME] Lincoln Township [DESC] township in Reno County, Kansas, United States [TYPE] township of Kansas>, <[ID] Q9041473 [NAME] Lincoln Township [DESC] township in Neosho County, Kansas, United States [TYPE] township of Kansas>, <[ID] Q1894136 [NAME] Lincoln Township [DESC] township in Bedford County, Pennsylvania [TYPE] township of Pennsylvania>, <[ID] Q5659432 [NAME] Lincoln Township [DESC] township in Stafford County, Kansas, United States [TYPE] township of Kansas>, <[ID] Q6551139 [NAME] Lincoln Township [DESC] township in Osceola County, Michigan [TYPE] township of Michigan>, <[ID] Q9041429 [NAME] Lincoln Township [DESC] township in Grundy County, Iowa [TYPE] township of Iowa>, <[ID] Q9041459 [NAME] Lincoln Township [DESC] township in Madison County, Arkansas [TYPE] township of Arkansas>, <[ID] Q6551093 [NAME] Lincoln Township [DESC] township in Cuming County, Nebraska [TYPE] township of Nebraska>, <[ID] Q16894166 [NAME] Lincoln Township [DESC] former township of New Jersey [TYPE] township of New Jersey>, <[ID] Q2218409 [NAME] Lincoln Township [DESC] township in Calhoun County, Iowa [TYPE] township of Iowa>, <[ID] Q2218938 [NAME] Lincoln Township [DESC] township in Black Hawk County, Iowa [TYPE] township of Iowa>, <[ID] Q304908 [NAME] Lincoln Township [DESC] town in Emmet County, Iowa, United States [TYPE] township of Iowa>, <[ID] Q9041445 [NAME] Lincoln Township [DESC] township in Iowa County, Iowa [TYPE] township of Iowa>, <[ID] Q9041516 [NAME] Lincoln Township [DESC] township in Stone County, Missouri, USA [TYPE] township of Missouri>, <[ID] Q5393151 [NAME] Lincoln Township [DESC] township in Story County, Iowa [TYPE] township of Iowa>, <[ID] Q6551123 [NAME] Lincoln Township [DESC] township in LaPorte County, Indiana [TYPE] township of Indiana>, <[ID] Q6551147 [NAME] Lincoln Township [DESC] township in Sherman County, Kansas [TYPE] township of Kansas>, <[ID] Q9041450 [NAME] Lincoln Township [DESC] township in Kossuth County, Iowa [TYPE] township of Iowa>, <[ID] Q9041483 [NAME] Lincoln Township [DESC] township in Pawnee County, Kansas, United States [TYPE] township of Kansas>, <[ID] Q9041527 [NAME] Lincoln Township [DESC] township in Winneshiek County, Iowa [TYPE] township of Iowa>, <[ID] Q956531 [NAME] Lincoln Township [DESC] township in Christian County, Missouri, United States [TYPE] township of Missouri>, <[ID] Q2220214 [NAME] Lincoln Township [DESC] township in Cerro Gordo County, Iowa [TYPE] township of Iowa>, <[ID] Q2919902 [NAME] Lincoln Township [DESC] township in Huron County, Michigan [TYPE] township of Michigan>, <[ID] Q5685524 [NAME] Lincoln Township [DESC] township in Knox County, Nebraska [TYPE] township of Nebraska>, <[ID] Q5853418 [NAME] Lincoln Township [DESC] township in Dallas County, Missouri, USA [TYPE] township of Missouri>, <[ID] Q7997915 [NAME] Lincoln Township [DESC] township in Atchison County, Missouri [TYPE] township of Missouri>, <[ID] Q7999041 [NAME] Lincoln Township [DESC] township in Sedgwick County, Kansas [TYPE] township of Kansas>, <[ID] Q6551100 [NAME] Lincoln Township [DESC] township in Edwards County, Kansas, United States [TYPE] township of Kansas>, <[ID] Q6551118 [NAME] Lincoln Township [DESC] township in Jackson County, Kansas [TYPE] township of Kansas>, <[ID] Q10786162 [NAME] Lincoln Township [DESC] township in Plymouth County, Iowa [TYPE] township of Iowa>, <[ID] Q10786167 [NAME] Lincoln Township [DESC] township in Sioux County, Iowa [TYPE] township of Iowa>, <[ID] Q263769 [NAME] Lincoln Township [DESC] town in Appanoose County, Iowa, United States [TYPE] township of Iowa>, <[ID] Q2219274 [NAME] Lincoln Township [DESC] township in Clay County, Iowa [TYPE] township of Iowa>, <[ID] Q6551103 [NAME] Lincoln Township [DESC] township in Emmons County, North Dakota [TYPE] township of North Dakota>, <[ID] Q9041526 [NAME] Lincoln Township [DESC] human settlement in Winnebago County, Iowa, United States of America [TYPE] township of Iowa>, <[ID] Q9041486 [NAME] Lincoln Township [DESC] township in Polk County, Iowa [TYPE] township of Iowa>, <[ID] Q517754 [NAME] Lincoln Township [DESC] town in Coffey County, Kansas, United States [TYPE] township of Kansas>, <[ID] Q2218789 [NAME] Lincoln Township [DESC] township in Buena Vista County, Iowa [TYPE] township of Iowa>, <[ID] Q10786150 [NAME] Lincoln Township [DESC] township in Douglas County, Missouri [TYPE] township of Missouri>, <[ID] Q10786168 [NAME] Lincoln Township [DESC] township in Warren County, Iowa [TYPE] township of Iowa>, <[ID] Q6029903 [NAME] Lincoln Township [DESC] township in Tripp County, South Dakota [TYPE] township in the United States>, <[ID] Q10786169 [NAME] Lincoln Township [DESC] township in Worth County, Iowa [TYPE] township of Iowa>, <[ID] Q9041431 [NAME] Lincoln Township [DESC] township in Daviess County, Missouri, USA [TYPE] township of Missouri>, <[ID] Q9041426 [NAME] Lincoln Township [DESC] township in Anderson County, Kansas [TYPE] township of Kansas>, <[ID] Q6029892 [NAME] Lincoln Township [DESC] township in Douglas County, South Dakota [TYPE] township in the United States>, <[ID] Q6029893 [NAME] Lincoln Township [DESC] township in Lincoln County, South Dakota [TYPE] township in the United States>, <[ID] Q6551069 [NAME] Lincoln Township [DESC] township in Antelope County, Nebraska [TYPE] township of Nebraska>, <[ID] Q6551081 [NAME] Lincoln Township [DESC] township in Caldwell County, Missouri [TYPE] township of Missouri>, <[ID] Q6551098 [NAME] Lincoln Township [DESC] township in Dickinson County, Kansas [TYPE] township of Kansas>, <[ID] Q9041470 [NAME] Lincoln Township [DESC] township in Montgomery County, Iowa [TYPE] township of Iowa>, <[ID] Q9041515 [NAME] Lincoln Township [DESC] township in Smith County, Kansas, United States [TYPE] township of Kansas>, <[ID] Q7994662 [NAME] Lincoln Township [DESC] township in Washington County, Arkansas [TYPE] township of Arkansas>, <[ID] Q9041437 [NAME] Lincoln Township [DESC] township in Clark County, Missouri, USA [TYPE] township of Missouri>, <[ID] Q9041440 [NAME] Lincoln Township [DESC] township in Hamilton County, Iowa [TYPE] township of Iowa>, <[ID] Q10786152 [NAME] Lincoln Township [DESC] township in Harrison County, Iowa [TYPE] township of Iowa>, <[ID] Q10786160 [NAME] Lincoln Township [DESC] township in O'Brien County, Iowa [TYPE] township of Iowa>, <[ID] Q1907720 [NAME] Lincoln Township [DESC] township in Marshall County, Minnesota [TYPE] township of Minnesota>, <[ID] Q987533 [NAME] Lincoln Township [DESC] township of Illinois [TYPE] township of Illinois>, <[ID] Q1892636 [NAME] Lincoln Township [DESC] township in Dallas County, Iowa [TYPE] township of Iowa>, <[ID] Q6551134 [NAME] Lincoln Township [DESC] township in Newaygo County, Michigan [TYPE] township of Michigan>, <[ID] Q10786154 [NAME] Lincoln Township [DESC] township in Harrison County, Missouri, USA [TYPE] township of Missouri>, <[ID] Q9041438 [NAME] Lincoln Township [DESC] township in Grundy County, Missouri, USA [TYPE] township of Missouri>, <[ID] Q9041489 [NAME] Lincoln Township [DESC] township in Pottawatomie County, Kansas, United States [TYPE] township of Kansas>, <[ID] Q9041481 [NAME] Lincoln Township [DESC] township in Ottawa County, Kansas, United States [TYPE] township of Kansas>, <[ID] Q5493476 [NAME] Lincoln Township [DESC] township in Washington County, Kansas, United States [TYPE] township of Kansas>, <[ID] Q2218923 [NAME] Lincoln Township [DESC] township in Adair County, Iowa [TYPE] township of Iowa>, <[ID] Q6551091 [NAME] Lincoln Township [DESC] township in Crawford County, Kansas [TYPE] township of Kansas>, <[ID] Q7999314 [NAME] Lincoln Township [DESC] township in Scott County, Iowa [TYPE] township of Iowa>, <[ID] Q9041460 [NAME] Lincoln Township [DESC] township in Madison County, Iowa [TYPE] township of Iowa>, <[ID] Q946375 [NAME] Lincoln Township [DESC] township in Lucas County, Iowa [TYPE] township of Iowa>, <[ID] Q6551101 [NAME] Lincoln Township [DESC] township in Ellsworth County, Kansas [TYPE] township of Kansas>, <[ID] Q9041493 [NAME] Lincoln Township [DESC] township in Putnam County, Missouri, USA [TYPE] township of Missouri>, <[ID] Q10786159 [NAME] Lincoln Township [DESC] township in Nodaway County, Missouri, USA [TYPE] township of Missouri>, <[ID] Q10786163 [NAME] Lincoln Township [DESC] township in Pocahontas County, Iowa [TYPE] township of Iowa>, <[ID] Q9041531 [NAME] Lincoln Township [DESC] township in Wright County, Iowa [TYPE] township of Iowa>, <[ID] Q549868 [NAME] Lincoln Township [DESC] town in Isabella County, Michigan, United States [TYPE] township of Michigan>, <[ID] Q2218959 [NAME] Lincoln Township [DESC] township in Cass County, Iowa, USA [TYPE] township of Iowa>, <[ID] Q117566706 [NAME] Lincoln Township Cemetery [DESC] cemetery in Newaygo County, Michigan, United States [TYPE] cemetery>, <[ID] Q942619 [NAME] West Lincoln Township [DESC] township located in Logan County, Illinois [TYPE] township of Illinois>, <[ID] Q117690076 [NAME] Lincoln Township Cemetery [DESC] cemetery in Grundy County, Iowa, United States [TYPE] cemetery>, <[ID] Q117702377 [NAME] Lincoln Township Cemetery [DESC] cemetery in Tama County, Iowa, United States [TYPE] cemetery>, <[ID] Q117659503 [NAME] Lincoln Township Cemetery [DESC] cemetery in Sioux County, Iowa, United States [TYPE] cemetery>, <[ID] Q6550526 [NAME] Lincoln Charter Township [DESC] township in Berrien County, Michigan [TYPE] charter township of Michigan>, <[ID] Q9038560 [NAME] East Lincoln Township [DESC] township in Mitchell County, Iowa [TYPE] township of Iowa>, <[ID] Q10834508 [NAME] West Lincoln Township [DESC] township in Mitchell County, Iowa [TYPE] township of Iowa>, <[ID] Q117561579 [NAME] Lincoln Township Cemetery [DESC] cemetery in Pottawattamie County, Iowa, United States [TYPE] cemetery>, <[ID] Q117685219 [NAME] Lincoln Township Cemetery [DESC] cemetery in Monroe County, Wisconsin, United States [TYPE] cemetery>, <[ID] Q117680438 [NAME] Lincoln Township Cemetery [DESC] cemetery in Story County, Iowa, United States [TYPE] cemetery>, <[ID] Q29640492 [NAME] Lincoln Township Mausoleum [DESC] historic site in Story County, Iowa [TYPE] mausoleum>, <[ID] Q117572780 [NAME] Lincoln Township Cemetery [DESC] cemetery in Buena Vista County, Iowa, United States [TYPE] cemetery>, <[ID] Q117559847 [NAME] Lincoln Township Cemetery [DESC] cemetery in Cerro Gordo County, Iowa, United States [TYPE] cemetery>, <[ID] Q117590545 [NAME] Lincoln Township Cemetery [DESC] cemetery in Black Hawk County, Iowa, United States [TYPE] cemetery>, <[ID] Q5328837 [NAME] East Lincoln Township [DESC] township in Logan County, Illinois [TYPE] township of Illinois>, <[ID] Q117701283 [NAME] Lincoln Township Cemetery [DESC] cemetery in Newton County, Indiana, United States [TYPE] cemetery>, <[ID] Q117664653 [NAME] Lincoln Township Cemetery [DESC] cemetery in Cass County, Iowa, United States [TYPE] cemetery>, <[ID] Q117639350 [NAME] Lincoln Township Cemetery [DESC] cemetery in Winnebago County, Iowa, United States [TYPE] cemetery>, <[ID] Q117694954 [NAME] Lincoln Township Cemetery [DESC] cemetery in Shelby County, Iowa, United States [TYPE] cemetery>, <[ID] Q117586201 [NAME] Lincoln Township Cemetery [DESC] cemetery in Osceola County, Michigan, United States [TYPE] cemetery>, <[ID] Q9041534 [NAME] Lincoln Dale Township [DESC] township in Sheridan County, North Dakota [TYPE] township in the United States>, <[ID] Q9041536 [NAME] Lincoln Valley Township [DESC] township in Divide County, North Dakota [TYPE] township in the United States>, <[ID] Q117540821 [NAME] Lincoln Township Cemetery [DESC] cemetery in Audubon County, Iowa, United States [TYPE] cemetery>, <[ID] Q117689194 [NAME] Lincoln Township Cemetery [DESC] cemetery in Polk County, Iowa, United States [TYPE] cemetery>, <[ID] Q117559473 [NAME] Lincoln Township Cemetery [DESC] cemetery in Isabella County, Michigan, United States [TYPE] cemetery>, <[ID] Q117520107 [NAME] Lincoln Township Cemetery [DESC] cemetery in Clare County, Michigan, United States [TYPE] cemetery>, <[ID] Q117496662 [NAME] Lincoln Township Cemetery [DESC] cemetery in Emmet County, Iowa, United States [TYPE] cemetery>, <[ID] Q69959469 [NAME] Lincoln Township Public Library [DESC] public library in Stevensville, Michigan, USA [TYPE] main library>, <[ID] Q7226442 [NAME] Polygonal Barn, Lincoln Township [DESC] barn in Iowa, United States of America [TYPE] barn>, <[ID] Q69777749 [NAME] Lied Lincoln Township Library [DESC] public library in Wausa, Nebraska, USA [TYPE] main library>, <[ID] Q69483085 [NAME] Lied Lincoln Township Library [DESC] public library system in Nebraska, USA [TYPE] library network>, <[ID] Q69479909 [NAME] Lincoln Township Public Library [DESC] public library system in Michigan, USA [TYPE] library network>, <[ID] Q117659569 [NAME] Lincoln Township Public Cemetery [DESC] cemetery in Buffalo County, Wisconsin, United States [TYPE] cemetery>, <[ID] Q117445916 [NAME] Lincoln Charter Township Cemetery [DESC] cemetery in Berrien County, Michigan, United States [TYPE] cemetery>, <[ID] Q6550415 [NAME] Lincoln [DESC] unincorporated community in Washington [TYPE] unincorporated community in the United States>, <[ID] Q42296693 [NAME] Lincoln [DESC] movie theater in Paris 8e Arrondissement, France [TYPE] movie theater>, <[ID] Q65030462 [NAME] Lincoln [DESC] Brazilian footballer (born 1996) [TYPE] human>, <[ID] Q8004752 [NAME] Lincoln [DESC] town in Polk County, Wisconsin, United States [TYPE] civil town of Wisconsin>, <[ID] Q106639414 [NAME] Lincoln [DESC] defunct restaurant in Portland, Oregon, U.S [TYPE] restaurant>, <[ID] Q119906824 [NAME] Lincoln [DESC] painting by Laurence Stephen Lowry (1887–1976), Usher Gallery [TYPE] painting>, <[ID] Q116884598 [NAME] Lincoln [DESC] sculpture (bronze on granite base) by Gutzon Borglum [TYPE] sculpture>, <[ID] Q951110 [NAME] Lincoln [DESC] British writer (1930-2022) [TYPE] human>, <[ID] Q568563 [NAME] Lincoln (Illinois) [DESC] city in Illinois, United States [TYPE] city in the United States>, <[ID] Q216796 [NAME] Lincoln automobiles [DESC] luxury division of Ford Motor Company [TYPE] automobile manufacturer>, <[ID] Q3365841 [NAME] Lincoln [DESC] human settlement in York County near border with Sunbury County in New Brunswick, Canada [TYPE] designated place of Canada>, <[ID] Q120014588 [NAME] Lincoln [DESC] painting by Peter Fowler, Brunel University London [TYPE] painting>, <[ID] Q966705 [NAME] Lincoln [DESC] unincorporated community and census-designated place in Lewis and Clark County, Montana, United States [TYPE] census-designated place in the United States>, <[ID] Q1892234 [NAME] Lincoln [DESC] town in Addison County, Vermont, United States [TYPE] New England town>, <[ID] Q18610169 [NAME] Lincoln (voornaam) [DESC] male given name [TYPE] male given name>, <[ID] Q6550409 [NAME] Lincoln [DESC] town in Trempealeau County, Wisconsin, United States [TYPE] civil town of Wisconsin>, <[ID] Q6550453 [NAME] Lincoln [DESC] RTD light rail station in Colorado, United States [TYPE] tram stop>, <[ID] Q6550469 [NAME] Lincoln [DESC] Giant sequoia in Giant Forest, California. 4th largest tree by volume. [TYPE] remarkable tree>, <[ID] Q19099377 [NAME] Lincoln [DESC] poem by Vachel Lindsay [TYPE] poem>, <[ID] Q70885310 [NAME] Lincoln [DESC] None [TYPE] supercomputer>, <[ID] Q24962642 [NAME] Lincoln [DESC] encyclopedic article [TYPE] encyclopedia article>, <[ID] Q3832574 [NAME] Lincoln [DESC] census-designated place in Idaho, United States [TYPE] census-designated place in the United States>, <[ID] Q52940601 [NAME] Lincoln [DESC] middle school in Palermo, Palermo, Sicily, Italy [school id: PAPL04500Q] [TYPE] middle school>, <[ID] Q583652 [NAME] Lincoln [DESC] asteroid [TYPE] asteroid>, <[ID] Q237681 [NAME] Lincoln [DESC] American politician [TYPE] politician>, <[ID] Q3427836 [NAME] Lincoln [DESC] railway station in Lincoln, Lincolnshire, UK [TYPE] railway station>, <[ID] Q19099381 [NAME] Lincoln [DESC] poem by Ella Wheeler Wilcox [TYPE] poem>, <[ID] Q115262049 [NAME] Lincoln [DESC] geographic township in Ontario, Canada [TYPE] geographic township of Ontario>, <[ID] Q69493679 [NAME] Lincoln [DESC] public library system in Vermont, USA [TYPE] library network>, <[ID] Q19899854 [NAME] Lincoln [DESC] Lincoln family (per. c.1100–c.1280) [TYPE] family>, <[ID] Q6550445 [NAME] Lincoln [DESC] light two-seater built by the Lincoln Motor Car Company in Detroit [TYPE] automobile manufacturer>, <[ID] Q6550456 [NAME] Lincoln [DESC] band from United States [TYPE] musical group>, <[ID] Q6551032 [NAME] Lincoln station [DESC] Metro Vancouver SkyTrain station [TYPE] metro station>, <[ID] Q4307407 [NAME] Lincoln [DESC] unincorporated community in Lincoln County, New Mexico, United States [TYPE] unincorporated community in the United States>, <[ID] Q5810397 [NAME] Lincoln [DESC] None [TYPE] electoral precinct>, <[ID] Q720568 [NAME] Lincoln [DESC] United States attorney general and acting governor of Massachusetts (1749-1820) [TYPE] politician>, <[ID] Q3025671 [NAME] Lincoln [DESC] village in Michigan, United States [TYPE] village>, <[ID] Q119152861 [NAME] Lincoln [DESC] painting by Albert Goodwin (1845–1932), Museums Sheffield [TYPE] painting>, <[ID] Q6550372 [NAME] Lincoln [DESC] community in Delaware, United States [TYPE] unincorporated community in the United States>, <[ID] Q6550375 [NAME] Lincoln [DESC] town in Eau Claire County, Wisconsin [TYPE] civil town of Wisconsin>, <[ID] Q16591729 [NAME] Lincoln [DESC] census-designated place in Lincoln, New Hampshire, United States [TYPE] census-designated place in the United States>, <[ID] Q296843 [NAME] Lincoln [DESC] British actor [TYPE] voice actor>, <[ID] Q18519 [NAME] Lincoln [DESC] association football club in Lincoln, England [TYPE] association football club>, <[ID] Q447215 [NAME] Lincoln [DESC] Brazilian footballer (born 1979) [TYPE] association football player>, <[ID] Q448259 [NAME] Lincoln [DESC] town in Niagara Region, Ontario, Canada [TYPE] town>, <[ID] Q6550450 [NAME] Lincoln [DESC] New Zealand electorate [TYPE] former New Zealand electorate>, <[ID] Q108907247 [NAME] Lincoln [DESC] census-designated place in Vermont, United States [TYPE] census-designated place in the United States>, <[ID] Q922740 [NAME] Lincoln [DESC] town in New Hampshire, United States [TYPE] town in the United States>, <[ID] Q23860051 [NAME] Lincoln [DESC] article in Otto's encyclopedia [TYPE] encyclopedia article>, <[ID] Q44275917 [NAME] Lincoln [DESC] Brazilian association football player [TYPE] human>, <[ID] Q52976107 [NAME] Lincoln [DESC] middle school in Palermo, Palermo, Sicily, Italy [school id: PATL03500L] [TYPE] middle school>, <[ID] Q111813189 [NAME] Lincoln [DESC] 1992 tv film [TYPE] television film>, <[ID] Q114509904 [NAME] Lincoln [DESC] episode of Boston Legal (S3 E8) [TYPE] television series episode>, <[ID] Q112610393 [NAME] Lincoln [DESC] 2012 film score by John Williams [TYPE] album>, <[ID] Q6550377 [NAME] Lincoln [DESC] town in Forest County, Wisconsin, United States [TYPE] civil town of Wisconsin>, <[ID] Q18610168 [NAME] Lincoln [DESC] family name [TYPE] family name>, <[ID] Q19099373 [NAME] Lincoln [DESC] poem by Paul Laurence Dunbar [TYPE] poem>, <[ID] Q27983726 [NAME] Lincoln Creek [DESC] river in Missouri, United States of America [TYPE] river>, <[ID] Q491519 [NAME] Lincoln Gông [DESC] county in Georgia, United States [TYPE] county of Georgia>, <[ID] Q2886026 [NAME] Lincoln (Wisconsin) [DESC] town in Vilas County, Wisconin, United States [TYPE] civil town of Wisconsin>, <[ID] Q23090 [NAME] Lincoln [DESC] ceremonial county in the east of England [TYPE] ceremonial county of England>, <[ID] Q65024193 [NAME] Lincoln [DESC] print in the National Gallery of Art (NGA 10431) [TYPE] print>, <[ID] Q63521971 [NAME] Lincoln Parish [DESC] parish of Macquarie County, New South Wales, Australia [TYPE] parish of New South Wales>, <[ID] Q63521978 [NAME] Lincoln [DESC] parish of Lincoln County, New South Wales, Australia [TYPE] parish of New South Wales>, <[ID] Q116696777 [NAME] Lincoln [DESC] power station with capacity >1MW in Lincoln County, Kansas [TYPE] oil-fired power station>, <[ID] Q69517759 [NAME] Lincoln [DESC] public library in Lincoln, Vermont, USA [TYPE] main library>, <[ID] Q28475987 [NAME] Lincoln [DESC] painting by Terrick Williams [TYPE] painting>, <[ID] Q20989075 [NAME] Lincoln [DESC] non-metropolitan district of Lincolnshire, England [TYPE] non-metropolitan district>, <[ID] Q52987618 [NAME] Lincoln [DESC] middle school in Palermo, Palermo, Sicily, Italy [school id: PATD24500E] [TYPE] middle school>, <[ID] Q123408859 [NAME] Lincoln [DESC] badminton player [TYPE] human>, <[ID] Q122704512 [NAME] Lincoln [DESC] unincorporated community in Polk County, Oregon [TYPE] unincorporated community in the United States>, <[ID] Q6550458 [NAME] Lincoln [DESC] unincorporated community in Kewaunee County, Wisconsin [TYPE] unincorporated community in the United States>, <[ID] Q6550364 [NAME] Lincoln [DESC] town in Bayfield County, Wisconsin, United States [TYPE] civil town of Wisconsin>, <[ID] Q6550418 [NAME] Lincoln [DESC] unincorporated community in Kanawha County, West Virginia [TYPE] unincorporated community in the United States>, <[ID] Q26001164 [NAME] Lincoln [DESC] ward in Breckland, Norfolk, England [TYPE] ward>, <[ID] Q56185599 [NAME] Lincoln [DESC] Parliamentary constituency in the United Kingdom, 1801-1885 [TYPE] constituency of the House of Commons>, <[ID] Q487243 [NAME] Lincoln [DESC] county in New Mexico, United States [TYPE] county of New Mexico>, <[ID] Q1186226 [NAME] Lincoln [DESC] town in New Zealand [TYPE] town>, <[ID] Q3241296 [NAME] Lincoln [DESC] former Canadian federal electoral district represented in the Canadian House of Commons from 1867 to 1883 and from 1904 to 1997 [TYPE] federal electoral district of Canada>, <[ID] Q3293275 [NAME] Lincoln [DESC] town in Penobscot County, Maine, United States [TYPE] town in the United States>, <[ID] Q28041844 [NAME] Lincoln [DESC] painting by Alice Stallknecht [TYPE] painting>, <[ID] Q106399972 [NAME] Lincoln [DESC] Vanity Fair caricature of Mr John Hinde Palmer QC MP by Spy [TYPE] print>, <[ID] Q981512 [NAME] Lincoln [DESC] unincorporated community in Lee County, Texas, United States [TYPE] unincorporated community in the United States>, <[ID] Q632108 [NAME] Lincoln [DESC] partido of Buenos Aires Province [TYPE] partido of Buenos Aires Province>, <[ID] Q103914246 [NAME] Lincoln [DESC] shipwreck off the Scottish coast [TYPE] snow>, <[ID] Q3501856 [NAME] Lincoln [DESC] town in New York, United States [TYPE] town in the United States>, <[ID] Q73029193 [NAME] Lincoln [DESC] None [TYPE] supercomputer>, <[ID] Q47431628 [NAME] Lincoln [DESC] theatrical production of Schauspielhaus Zurich during the season 1939-1940 [TYPE] theatrical production>, <[ID] Q6550361 [NAME] Lincoln [DESC] suburb of Auckland, New Zealand [TYPE] suburb>, <[ID] Q6550388 [NAME] Lincoln [DESC] former settlement in Madera County, California [TYPE] human settlement>, <[ID] Q6550446 [NAME] Lincoln [DESC] 1988 film directed by Lamont Johnson [TYPE] television film>, <[ID] Q180057 [NAME] Lincoln [DESC] cathedral city and county town of Lincolnshire, England, UK [TYPE] city>, <[ID] Q6550394 [NAME] Lincoln [DESC] town in Monroe County, Wisconsin, United States [TYPE] civil town of Wisconsin>, <[ID] Q6550981 [NAME] Lincoln [DESC] river in the United States of America [TYPE] river>, <[ID] Q8842957 [NAME] Lincoln [DESC] proposed U.S. state in the United States [TYPE] proposed state of the United States>, <[ID] Q1840172 [NAME] Lincoln [DESC] city in Kansas [TYPE] city in the United States>, <[ID] Q73688730 [NAME] Lincoln [DESC] None [TYPE] supercomputer>, <[ID] Q41094013 [NAME] Lincoln [DESC] entry in Plomer's biographical dictionary of printers and booksellers, 1641 to 1667 [TYPE] biographical article>, <[ID] Q35274969 [NAME] Lincoln [DESC] airport in United States of America [TYPE] airport>, <[ID] Q65298217 [NAME] Lincoln [DESC] None [TYPE] >, <[ID] Q67533486 [NAME] Lincoln [DESC] historic county of England [TYPE] historic county of England>, <[ID] Q65356827 [NAME] Lincoln [DESC] print in the National Gallery of Art (NGA 41360) [TYPE] print>, <[ID] Q6550383 [NAME] Lincoln [DESC] community in Indiana, United States [TYPE] unincorporated community in the United States>, <[ID] Q1825775 [NAME] Lincoln [DESC] American record label that existed from 1923 to 1930 [TYPE] record label>, <[ID] Q18479 [NAME] Lincoln [DESC] association football club in Lincoln, England [TYPE] association football club>, <[ID] Q1077604 [NAME] Lincoln [DESC] Parliamentary constituency in the United Kingdom, 1885 onwards [TYPE] constituency of the House of Commons>, <[ID] Q56525282 [NAME] Lincoln [DESC] lyrics to a song, 1898 publication [TYPE] version, edition or translation>, <[ID] Q3832577 [NAME] Lincoln [DESC] ancestors and descendants of Abraham Lincoln [TYPE] family>, <[ID] Q91 [NAME] Lincoln [DESC] president of the United States from 1861 to 1865 (American, 1809-1865) [TYPE] politician>, <[ID] Q3885177 [NAME] Lincoln [DESC] census-designated place in Penobscot County, Maine [TYPE] census-designated place in the United States>, <[ID] Q6550379 [NAME] Lincoln [DESC] train station in Lincoln, Illinois [TYPE] railway station>, <[ID] Q6550468 [NAME] Lincoln [DESC] class of surveillance products [TYPE] >, <[ID] Q124918849 [NAME] Lincoln [DESC] painting by Grandma Moses (1957) [TYPE] painting>, <[ID] Q79588 [NAME] Lincoln (Alabama) [DESC] city in Talladega County, Alabama, United States [TYPE] city in the United States>, <[ID] Q63521968 [NAME] Lincoln Parish [DESC] parish of Canbelego County, New South Wales, Australia [TYPE] parish of New South Wales>, <[ID] Q96387524 [NAME] Lincoln [DESC] None [TYPE] literary work>, <[ID] Q55005980 [NAME] Lincoln [DESC] portrait by Andy Simpson [TYPE] print>, <[ID] Q19822751 [NAME] Lincoln [DESC] Brazilian association football player [TYPE] human>, <[ID] Q71011857 [NAME] Lincoln [DESC] None [TYPE] supercomputer>, <[ID] Q58821881 [NAME] Lincoln [DESC] Argentinean aerodrome [TYPE] aerodrome>, <[ID] Q28260 [NAME] Lincoln (Nebraska) [DESC] city in and the county seat of Lancaster County, Nebraska, United States, that is also the state capital [TYPE] city in the United States>, <[ID] Q6550463 [NAME] Lincoln [DESC] historical provincial electoral division in Ontario, Canada [TYPE] electoral district of Canada>, <[ID] Q6550473 [NAME] Lincoln [DESC] variety show in Japan [TYPE] Japanese television series>, <[ID] Q1816735 [NAME] Lincoln [DESC] town in Providence County, Rhode Island, United States [TYPE] town in the United States>, <[ID] Q966492 [NAME] Lincoln (California) [DESC] city in Placer County, California, United States [TYPE] city in the United States>, <[ID] Q60576050 [NAME] Lincoln [DESC] Constituency of the Parliament of England (to 1707) [TYPE] Constituency of the Parliament of England>, <[ID] Q102273333 [NAME] Lincoln [DESC] former site of historic railway station in Washington County, Oregon [TYPE] former railway station>, <[ID] Q80068 [NAME] Lincoln (Arkansas) [DESC] city in Arkansas, USA [TYPE] city in the United States>, <[ID] Q32433 [NAME] Lincoln [DESC] 2012 film directed by Steven Spielberg [TYPE] film>, <[ID] Q817605 [NAME] Lincoln [DESC] Continental Army general (1733–1810) [TYPE] military officer>, <[ID] Q2786965 [NAME] Lincoln [DESC] city in the province of Buenos Aires in Argentina [TYPE] city>, <[ID] Q3241297 [NAME] Lincoln [DESC] None [TYPE] comic book series>, <[ID] Q951182 [NAME] Lincoln [DESC] civil town in Wood County, Wisconsin [TYPE] civil town of Wisconsin>, <[ID] Q1186704 [NAME] Lincoln [DESC] borough of Pennsylvania [TYPE] borough of Pennsylvania>, <[ID] Q1421879 [NAME] Lincoln [DESC] album by They Might Be Giants [TYPE] album>, <[ID] Q65069294 [NAME] Lincoln [DESC] American television series [TYPE] television series>, <[ID] Q1930098 [NAME] Lincoln [DESC] city in Iowa, United States [TYPE] city in the United States>, <[ID] Q6550359 [NAME] Lincoln [DESC] human settlement in Alberta, Canada [TYPE] locality>, <[ID] Q6550367 [NAME] Lincoln [DESC] town in Buffalo County, Wisconsin, United States [TYPE] civil town of Wisconsin>, <[ID] Q6550461 [NAME] Lincoln [DESC] novel by Gore Vidal [TYPE] literary work>, <[ID] Q28368442 [NAME] Lincoln [DESC] human settlement in United States of America [TYPE] unincorporated community in the United States>, <[ID] Q105359135 [NAME] Lincoln [DESC] None [TYPE] >, <[ID] Q103950849 [NAME] Lincoln [DESC] encyclopedia article [TYPE] encyclopedia article>, <[ID] Q64847154 [NAME] Lincoln [DESC] politician from Brazil [TYPE] human>, <[ID] Q63521975 [NAME] Lincoln [DESC] parish of Brisbane County, New South Wales, Australia [TYPE] parish of New South Wales>, <[ID] Q6550369 [NAME] Lincoln [DESC] town in Burnett County, Wisconsin, United States [TYPE] civil town of Wisconsin>, <[ID] Q6550412 [NAME] Lincoln [DESC] unincorporated community in Loudoun County, Virgina [TYPE] unincorporated community in the United States>, <[ID] Q663035 [NAME] Lincoln [DESC] town in Middlesex County, Massachusetts, United States [TYPE] New England town>, <[ID] Q961897 [NAME] Lincoln [DESC] city in Benton County, Missouri, United States [TYPE] city in the United States>, <[ID] Q20657953 [NAME] Lincoln [DESC] community in Minnesota, United States [TYPE] unincorporated community in the United States>, <[ID] Q2283554 [NAME] Lincoln [DESC] city in North Dakota, United States [TYPE] city in the United States>, <[ID] Q6550397 [NAME] Lincoln [DESC] train station in Lincoln, Nebraska [TYPE] railway station>, <[ID] Q6550386 [NAME] Lincoln [DESC] town in Kewaunee County, Wisconsin, United States [TYPE] civil town of Wisconsin>, <[ID] Q6550595 [NAME] Lincoln [DESC] county of New South Wales, Australia [TYPE] county of New South Wales>, <[ID] Q17198756 [NAME] Lincoln [DESC] town in Tasmania, Australia [TYPE] human settlement>, <[ID] Q3109787 [NAME] Lincoln [DESC] proposed state in southern United States in 1869 [TYPE] proposed state of the United States>, <[ID] Q39060556 [NAME] Lincoln [DESC] election in Ohio [TYPE] United States presidential election in Ohio>, <[ID] Q5846663 [NAME] Lincoln [DESC] civil town in Adams County, Wisconsin [TYPE] civil town of Wisconsin>, <[ID] Q97097169 [NAME] Lincoln [DESC] None [TYPE] fictional human>, <[ID] Q63521966 [NAME] Lincoln [DESC] parish of Caira County, New South Wales, Australia [TYPE] parish of New South Wales>, <[ID] Q9045149 [NAME] Taylor Township Township [DESC] township in Grundy County, Missouri, USA [TYPE] township of Missouri>, <[ID] Q6542002 [NAME] Liberty Township Township [DESC] township in Bollinger County, Missouri [TYPE] township of Missouri>, <[ID] Q50723837 [NAME] Township [DESC] painting by Sidney Nolan [TYPE] painting>, <[ID] Q19658446 [NAME] Township [DESC] freemium city-building game [TYPE] video game>, <[ID] Q100059432 [NAME] township [DESC] unit of area, equal to 36 square US survey miles [TYPE] unit of measurement>, <[ID] Q18028708 [NAME] Township [DESC] unit of area [TYPE] unit of area>, <[ID] Q101582260 [NAME] Township [DESC] electoral ward in Eloor Municipality, Kerala, India [TYPE] ward>, <[ID] Q97261993 [NAME] Township [DESC] None [TYPE] >, <[ID] Q1438425 [NAME] Fort Lincoln [DESC] North Dakota state park [TYPE] North Dakota state park>, <[ID] Q6550804 [NAME] Lincoln Land [DESC] community college in Springfield, Illinois [TYPE] community college>, <[ID] Q5495780 [NAME] Fred Lincoln [DESC] American baseball umpire (1878-1940) [TYPE] human>, <[ID] Q6550639 [NAME] Lincoln Courier [DESC] newspaper in Lincoln, Illinois [TYPE] newspaper>, <[ID] Q6550674 [NAME] Lincoln Gap [DESC] None [TYPE] mountain pass>, <[ID] Q6550680 [NAME] Lincoln Goodale [DESC] American doctor (1782-1868) [TYPE] human>, <[ID] Q6550696 [NAME] Lincoln Handicap [DESC] horse race [TYPE] horse race>, <[ID] Q6550697 [NAME] Lincoln Harbor [DESC] Hudson–Bergen Light Rail station in Weehawken, New Jersey [TYPE] tram stop>, <[ID] Q6550758 [NAME] Lincoln Hotel [DESC] hotel in Franklin, Nebraska, United States [TYPE] hotel>, <[ID] Q6720021 [NAME] Templat:Uskup Lincoln [DESC] Wikimedia template [TYPE] Wikimedia template>, <[ID] Q42543799 [NAME] Lincoln Theatre [DESC] former movie theater in Springfield, Illinois, United States [TYPE] movie theater>, <[ID] Q43294248 [NAME] Lincoln Theatre [DESC] movie theater in Fayetteville, Tennessee, United States [TYPE] movie theater>, <[ID] Q43385864 [NAME] Lincoln Theatre [DESC] former movie theater in Philadelphia, Pennsylvania, United States [TYPE] movie theater>, <[ID] Q40452131 [NAME] Lincoln Chayes [DESC] mathematician [TYPE] human>, <[ID] Q43065423 [NAME] Lincoln Theatre [DESC] former movie theater in Troy, New York, United States [TYPE] movie theater>, <[ID] Q51861688 [NAME] J. Lincoln [DESC] politician [TYPE] human>, <[ID] Q55081564 [NAME] Lincoln Henzman [DESC] American baseball player [TYPE] human>, <[ID] Q65081540 [NAME] Lincoln School [DESC] school building in Fort Morgan, Colorado [TYPE] school building>, <[ID] Q69476316 [NAME] Lincoln Library [DESC] public library system in Kansas, USA [TYPE] library network>, <[ID] Q42690039 [NAME] Lincoln Theatre [DESC] former movie theater in Baltimore, Maryland, United States [TYPE] movie theater>, <[ID] Q43138543 [NAME] Lincoln Taber [DESC] None [TYPE] human>, <[ID] Q43159261 [NAME] Lincoln Theatre [DESC] former movie theater in Cincinnati, Ohio, United States [TYPE] movie theater>, <[ID] Q42535581 [NAME] Lincoln Theatre [DESC] movie theater in Belleville, Illinois, United States [TYPE] movie theater>, <[ID] Q42535777 [NAME] Lincoln Theatre [DESC] former movie theater in Cairo, Illinois, United States [TYPE] movie theater>, <[ID] Q42536091 [NAME] Lincoln Theater [DESC] former movie theater in Chicago Heights, Illinois, United States [TYPE] movie theater>, <[ID] Q49426222 [NAME] Lincoln Mine [DESC] mine in Clark County, Nevada, United States of America; geonames ID = 5507197 [TYPE] mine>, <[ID] Q49426231 [NAME] Lincoln Mine [DESC] mine in Beaver County, Utah, United States of America [TYPE] mine>, <[ID] Q49053426 [NAME] Mount Lincoln [DESC] mountain in Colorado, United States of America [TYPE] mountain>, <[ID] Q49053429 [NAME] Mount Lincoln [DESC] mountain in Mason County, Washington state, United States of America [TYPE] summit>, <[ID] Q49726273 [NAME] Lincoln Spring [DESC] spring in Gila County, Arizona, United States of America [TYPE] spring>, <[ID] Q49726274 [NAME] Lincoln Spring [DESC] spring in Lincoln County, New Mexico, United States [TYPE] spring>, <[ID] Q55720721 [NAME] Victoria Lincoln [DESC] American author [TYPE] human>, <[ID] Q49260827 [NAME] Lincoln Canal [DESC] canal in Placer County, California, United States of America [TYPE] canal>, <[ID] Q49934413 [NAME] Lincoln Canyon [DESC] valley in Lincoln County, United States of America - Geonames ID = 5475929 [TYPE] valley>, <[ID] Q49934459 [NAME] Lincoln Creek [DESC] natural watercourse in Pitkin County, Colorado, United States of America [TYPE] stream>, <[ID] Q49934512 [NAME] Lincoln Gulch [DESC] None [TYPE] >, <[ID] Q75763846 [NAME] J. Lincoln [DESC] (1716-1788) [TYPE] human>, <[ID] Q75763876 [NAME] Mordecai Lincoln [DESC] (1686-1736) [TYPE] human>, <[ID] Q63887743 [NAME] James Lincoln [DESC] musical character in the musical A Broadway Musical by Charles Strouse [TYPE] fictional human>, <[ID] Q2091252 [NAME] Bobby Lincoln [DESC] professional golfer [TYPE] human>, <[ID] Q1825729 [NAME] Lincoln Custom [DESC] motor vehicle [TYPE] automobile model>, <[ID] Q1825736 [NAME] Lincoln Heights [DESC] neighborhood in Los Angeles, California, United States [TYPE] district or neighborhood of Los Angeles>, <[ID] Q20188643 [NAME] Abraham Lincoln [DESC] painting by American 19th Century [TYPE] painting>, <[ID] Q21596909 [NAME] Lincoln hockey [DESC] amateur sports club [TYPE] field hockey club>, <[ID] Q21155076 [NAME] Lincoln Castellanos [DESC] American actor and television actor [TYPE] human>, <[ID] Q22543474 [NAME] Lincoln Bay [DESC] bay in Qikiqtaaluk Region, Nunavut, Canada (lat 82.12, lon -61.83) [TYPE] bay>, <[ID] Q19665666 [NAME] Lincoln Riley [DESC] American football coach (born 1983) [TYPE] human>, <[ID] Q27558001 [NAME] President Lincoln [DESC] artwork by Joaquin Furnó, Barcelona, 1832-1918 (s. xix) [TYPE] print>, <[ID] Q2501001 [NAME] Diözese Lincoln [DESC] Diocese of the Church of England [TYPE] Anglican diocese>, <[ID] Q5633135 [NAME] HMS Lincoln [DESC] 1959 Salisbury-class frigate [TYPE] frigate (powered)>, <[ID] Q5293008 [NAME] Don Lincoln [DESC] American physicist [TYPE] physicist>, <[ID] Q117505979 [NAME] Lincoln Cemetery [DESC] cemetery in Bollinger County, Missouri, United States [TYPE] cemetery>, <[ID] Q15242389 [NAME] Lincoln Park [DESC] community of San Diego in California [TYPE] neighborhood>, <[ID] Q30015059 [NAME] Edith Lincoln [DESC] None [TYPE] human>, <[ID] Q83674835 [NAME] Lincoln Cathedral [DESC] rose cultivar [TYPE] rose cultivar>, <[ID] Q85750324 [NAME] Camp Lincoln [DESC] YMCA camp in Lincoln, New Hampshire [TYPE] >, <[ID] Q94624000 [NAME] Rufus Lincoln [DESC] None [TYPE] human>, <[ID] Q90151633 [NAME] Lincoln Lau [DESC] researcher [TYPE] human>, <[ID] Q76176142 [NAME] J. Lincoln [DESC] Peerage person ID=583051 [TYPE] human>, <[ID] Q75987897 [NAME] Lincoln Timmons [DESC] Peerage person ID=450773 [TYPE] human>, <[ID] Q107539989 [NAME] Lincoln Seitzman [DESC] American artist [TYPE] artist>, <[ID] Q99393244 [NAME] E. Lincoln [DESC] (22 Jan 1721 - certain 12 Jun 1802) [TYPE] human>, <[ID] Q99408111 [NAME] Karen Lincoln [DESC] researcher [TYPE] human>, <[ID] Q104869754 [NAME] Lincoln School [DESC] building in Madison, Wisconsin [TYPE] building>, <[ID] Q106837455 [NAME] W. Lincoln [DESC] (1729-1792) [TYPE] human>, <[ID] Q106837476 [NAME] Serafina Lincoln [DESC] None [TYPE] human>, <[ID] Q100307040 [NAME] Lincoln Progress [DESC] newspaper published in Lincolnton, North Carolina [TYPE] newspaper>, <[ID] Q100307048 [NAME] Lincoln Transcript [DESC] newspaper published in Lincolnton, North Carolina [TYPE] newspaper>, <[ID] Q110647661 [NAME] Ruth Lincoln [DESC] 22 Jul 1692 - 26 Feb 1737 [TYPE] human>, <[ID] Q109780214 [NAME] Lincoln Andrade [DESC] person identified in the Museu da Pessoa collection [TYPE] human>, <[ID] Q101536554 [NAME] N. Lincoln [DESC] (4 Aug 1738 - 19 Dec 1809) [TYPE] human>, <[ID] Q100876530 [NAME] B. Lincoln [DESC] college basketball player (2003–2006) Oregon [TYPE] human>, <[ID] Q100876531 [NAME] C. Lincoln [DESC] college basketball player (1980–1982) Baylor [TYPE] human>, <[ID] Q96794847 [NAME] Abraham Lincoln [DESC] photograph by Alexander Gardner (MET, 1976.627.1) [TYPE] photograph>, <[ID] Q95731253 [NAME] I. Lincoln [DESC] None [TYPE] human>, <[ID] Q89192045 [NAME] Lincoln Park [DESC] neighborhood of Washington, D.C., United States [TYPE] neighborhood of Washington, D.C.>, <[ID] Q111228481 [NAME] I. Lincoln [DESC] American politician – Minnesota -Senate 1863-64 (District 18) [TYPE] human>, <[ID] Q113336115 [NAME] Elisha Lincoln [DESC] 3 Sep 1699 - 20 Aug 1783 [TYPE] human>, <[ID] Q113570346 [NAME] Lincoln Memorial [DESC] 2005 studio album by Project Z [TYPE] album>, <[ID] Q113030994 [NAME] S. Lincoln [DESC] None [TYPE] human>, <[ID] Q111941776 [NAME] Lincoln Street [DESC] prominent street in Savannah, Georgia [TYPE] >, <[ID] Q99835320 [NAME] Lincoln Platt [DESC] National Party candidate in the 2020 New Zealand general election [TYPE] human>, <[ID] Q98139695 [NAME] Lincoln Abes [DESC] minor league baseball team [TYPE] baseball team>, <[ID] Q117592260 [NAME] Lincoln Cemetery [DESC] cemetery in Polk County, Wisconsin, United States [TYPE] cemetery>, <[ID] Q117556518 [NAME] Lincoln Cemetery [DESC] cemetery in Cumberland County, Pennsylvania, United States [TYPE] cemetery>, <[ID] Q117490593 [NAME] Lincoln Cemetery [DESC] cemetery in Orange County, Vermont, United States [TYPE] cemetery>, <[ID] Q332958 [NAME] Eddie Lincoln [DESC] Second son of Mr. and Mrs. Lincoln [TYPE] human>, <[ID] Q61294 [NAME] Lincoln County [DESC] county in Arkansas, United States [TYPE] county of Arkansas>, <[ID] Q125117233 [NAME] Lincoln Mikkelsen [DESC] American baseball player [TYPE] human>, <[ID] Q931928 [NAME] Lincoln Gordon [DESC] U.S. Ambassador to Brazil and university president [TYPE] human>, <[ID] Q1225861 [NAME] LİNCOLN MKT [DESC] car model made by the Ford Motor Company [TYPE] automobile model>, <[ID] Q1326874 [NAME] Lincoln Díaz-Balart [DESC] American politician (born 1954) [TYPE] politician>, <[ID] Q124709238 [NAME] Sarah Lincoln [DESC] None [TYPE] human>, <[ID] Q44690 [NAME] Lincoln Chafee [DESC] American politician and former United States Senator from Rhode Island [TYPE] politician>, <[ID] Q1795453 [NAME] Lincoln Park [DESC] community area of Chicago, United States [TYPE] community area in Chicago>, <[ID] Q1825759 [NAME] Lincoln McIlravy [DESC] Olympic wrestler [TYPE] human>, <[ID] Q484527 [NAME] Contae Lincoln [DESC] county in Wyoming, United States [TYPE] county of Wyoming>, <[ID] Q312586 [NAME] Lincoln Gông [DESC] county in Colorado, United States [TYPE] county of Colorado>, <[ID] Q484335 [NAME] Lincoln bölgesi [DESC] county in Nevada, United States [TYPE] county of Nevada>, <[ID] Q124156158 [NAME] Josiah Lincoln [DESC] None [TYPE] human>, <[ID] Q3832582 [NAME] Lincoln Stedman [DESC] actor [TYPE] actor>, <[ID] Q14714403 [NAME] Abraham Lincoln [DESC] statue in Milwaukee, Wisconsin [TYPE] sculpture>, <[ID] Q6236151 [NAME] John Lincoln [DESC] British clergyman and academic [TYPE] human>, <[ID] Q6909616 [NAME] M. Lincoln [DESC] Uncle of Abraham Lincoln (1771 – 1830) [TYPE] human>, <[ID] Q1855461 [NAME] Trận Lincoln [DESC] battle of Lincoln, England in 1217 [TYPE] battle>, <[ID] Q6550557 [NAME] Lincoln College [DESC] Uniting Church in Australia residential college affiliated with the University of Adelaide [TYPE] residential college>, <[ID] Q6550771 [NAME] Lincoln Industries [DESC] None [TYPE] business>, <[ID] Q6550919 [NAME] Lincoln Park [DESC] New Jersey Transit station in Lincoln Park, New Jersey [TYPE] railway station>, <[ID] Q3505587 [NAME] S. Lincoln [DESC] None [TYPE] human>, <[ID] Q60749947 [NAME] Lincoln Goodale [DESC] Sculpture in Columbus, Ohio, U.S. [TYPE] work of art>, <[ID] Q55667924 [NAME] Lincoln Herald [DESC] newspaper published in Lincolnton [TYPE] newspaper>, <[ID] Q55616881 [NAME] Lincoln School [DESC] school building in Shawano, Wisconsin [TYPE] school building>, <[ID] Q55341384 [NAME] W. Lincoln [DESC] American businessman [TYPE] human>, <[ID] Q112512761 [NAME] T. Lincoln [DESC] None [TYPE] historian>, <[ID] Q123000992 [NAME] Kaliya Lincoln [DESC] American artistic gymnast [TYPE] human>, <[ID] Q1048626 [NAME] Universitat Lincoln [DESC] New Zealand university [TYPE] public university>, <[ID] Q6138066 [NAME] James Lincoln [DESC] English cricketer (born 1981) [TYPE] human>, <[ID] Q7801229 [NAME] Tiffany Lincoln [DESC] Australian netball player [TYPE] human>, <[ID] Q10318430 [NAME] Lincoln Ueda [DESC] Brazilian skateboarder [TYPE] human>, <[ID] Q9022701 [NAME] Lincoln Younes [DESC] Australian actor [TYPE] actor>, <[ID] Q5112741 [NAME] Christopher Lincoln [DESC] children's writer [TYPE] human>, <[ID] Q94291635 [NAME] Lincoln Burgess [DESC] None [TYPE] human>, <[ID] Q93247167 [NAME] U. Lincoln [DESC] None [TYPE] human>, <[ID] Q79873147 [NAME] Abraham Lincoln [DESC] print by Ralph Woehrman (American, b. 1940) (2017.206) [TYPE] print>, <[ID] Q79992973 [NAME] Lincoln Electric [DESC] photograph by Lee Friedlander (American, b. 1934) (2006.215) [TYPE] plaque>, <[ID] Q68905236 [NAME] Richard Lincoln [DESC] Roman Catholic archbishop [TYPE] human>, <[ID] Q65056731 [NAME] Lincoln Arcade [DESC] commercial building in Manhattan, United States [TYPE] building>, <[ID] Q95984315 [NAME] Institut Lincoln [DESC] An educational institution for free blacks. [TYPE] organization>, <[ID] Q49517052 [NAME] Lincoln Park [DESC] park in Lorain County, Ohio, United States of America; geonames ID = 5160873 [TYPE] park>, <[ID] Q49516979 [NAME] Lincoln Park [DESC] park in Grant County, Indiana, United States of America [TYPE] park>, <[ID] Q49517064 [NAME] Lincoln Park [DESC] None [TYPE] >, <[ID] Q49517105 [NAME] Lincoln Park [DESC] park in Nueces County, Texas, United States of America [TYPE] park>, <[ID] Q49517115 [NAME] Lincoln Park [DESC] park in Chelan County, Washington, United States of America [TYPE] park>, <[ID] Q49517119 [NAME] Lincoln Park [DESC] park in Grays Harbor County, Washington, United States of America [TYPE] park>, <[ID] Q49595428 [NAME] Lincoln Plateau [DESC] None [TYPE] plain>, <[ID] Q20714618 [NAME] Lincoln Manor [DESC] neighborhood within the Richmond District of San Francisco, CA [TYPE] neighborhood in San Francisco>, <[ID] Q41493575 [NAME] Odeon Lincoln [DESC] cinema in Lincoln, England [TYPE] movie theater>, <[ID] Q28956518 [NAME] Lincoln Silva [DESC] Brazilian cyclist [TYPE] human>, <[ID] Q124750906 [NAME] Lincoln Perry [DESC] fictional character by author Michael Koryta [TYPE] literary character>, <[ID] Q124713425 [NAME] S. Lincoln [DESC] None [TYPE] human>, <[ID] Q49044336 [NAME] Lincoln Hill [DESC] mountain in Rockingham County, Virginia, United States of America [TYPE] mountain>, <[ID] Q55313169 [NAME] Roberta Lincoln [DESC] fictional character [TYPE] literary character>, <[ID] Q11775608 [NAME] Henry Lincoln [DESC] Wikimedia disambiguation page [TYPE] Wikimedia human name disambiguation page>, <[ID] Q16105683 [NAME] Kevin Lincoln [DESC] Australian artist [TYPE] human>, <[ID] Q12324511 [NAME] Lincoln Lover [DESC] episode of American Dad! [TYPE] television series episode>, <[ID] Q16083741 [NAME] Lincoln Cole [DESC] American politician (1918-1999) [TYPE] human>, <[ID] Q1414688 [NAME] Joseph Lincoln [DESC] American university teacher (1892-1945) [TYPE] human>, <[ID] Q727760 [NAME] Castell Lincoln [DESC] Grade I listed building in Lincolnshire, United Kingdom [TYPE] house museum>, <[ID] Q3195187 [NAME] K. Lincoln [DESC] American literary critic [TYPE] human>, <[ID] Q2878985 [NAME] Lincoln Palomeque [DESC] Colombian actor [TYPE] human>, <[ID] Q16007160 [NAME] Lincoln Walsh [DESC] American inventor (1903-1971) [TYPE] human>, <[ID] Q17031801 [NAME] Lincoln Park [DESC] urban park [TYPE] park>, <[ID] Q18249300 [NAME] Lincoln Scott [DESC] Dub-reggae drummer (1956-2014) [TYPE] human>, <[ID] Q6550647 [NAME] Lincoln Depot [DESC] Springfield, Illinois train depot where Lincoln left for Washington [TYPE] railway station>, <[ID] Q6550694 [NAME] Lincoln Theatre [DESC] music venue and former movie theater in Chicago, Illinois, United States [TYPE] music venue>, <[ID] Q6550698 [NAME] Lincoln Haymakers [DESC] football team [TYPE] sports team>, <[ID] Q6550841 [NAME] Lincoln Mayorga [DESC] American musician [TYPE] human>, <[ID] Q6550916 [NAME] Lincoln Park [DESC] neighborhood in the city of Duluth, Minnesota, United States [TYPE] neighborhood>, <[ID] Q6550951 [NAME] Lincoln Peak [DESC] mountain in United States of America [TYPE] mountain>, <[ID] Q6550969 [NAME] Lincoln prijs [DESC] annual prize recognizing American Civil War scholarship [TYPE] literary award>, <[ID] Q6551018 [NAME] Lincoln Square [DESC] ensemble of buildings in Bellevue, Washington, U.S. [TYPE] high-rise building>, <[ID] Q6576880 [NAME] Lincoln Heights/Episodenliste [DESC] Wikimedia list article [TYPE] Wikimedia list article>, <[ID] Q5006427 [NAME] Eric Lincoln [DESC] Professor of Religion and of Sociology [TYPE] human>, <[ID] Q6851749 [NAME] Hotel Lincoln [DESC] hotel in Manhattan, New York [TYPE] hotel>, <[ID] Q6550504 [NAME] Lincoln Boulevard [DESC] street in Los Angeles, California [TYPE] road>, <[ID] Q6550518 [NAME] Lincoln Center [DESC] high-rise office building located 1660 Lincoln Street in Denver, Colorado [TYPE] skyscraper>, <[ID] Q6551033 [NAME] Lincoln Statue [DESC] statue in Jefferson, Iowa [TYPE] statue>, <[ID] Q22543507 [NAME] Lincoln Creek [DESC] stream in Sudbury District, Ontario, Canada [TYPE] stream>, <[ID] Q22543588 [NAME] Lincoln Shoal [DESC] shoal in Ontario, Canada [TYPE] shoal>, <[ID] Q20337240 [NAME] Template:User Lincoln [DESC] Wikimedia template [TYPE] Wikimedia template>, <[ID] Q27986916 [NAME] Lincoln Creek [DESC] tributary to the Chehalis River in Lewis County, Washington state, United States of America [TYPE] stream>, <[ID] Q29643132 [NAME] G. Lincoln [DESC] chronobiologist [TYPE] human>, <[ID] Q117500138 [NAME] Lincoln Cemetery [DESC] cemetery in Sussex County, Delaware, United States [TYPE] cemetery>, <[ID] Q117509585 [NAME] Lincoln Cemetery [DESC] cemetery in Warrick County, Indiana, United States [TYPE] cemetery>, <[ID] Q522597 [NAME] Lincoln Davis [DESC] American politician [TYPE] politician>, <[ID] Q117602533 [NAME] Lincoln Cemetery [DESC] cemetery in Nowata County, Oklahoma, United States [TYPE] cemetery>, <[ID] Q119728551 [NAME] J. Lincoln [DESC] Japanese artist [TYPE] human>, <[ID] Q117818309 [NAME] Lincoln Dsang [DESC] Sichuanese university president [TYPE] human>, <[ID] Q121505529 [NAME] R. Lincoln [DESC] 1721 - 16 May 1781 [TYPE] human>, <[ID] Q5497155 [NAME] Frederick Lincoln [DESC] American manufacturer and politician [TYPE] human>, <[ID] Q6384651 [NAME] Keith Lincoln [DESC] Player of American football (1939-2019) [TYPE] human>, <[ID] Q6550836 [NAME] Lincoln Mall [DESC] defunct shopping mall in Matteson, Illinois [TYPE] shopping center>, <[ID] Q6244847 [NAME] John Lincoln [DESC] judge [TYPE] human>, <[ID] Q5471520 [NAME] Fort Lincoln [DESC] neighborhood in Washington, DC [TYPE] neighborhood of Washington, D.C.>, <[ID] Q6550527 [NAME] Lincoln Chase [DESC] American musician [TYPE] human>, <[ID] Q6550975 [NAME] Lincoln Ragsdale [DESC] African Americans' rights activist [TYPE] human>, <[ID] Q6550990 [NAME] Lincoln Saltdogs [DESC] baseball team based in Lincoln, Nebraska [TYPE] baseball team>, <[ID] Q4669002 [NAME] Abraham Lincoln [DESC] statue in Lincoln, Nebraska by Daniel Chester French [TYPE] statue>, <[ID] Q4669003 [NAME] Abraham Lincoln [DESC] 1939 picture book by Ingri and Edgar Parin d'Aulaire [TYPE] literary work>, <[ID] Q6794974 [NAME] Max Lincoln [DESC] None [TYPE] human>, <[ID] Q7241091 [NAME] administration Lincoln [DESC] U.S. presidential administration from 1861 to 1865 [TYPE] presidency>, <[ID] Q7129197 [NAME] Pamela Lincoln [DESC] American actress (1937-2019) [TYPE] actor>, <[ID] Q6847678 [NAME] Mike Lincoln [DESC] American baseball player [TYPE] human>, <[ID] Q105655367 [NAME] Lincoln Cemetery [DESC] cemetery in Lincoln, New Zealand [TYPE] cemetery>, <[ID] Q96278966 [NAME] Young Lincoln [DESC] sculpture in Chicago, Illinois [TYPE] sculpture>, <[ID] Q90765589 [NAME] T. Lincoln [DESC] researcher (ORCID 0000-0002-9327-0290) [TYPE] human>, <[ID] Q98238520 [NAME] M. Lincoln [DESC] French politician [TYPE] human>, <[ID] Q112515650 [NAME] Lincoln Paine [DESC] None [TYPE] historian>, <[ID] Q113821404 [NAME] Lincoln Ndogoni [DESC] None [TYPE] human>, <[ID] Q106837461 [NAME] L. Lincoln [DESC] (1772-1853) [TYPE] human>, <[ID] Q108887329 [NAME] Lincoln McClutchie [DESC] New Zealand rugby union player [TYPE] human>, <[ID] Q108049226 [NAME] Lincoln McFayden [DESC] English footballer [TYPE] human>, <[ID] Q108968681 [NAME] Lincoln Perry [DESC] American visual artist [TYPE] human>, <[ID] Q101536558 [NAME] Mary Lincoln [DESC] (20 Aug 1707 - after 27 Apr 1756) [TYPE] human>, <[ID] Q101536736 [NAME] D. Lincoln [DESC] (8 Feb 1695 - 22 Jul 1756) [TYPE] human>, <[ID] Q100154301 [NAME] T. Lincoln [DESC] Abt 1603 England - 1683 Taunton, MA [TYPE] human>, <[ID] Q113576820 [NAME] Kevin Lincoln [DESC] None [TYPE] human>, <[ID] Q112490174 [NAME] Lincoln Crowley [DESC] Australian lawyer [TYPE] human>, <[ID] Q16620075 [NAME] Plaza Lincoln [DESC] None [TYPE] >, <[ID] Q17189455 [NAME] Lincoln Chung [DESC] None [TYPE] human>, <[ID] Q36119932 [NAME] Lincoln Caplan [DESC] American author, scholar, and journalist [TYPE] human>, <[ID] Q22959245 [NAME] Lincoln Gilding [DESC] Australian motorcycle racer [TYPE] human>, <[ID] Q26649849 [NAME] Lincoln Lodge [DESC] gatehouse in Longworth, Vale of White Horse, Oxfordshire, UK [TYPE] gatehouse>, <[ID] Q27914767 [NAME] Allen Lincoln [DESC] American-football player (1901-) [TYPE] human>, <[ID] Q24161117 [NAME] H. Lincoln [DESC] American professor and baptist preacher [TYPE] human>, <[ID] Q16215068 [NAME] Lincoln Roberts [DESC] West Indian cricketer [TYPE] human>, <[ID] Q19667195 [NAME] S. Lincoln [DESC] chemistry and physics professor [TYPE] human>, <[ID] Q19321943 [NAME] Lincoln Park [DESC] human settlement in Edison, New Jersey, United States of America [TYPE] unincorporated community in the United States>, <[ID] Q21269047 [NAME] Swydd Lincoln [DESC] non-metropolitan county (doesn't include North and North East Lincolnshire) [TYPE] non-metropolitan county>, <[ID] Q22543578 [NAME] Lincoln Pass [DESC] mountain pass in British Columbia, Canada [TYPE] mountain pass>, <[ID] Q484582 [NAME] Lincoln Kūn [DESC] county in Missouri, United States [TYPE] county of Missouri>, <[ID] Q1624424 [NAME] Lincoln Mills [DESC] American musician [TYPE] human>, <[ID] Q2821841 [NAME] A. Lincoln [DESC] grandfather of president Abraham Lincoln (1744-1786) [TYPE] human>, <[ID] Q2624358 [NAME] Louise Lincoln [DESC] fictional character from DC Comics [TYPE] comics character>, <[ID] Q3138607 [NAME] Lincoln Labs [DESC] research and development center [TYPE] observatory>, <[ID] Q2371004 [NAME] Lincoln Park [DESC] census-designated place in Upson County, Georgia [TYPE] census-designated place in the United States>, <[ID] Q124518144 [NAME] Lincoln School [DESC] None [TYPE] >, <[ID] Q3408800 [NAME] Gatewood Lincoln [DESC] Naval officer and Governor of American Samoa (1875-1957) [TYPE] military officer>, <[ID] Q117223987 [NAME] Lincoln Timinao [DESC] researcher [TYPE] human>, <[ID] Q117556592 [NAME] Lincoln Cemetery [DESC] cemetery in Lincoln County, Tennessee, United States [TYPE] cemetery>, <[ID] Q123397507 [NAME] Lincoln Avenue [DESC] street in Santa Fe, New Mexico [TYPE] street>, <[ID] Q125200656 [NAME] Lincoln Nakamura [DESC] American actor [TYPE] human>, <[ID] Q125845738 [NAME] Alpheus Lincoln [DESC] None [TYPE] human>, <[ID] Q13544 [NAME] Curt Lincoln [DESC] Finnish race driver and tennis player [TYPE] human>, <[ID] Q125604124 [NAME] Thomas Lincoln [DESC] None [TYPE] human>, <[ID] Q34858949 [NAME] Lincoln Dam [DESC] dam in Bastrop County, Texas, United States of America [TYPE] dam>, <[ID] Q49516927 [NAME] Lincoln Park [DESC] park in Denver, Colorado, United States of America [TYPE] park>, <[ID] Q49516944 [NAME] Lincoln Park [DESC] park in Cook County, Illinois, United States of America; geonames ID = 4899898 [TYPE] park>, <[ID] Q49516964 [NAME] Lincoln Park [DESC] park in Peoria County, Illinois, United States of America [TYPE] park>, <[ID] Q49517021 [NAME] Lincoln Park [DESC] park in Martin County, Minnesota, United States of America [TYPE] park>, <[ID] Q49517045 [NAME] Lincoln Park [DESC] park in Allen County, Ohio, United States of America [TYPE] park>, <[ID] Q49044330 [NAME] Lincoln Hill [DESC] mountain in El Dorado County, California, United States of America [TYPE] mountain>, <[ID] Q43305085 [NAME] Lincoln Theatre [DESC] movie theater in Parkersburg, West Virginia, United States [TYPE] movie theater>, <[ID] Q42812296 [NAME] Lincoln Drive-In [DESC] former drive-in movie theater in Tyler, Minnesota, United States [TYPE] movie theater>, <[ID] Q49618397 [NAME] Lincoln Bar [DESC] None [TYPE] bar>, <[ID] Q49934406 [NAME] Lincoln Canyon [DESC] valley in Lincoln County, New Mexico, United States of America [TYPE] valley>, <[ID] Q49934475 [NAME] Lincoln Creek [DESC] natural watercourse in Custer County, Idaho, United States of America [TYPE] stream>, <[ID] Q49934691 [NAME] Lincoln Point [DESC] cape in Utah County, Utah, United States of America [TYPE] cape>, <[ID] Q49937558 [NAME] Lincoln Creek [DESC] natural watercourse in Flathead County, Montana, United States of America [TYPE] stream>, <[ID] Q49937586 [NAME] Lincoln Creek [DESC] tributary to the North Fork Skokomish River in Mason County, Washington, United States of America [TYPE] stream>, <[ID] Q49595424 [NAME] Lincoln Park [DESC] None [TYPE] flat>, <[ID] Q514274 [NAME] Bistum Lincoln [DESC] diocese of the Catholic Church in Nebraska, USA [TYPE] diocese of the Catholic Church>, <[ID] Q302852 [NAME] Lincoln Kūn [DESC] county in Oregon, United States [TYPE] county of Oregon>, <[ID] Q250285 [NAME] Lincoln Park [DESC] park in Washington, D.C.'s Capitol Hill neighborhood [TYPE] park>, <[ID] Q919079 [NAME] Edificio Lincoln [DESC] building in New York City [TYPE] commercial building>, <[ID] Q928437 [NAME] Lincoln Stars [DESC] ice hockey team in Lincoln, Nebraska [TYPE] ice hockey team>, <[ID] Q3832576 [NAME] Lincoln Moses [DESC] American statistician [TYPE] human>, <[ID] Q4363476 [NAME] Lincoln Peirce [DESC] American cartoonist [TYPE] human>, <[ID] Q490446 [NAME] Lincoln bölgesi [DESC] county in Minnesota, United States [TYPE] county of Minnesota>, <[ID] Q288345 [NAME] ogun Lincoln [DESC] battle of Lincoln, England in 1141 [TYPE] battle>, <[ID] Q10318429 [NAME] Lincoln Olivetti [DESC] Brazilian musician [TYPE] human>, <[ID] Q6780090 [NAME] Mary Lincoln [DESC] Aunt of Abraham Lincoln [TYPE] human>, <[ID] Q3475167 [NAME] Lincoln Acres [DESC] human settlement in California, United States of America [TYPE] unincorporated community in the United States>, <[ID] Q20984479 [NAME] Matt Lincoln [DESC] American novelist (1924-2010) [TYPE] human>, <[ID] Q64154871 [NAME] Lincoln Park [DESC] photograph in the National Gallery of Art (NGA 92938) [TYPE] photograph>, <[ID] Q59772270 [NAME] Mount Lincoln [DESC] Wikimedia list article [TYPE] Wikimedia set index article>, <[ID] Q1825693 [NAME] Lincoln Standard [DESC] None [TYPE] automobile model>, <[ID] Q31279584 [NAME] G. Lincoln [DESC] politician [TYPE] human>, <[ID] Q43285176 [NAME] Lincoln Theatre [DESC] former movie theater in Florence, South Carolina, United States [TYPE] movie theater>, <[ID] Q43019329 [NAME] Lincoln Theater [DESC] former movie theater in Kearny, New Jersey, United States [TYPE] movie theater>, <[ID] Q43102923 [NAME] M. Lincoln [DESC] researcher [TYPE] human>, <[ID] Q42536758 [NAME] Lincoln Theatre [DESC] former movie theater in Chicago, Illinois, United States [TYPE] movie theater>, <[ID] Q42541503 [NAME] Lincoln Theatre [DESC] movie theater in Lincoln, Illinois, United States [TYPE] movie theater>, <[ID] Q978435 [NAME] Lincoln Park [DESC] town in Denton County, Texas, United States [TYPE] town in the United States>, <[ID] Q49304115 [NAME] Lincoln Pond [DESC] lake of the United States of America [TYPE] lake>, <[ID] Q96576552 [NAME] Lincoln Rothschild [DESC] Lincoln Rothschild; b. Aug. 9, 1902, New York; d. Mar. 29, 1983, Dobbs Ferry, New York; studied at the Art Students League in New York; sculptor and painter [TYPE] human>, <[ID] Q87752773 [NAME] Lincoln St [DESC] street in Cambridge, Massachusetts [TYPE] street>, <[ID] Q120835153 [NAME] F. Lincoln [DESC] 5 Jun 1723 - 29 Oct 1762 [TYPE] human>, <[ID] Q117596874 [NAME] Lincoln Cemetery [DESC] cemetery in Jackson County, Missouri, United States [TYPE] cemetery>, <[ID] Q117640221 [NAME] Lincoln Cemetery [DESC] cemetery in Tulsa County, Oklahoma, United States [TYPE] cemetery>, <[ID] Q122566324 [NAME] Lincoln Falls [DESC] hamlet in Sullivan County, Pennsylvania, United States [TYPE] human settlement>, <[ID] Q124638464 [NAME] Jennifer Lincoln [DESC] science administrator at NIOSH [TYPE] science administrator>, <[ID] Q120080 [NAME] Lincoln Parish [DESC] parish in Louisiana, United States [TYPE] parish of Louisiana>, <[ID] Q120480929 [NAME] Lincoln Landis [DESC] Indiana author 1922- [TYPE] writer>, <[ID] Q122595689 [NAME] Lincoln Green [DESC] hamlet in Dorchester County, South Carolina, United States [TYPE] human settlement>, <[ID] Q100885204 [NAME] Lincoln Minor [DESC] college basketball player (1988–1989) Kansas [TYPE] human>, <[ID] Q98924508 [NAME] Scott Lincoln [DESC] English shot putter [TYPE] human>, <[ID] Q100775736 [NAME] Lincoln Davis [DESC] college basketball player (2014–2017) Fairfield; Lamar [TYPE] human>, <[ID] Q103942322 [NAME] Kirstein, Lincoln [DESC] encyclopedia article [TYPE] encyclopedia article>, <[ID] Q100638577 [NAME] Lincoln Samuel [DESC] researcher [TYPE] human>, <[ID] Q100276554 [NAME] Lincoln Lynch [DESC] Jamaican-American civil rights activist and RAF veteran [TYPE] human>, <[ID] Q100955307 [NAME] Lincoln Wieseman [DESC] college basketball player (2020–2020) Milwaukee [TYPE] human>, <[ID] Q109018746 [NAME] E. Lincoln [DESC] American artist [TYPE] human>, <[ID] Q106715364 [NAME] Lincoln Street [DESC] street in Evanston, Illinois [TYPE] street>, <[ID] Q108629525 [NAME] Abraham Lincoln [DESC] statue in Rapid City, United States of America - James Michael Maher - 2009 [TYPE] sculpture>, <[ID] Q107576602 [NAME] T. Lincoln [DESC] (1652-1698) [TYPE] human>, <[ID] Q107576604 [NAME] Hannah Lincoln [DESC] (1696-1769) [TYPE] human>, <[ID] Q106837457 [NAME] Mary Lincoln [DESC] (1736-1773) [TYPE] human>, <[ID] Q112117105 [NAME] Gerald Lincoln [DESC] Librarian and researcher [TYPE] human>, <[ID] Q94540690 [NAME] Eugene Lincoln [DESC] Indiana author 1923- [TYPE] human>, <[ID] Q91438673 [NAME] Gerald Lincoln [DESC] researcher (ORCID 0000-0003-4131-2521) [TYPE] human>, <[ID] Q252248 [NAME] Lincoln Wray [DESC] American guitarist (1929–2005) [TYPE] guitarist>, <[ID] Q495899 [NAME] Lincoln Kūn [DESC] county in Oklahoma, United States [TYPE] county of Oklahoma>, <[ID] Q507757 [NAME] Lincoln County [DESC] county in North Carolina, United States [TYPE] county of North Carolina>, <[ID] Q34843302 [NAME] Lincoln Park [DESC] park in Cattaraugus County, New York, United States of America [TYPE] park>, <[ID] Q33273855 [NAME] Lincoln Lake [DESC] lake in Kent County, Michigan, USA [TYPE] lake>, <[ID] Q42305115 [NAME] Lincoln Theater [DESC] former movie theater in Lufkin, Texas, United States [TYPE] movie theater>, <[ID] Q42310756 [NAME] Lincoln Theater [DESC] former movie theater in Bessemer, Alabama, United States [TYPE] movie theater>, <[ID] Q42668804 [NAME] Lincoln Theatre [DESC] former movie theater in New Orleans, Louisiana, United States [TYPE] movie theater>, <[ID] Q42411364 [NAME] Lincoln Melcher [DESC] actor [TYPE] human>, <[ID] Q4669005 [NAME] Abraham Lincoln [DESC] statue at the Lincoln Memorial, Washington, D.C. [TYPE] statue>, <[ID] Q4357982 [NAME] Lincoln Alexander [DESC] Canadian politician (1922-2012) [TYPE] human>, <[ID] Q3525359 [NAME] Thomas Lincoln [DESC] father of Abraham LIncoln [TYPE] human>, <[ID] Q3448870 [NAME] Lincoln Sokağı [DESC] street in Paris, France [TYPE] street>, <[ID] Q5047688 [NAME] C. Lincoln [DESC] American actress (1903-1983) [TYPE] actor>, <[ID] Q5810391 [NAME] Wahlbezirk Lincoln [DESC] None [TYPE] electoral precinct>, <[ID] Q3495109 [NAME] Ysbryd Lincoln [DESC] ghost of U.S. president Abraham Lincoln [TYPE] ghost>, <[ID] Q20685113 [NAME] Lincoln Perera [DESC] None [TYPE] human>, <[ID] Q49044327 [NAME] Lincoln Butte [DESC] None [TYPE] >, <[ID] Q55154776 [NAME] Lincoln Tabor [DESC] British artist, born 1941 [TYPE] human>, <[ID] Q16229900 [NAME] Robert Lincoln [DESC] Wikimedia disambiguation page [TYPE] Wikimedia human name disambiguation page>, <[ID] Q27247214 [NAME] Lincoln Hotel [DESC] Historic building in San Diego, California, U.S. [TYPE] hotel building>, <[ID] Q27717131 [NAME] Lincoln Rev [DESC] journal [TYPE] scientific journal>, <[ID] Q44980711 [NAME] Lincoln Theatre [DESC] former movie theater in Lincoln Heights, Los Angeles, California, United States [TYPE] movie theater>, <[ID] Q50050475 [NAME] Lincoln Lee [DESC] New Zealand painter and writer [TYPE] human>, <[ID] Q49516990 [NAME] Lincoln Park [DESC] park in Sedgwick County, Kansas, United States of America [TYPE] park>, <[ID] Q49517022 [NAME] Lincoln Park [DESC] park in McLeod County, Minnesota, United States of America [TYPE] park>, <[ID] Q49517127 [NAME] Lincoln Park [DESC] park in Pierce County, Washington, United States of America [TYPE] park>, <[ID] Q49517143 [NAME] Lincoln Park [DESC] park in Kenosha County, Wisconsin, United States of America [TYPE] park>, <[ID] Q49517178 [NAME] Lincoln Statue [DESC] park in the United States of America [TYPE] park>, <[ID] Q49618401 [NAME] Lincoln Rocks [DESC] None [TYPE] bar>, <[ID] Q76277857 [NAME] Margaret Lincoln [DESC] (died 1992) [TYPE] human>, <[ID] Q59140596 [NAME] Lincoln Tracy [DESC] researcher ORCID ID = 0000-0002-9783-6415 [TYPE] human>, <[ID] Q108546576 [NAME] J. Lincoln [DESC] Boston publisher and bookseller [TYPE] human>, <[ID] Q112352094 [NAME] Lincoln Andrews [DESC] None [TYPE] human>, <[ID] Q119840506 [NAME] Mediaeval Lincoln [DESC] painting by Anna Katrina Zinkeisen (1901–1976), Usher Gallery [TYPE] painting>, <[ID] Q121734111 [NAME] Lincoln Highway [DESC] 2021 novel by Amor Towles [TYPE] literary work>, <[ID] Q116692726 [NAME] Lincoln School [DESC] Former segregated public school for African Americans, Paducah, Kentucky (1908–) [TYPE] state school>, <[ID] Q94363317 [NAME] Lincoln Cushing [DESC] None [TYPE] human>, <[ID] Q95883085 [NAME] Lincoln Bond [DESC] None [TYPE] human>, <[ID] Q117494574 [NAME] Lincoln Cemetery [DESC] cemetery in Clay County, Kansas, United States [TYPE] cemetery>, <[ID] Q115053694 [NAME] A. Lincoln [DESC] British actor [TYPE] human>, <[ID] Q117543245 [NAME] Lincoln Mezarlığı [DESC] cemetery in Kingfisher County, Oklahoma, United States [TYPE] cemetery>, <[ID] Q55667923 [NAME] Lincoln Times-News [DESC] newspaper published in Lincolnton [TYPE] newspaper>, <[ID] Q58637328 [NAME] Lincoln Larson [DESC] researcher ORCID ID = 0000-0001-9591-1269 [TYPE] human>, <[ID] Q100307033 [NAME] Lincoln Journal [DESC] newspaper published in Lincolnton, North Carolina [TYPE] newspaper>, <[ID] Q100945398 [NAME] Lincoln Walters [DESC] college basketball player (1995–1998) Chattanooga [TYPE] human>, <[ID] Q99677448 [NAME] Lincoln Cheib [DESC] None [TYPE] human>, <[ID] Q92956938 [NAME] Joy Lincoln [DESC] researcher (ORCID 0000-0003-1517-6888) [TYPE] human>, <[ID] Q92440461 [NAME] Lincoln Satterthwaite [DESC] researcher (ORCID 0000-0003-1094-1990) [TYPE] human>, <[ID] Q102190060 [NAME] Lincoln Polissar [DESC] Ph.D. Princeton University 1974 [TYPE] human>, <[ID] Q102167759 [NAME] Lincoln Turner [DESC] Ph.D. Purdue University 1957 [TYPE] human>, <[ID] Q101536231 [NAME] Hannah Lincoln [DESC] (1773-1828) [TYPE] human>, <[ID] Q102037958 [NAME] Lincoln Ford [DESC] professor emeritus of medicine [TYPE] human>, <[ID] Q100761365 [NAME] Lincoln Browder [DESC] college basketball player (1990–1991) Prairie View; Southern [TYPE] human>, <[ID] Q94507778 [NAME] Solomon Lincoln [DESC] American lawyer and politician (1804–1881) [TYPE] human>, <[ID] Q49330594 [NAME] Lincoln Woods [DESC] forest in Rhode island [TYPE] forest>, <[ID] Q49937552 [NAME] Lincoln Creek [DESC] natural watercourse in Wayne County, Kentucky, United States of America [TYPE] stream>, <[ID] Q49337839 [NAME] Lincoln Amphitheatre [DESC] None [TYPE] basin>, <[ID] Q49937732 [NAME] Lincoln Run [DESC] natural watercourse in Washington County, Kentucky, United States of America [TYPE] stream>, <[ID] Q49382982 [NAME] Lincoln Bay [DESC] bay in Alpena County, Michigan, United States of America [TYPE] bay>, <[ID] Q49934393 [NAME] Lincoln Canyon [DESC] None [TYPE] >, <[ID] Q75764010 [NAME] Bridget Lincoln [DESC] Peerage person ID=321856 [TYPE] human>, <[ID] Q75764039 [NAME] Richard Lincoln [DESC] (died 1619) [TYPE] human>, <[ID] Q24435672 [NAME] Escuela Lincoln [DESC] school and historic school building in Manchester, Iowa, USA [TYPE] school building>, <[ID] Q21451066 [NAME] Lincoln Michel [DESC] writer [TYPE] human>, <[ID] Q43258654 [NAME] Lincoln Theatre [DESC] former movie theater in Cumberland, Rhode Island, United States [TYPE] movie theater>, <[ID] Q20504914 [NAME] Abraham Lincoln [DESC] painting by George H. Story [TYPE] painting>, <[ID] Q49651831 [NAME] Lincoln Island [DESC] None [TYPE] >, <[ID] Q49516904 [NAME] Lincoln Park [DESC] park in Los Angeles County, California, United States of America; geonames ID = 5366464 [TYPE] park>, <[ID] Q49516923 [NAME] Lincoln Park [DESC] park in Tulare County, California, United States of America [TYPE] park>, <[ID] Q49516959 [NAME] Lincoln Park [DESC] park in Macon County, Illinois, United States of America [TYPE] park>, <[ID] Q49516962 [NAME] Lincoln Park [DESC] park in Massac County, Illinois, United States of America [TYPE] park>, <[ID] Q49516998 [NAME] Lincoln Park [DESC] park in Cumberland County, Maine, United States of America [TYPE] park>, <[ID] Q49517006 [NAME] Lincoln Park [DESC] park in Iron County, Michigan, United States of America [TYPE] park>, <[ID] Q49517047 [NAME] Lincoln Park [DESC] park in Cuyahoga County, Ohio, United States of America [TYPE] park>, <[ID] Q104785120 [NAME] H. Lincoln [DESC] None [TYPE] human>, <[ID] Q107619109 [NAME] Lincoln South [DESC] electoral district, Legislative Assembly, Province of Canada [TYPE] >, <[ID] Q94535432 [NAME] E. Lincoln [DESC] None [TYPE] human>, <[ID] Q1394456 [NAME] Lincoln Lewis [DESC] Australian actor [TYPE] actor>, <[ID] Q1631926 [NAME] Charley Lincoln [DESC] American country blues musician [TYPE] human>, <[ID] Q2123262 [NAME] Lincoln Park [DESC] large park along the lakefront of Chicago, Illinois' North Side [TYPE] park>, <[ID] Q1825699 [NAME] Lincoln Brewster [DESC] American musician [TYPE] human>, <[ID] Q1825821 [NAME] Lincoln Wolfenstein [DESC] American particle physicist (1923-2015) [TYPE] physicist>, <[ID] Q2738646 [NAME] Lincoln University [DESC] university in Lincolnshire, UK [TYPE] university>, <[ID] Q6780088 [NAME] Mary Lincoln [DESC] Wikimedia disambiguation page [TYPE] Wikimedia human name disambiguation page>, <[ID] Q101536226 [NAME] Mary Lincoln [DESC] None [TYPE] human>, <[ID] Q101536761 [NAME] Benjamin Lincoln [DESC] (1699-1771) [TYPE] human>, <[ID] Q95984732 [NAME] Lincoln Greenhill [DESC] radio astronomer [TYPE] human>, <[ID] Q100876542 [NAME] O. Lincoln [DESC] college basketball player (1997–1998) Missouri State [TYPE] human>, <[ID] Q108285017 [NAME] H. Lincoln [DESC] British Royal Navy officer, lieutenant in 1837 (1811-?) [TYPE] human>, <[ID] Q107106780 [NAME] P. Lincoln [DESC] Director General, Border Force, Home Office, since 2017 [TYPE] civil servant>, <[ID] Q4570781 [NAME] Zanîngeha Lincoln [DESC] university in Pennsylvania [TYPE] university>, <[ID] Q96804098 [NAME] Abraham Lincoln [DESC] photograph by William Marsh (MET, 2005.100.89) [TYPE] photograph>, <[ID] Q14705706 [NAME] Lincoln Park [DESC] neighborhood in Newark, New Jersey [TYPE] unincorporated community in the United States>, <[ID] Q42355122 [NAME] Lincoln Castle [DESC] scientific article published on January 2005 [TYPE] scholarly article>, <[ID] Q44884024 [NAME] Lincoln Theatre [DESC] former movie theater in Stockton, California, United States [TYPE] movie theater>, <[ID] Q49934546 [NAME] Lincoln Hollow [DESC] valley in Bennington County, Vermont, United States [TYPE] valley>, <[ID] Q49469404 [NAME] Lincoln Point [DESC] cliff  in Fremont County, Wyoming, United States of America [TYPE] cliff>, <[ID] Q49516902 [NAME] Lincoln Park [DESC] park in Los Angeles County, California, United States of America; geonames ID = 5366463 [TYPE] park>, <[ID] Q49517030 [NAME] Lincoln Park [DESC] park in Lewis and Clark County, Montana, United States of America [TYPE] park>, <[ID] Q49517098 [NAME] Lincoln Park [DESC] park in Bexar County, Texas, United States of America [TYPE] park>, <[ID] Q49517149 [NAME] Lincoln Park [DESC] park in Racine County, Wisconsin, United States of America [TYPE] park>, <[ID] Q49517160 [NAME] Lincoln Playground [DESC] park in District of Columbia, United States of America, United States of America [TYPE] park>, <[ID] Q47125364 [NAME] F. Lincoln [DESC] None [TYPE] human>, <[ID] Q49382988 [NAME] Lincoln Cove [DESC] bay in Washington County, Maine, United States of America [TYPE] bay>, <[ID] Q49426191 [NAME] Lincoln Claim [DESC] mine in Sierra County, New Mexico, United States of America [TYPE] mine>, <[ID] Q49426215 [NAME] Lincoln Mine [DESC] mine in Clear Creek County, Colorado, United States of America; geonames ID = 5428528 [TYPE] mine>, <[ID] Q1350150 [NAME] Peter Lincoln [DESC] English singer-songwriter and instrumentalist [TYPE] singer-songwriter>, <[ID] Q49426226 [NAME] Lincoln Mine [DESC] mine in Lincoln County, Nevada, United States of America [TYPE] mine>, <[ID] Q16093929 [NAME] M. Lincoln [DESC] Australian middle-distance runner [TYPE] human>, <[ID] Q16223751 [NAME] H. Lincoln [DESC] Canadian soccer player [TYPE] human>, <[ID] Q30812678 [NAME] Lincoln Quillian [DESC] American sociologist [TYPE] human>, <[ID] Q42941536 [NAME] Lincoln Theatre [DESC] former movie theater in Lincoln, Nebraska, United States [TYPE] movie theater>, <[ID] Q43023361 [NAME] Lincoln Theatre [DESC] former movie theater in Union City, New Jersey, United States [TYPE] movie theater>, <[ID] Q106697294 [NAME] Stephen Lincoln [DESC] politician in Massachusetts, US [TYPE] politician>, <[ID] Q107139875 [NAME] Lincoln Speedway [DESC] auto racing track in Pennsylvania [TYPE] motorsport racing track>, <[ID] Q105089960 [NAME] Alex Lincoln [DESC] ecologist [TYPE] human>, <[ID] Q96125010 [NAME] Lincoln Pratson [DESC] researcher [TYPE] human>, <[ID] Q100305622 [NAME] Alisa Lincoln [DESC] member or fellow of the New York Academy of Medicine [TYPE] human>, <[ID] Q100924387 [NAME] Lincoln Smith [DESC] college basketball player (2000–2004) Mississippi State [TYPE] human>, <[ID] Q102847118 [NAME] Sarah Lincoln [DESC] (1650-1738) [TYPE] human>, <[ID] Q19854934 [NAME] Lincoln Leong [DESC] Chief Executive Officer - MTR Corporation Limited [TYPE] human>, <[ID] Q15623454 [NAME] Lincoln Battalion [DESC] Battalion of volunteers from United States of America that served at the Spanish Civil War. [TYPE] battalion>, <[ID] Q18161054 [NAME] Lincoln UTC [DESC] college in Lincolnshire, UK [TYPE] school>, <[ID] Q21463773 [NAME] Lincoln Wallen [DESC] British-American computer scientist and CTO [TYPE] human>, <[ID] Q6550675 [NAME] Lincoln Giants [DESC] Negro League baseball team [TYPE] baseball team>, <[ID] Q6550819 [NAME] 1960 Lincoln [DESC] None [TYPE] automobile model>, <[ID] Q6551180 [NAME] Lincoln Williams [DESC] Australian volleyball player [TYPE] human>, <[ID] Q5635221 [NAME] Lincoln Prison [DESC] men's prison in Lincoln, Lincolnshire, England [TYPE] HM Prison>, <[ID] Q5471518 [NAME] Fort Lincoln [DESC] unincorporated community in Texas, USA [TYPE] unincorporated community in the United States>, <[ID] Q5507350 [NAME] Thomas Lincoln [DESC] younger brother of Abraham Lincoln [TYPE] human>, <[ID] Q3618594 [NAME] Bisdom Lincoln [DESC] lost diocese in England [TYPE] lost Roman Catholic diocese>, <[ID] Q124155996 [NAME] S. Lincoln [DESC] None [TYPE] human>, <[ID] Q121160044 [NAME] Lincoln Tyner [DESC] None [TYPE] human>, <[ID] Q379417 [NAME] Lincoln Ellsworth [DESC] American explorer [TYPE] explorer>, <[ID] Q125031845 [NAME] Cyclone Lincoln [DESC] Category 1 Australian region cyclone in 2024 [TYPE] category 1 tropical cyclone>, <[ID] Q376876 [NAME] Lincoln Kūn [DESC] county in Kansas, United States [TYPE] county of Kansas>, <[ID] Q486994 [NAME] Lincoln Kūn [DESC] county in Idaho, United States [TYPE] county of Idaho>, <[ID] Q490344 [NAME] Lincoln bölgesi [DESC] county in Montana, United States [TYPE] county of Montana>, <[ID] Q438544 [NAME] Evelyn Lincoln [DESC] Personal secretary to the US President (1909-1995) [TYPE] human>, <[ID] Q498066 [NAME] Lincoln County [DESC] county in Kentucky, United States [TYPE] county of Kentucky>, <[ID] Q819117 [NAME] Lincoln Highway [DESC] historic long-distance highway in the United States [TYPE] road>, <[ID] Q18276810 [NAME] E.K. Lincoln [DESC] American actor (1884-1958) [TYPE] human>, <[ID] Q19289210 [NAME] Lincoln Tate [DESC] American actor (1934-2001) [TYPE] human>, <[ID] Q20863305 [NAME] Abraham Lincoln [DESC] painting by Samuel Bell Waugh [TYPE] painting>, <[ID] Q110647656 [NAME] Lydia Lincoln [DESC] 30 Jan 1762 - [TYPE] human>, <[ID] Q97031279 [NAME] carrer Lincoln [DESC] None [TYPE] street>, <[ID] Q99518242 [NAME] J. Lincoln [DESC] None [TYPE] human>, <[ID] Q106889181 [NAME] C. Lincoln [DESC] politician in Massachusetts, US (1821-1902) [TYPE] politician>, <[ID] Q109791289 [NAME] Lincoln Fabricio [DESC] person identified in the Museu da Pessoa collection [TYPE] human>, <[ID] Q110888409 [NAME] Abe Lincoln [DESC] American Army general [TYPE] human>, <[ID] Q3564549 [NAME] W.J. Lincoln [DESC] Australian film director [TYPE] human>, <[ID] Q8014569 [NAME] William Lincoln [DESC] Wikimedia disambiguation page [TYPE] Wikimedia human name disambiguation page>, <[ID] Q2938745 [NAME] Frederick Lincoln [DESC] United States Navy admiral [TYPE] naval officer>, <[ID] Q3360031 [NAME] HMCS Lincoln [DESC] 1918 Wickes-class destroyer [TYPE] destroyer>, <[ID] Q2856092 [NAME] Illa Lincoln [DESC] island in Juneau, Alaska, USA [TYPE] island>, <[ID] Q1433838 [NAME] Lincoln Mark-serien [DESC] car model [TYPE] automobile model>, <[ID] Q1407097 [NAME] Lincoln L-Series [DESC] Lincoln's first model [TYPE] automobile model>, <[ID] Q983924 [NAME] Malcolm Lincoln [DESC] Estonian singer [TYPE] human>, <[ID] Q3832578 [NAME] Lincoln LaPaz [DESC] American astronomer [TYPE] astronomer>, <[ID] Q3846668 [NAME] Lincoln Broderick [DESC] American professional wrestler [TYPE] professional wrestler>, <[ID] Q6551004 [NAME] Lincoln School [DESC] building in Rock Island, Illinois [TYPE] school>, <[ID] Q6551031 [NAME] Lincoln Station [DESC] former CB&Q railway station in Lincoln, Nebraska, USA (1926–2012) [TYPE] railway station>, <[ID] Q6551035 [NAME] Lincoln Steen [DESC] Maritime born professional wrestler [TYPE] human>, <[ID] Q6551037 [NAME] Lincoln Stein [DESC] American scientist [TYPE] bioinformatician>, <[ID] Q5471519 [NAME] Fort Lincoln [DESC] historic fort in Kansas, USA [TYPE] fort>, <[ID] Q6550493 [NAME] Lincoln Barnett [DESC] Editor and author [TYPE] human>, <[ID] Q6550754 [NAME] Lincoln Holroyd [DESC] American conductor [TYPE] human>, <[ID] Q6550763 [NAME] Lincoln Hurring [DESC] New Zealand swimmer [TYPE] human>, <[ID] Q6550815 [NAME] Lincoln Lee [DESC] fictional character on the Fox television series Fringe [TYPE] character>, <[ID] Q6550842 [NAME] Lincoln McCarthy [DESC] Australian rules footballer [TYPE] human>, <[ID] Q6550852 [NAME] Lincoln Monument [DESC] sculpture by Leonard Crunelle [TYPE] sculpture>, <[ID] Q5181158 [NAME] Craig Lincoln [DESC] Olympic diver [TYPE] human>, <[ID] Q75764007 [NAME] E. Lincoln [DESC] (died 1638) [TYPE] human>, <[ID] Q75764043 [NAME] R. Lincoln [DESC] Peerage person ID=321869 [TYPE] human>, <[ID] Q75487511 [NAME] Lincoln Davis [DESC] (born 1955) [TYPE] human>, <[ID] Q59680095 [NAME] Lincoln Griswold [DESC] None [TYPE] >, <[ID] Q54874700 [NAME] W. Lincoln [DESC] American politician [TYPE] human>, <[ID] Q62627280 [NAME] M. Lincoln [DESC] UK author (?1888-1962) [TYPE] human>, <[ID] Q34913239 [NAME] Cancha Lincoln [DESC] park in Arecibo, Puerto Rico [TYPE] park>, <[ID] Q28457922 [NAME] Lincoln Heights [DESC] None [TYPE] >, <[ID] Q28406668 [NAME] Lincoln TMD [DESC] former railway maintenance depot in Lincoln, Lincolnshire [TYPE] traction maintenance depot>, <[ID] Q31649959 [NAME] Mount Lincoln [DESC] mountain in Oklahoma, United States of America [TYPE] mountain>, <[ID] Q52801819 [NAME] A. Lincoln [DESC] primary school in Cinisello Balsamo, Milan, Lombardy, Italy [TYPE] primary school>, <[ID] Q42589578 [NAME] Lincoln Theater [DESC] former movie theater in Petersburg, Indiana, United States [TYPE] movie theater>, <[ID] Q42658140 [NAME] Lincoln Theatre [DESC] former movie theater in Louisville, Kentucky, United States [TYPE] movie theater>, <[ID] Q43386264 [NAME] Lincoln Theater [DESC] former movie theater in Pittsburgh, Pennsylvania, United States [TYPE] movie theater>, <[ID] Q49469402 [NAME] Lincoln Bluff [DESC] cliff  in Lake County, California, United States of America [TYPE] cliff>, <[ID] Q49516838 [NAME] Lincoln Field [DESC] park in Richfield, Hennepin County, United States of America [TYPE] park>, <[ID] Q49516894 [NAME] Lincoln Park [DESC] park in Fresno County, California, United States of America; geonames ID = 5366462 [TYPE] park>, <[ID] Q49516982 [NAME] Lincoln Park [DESC] park in St. Joseph County, Indiana, United States of America [TYPE] park>, <[ID] Q49516985 [NAME] Lincoln Park [DESC] park in Crawford County, Kansas, United States of America [TYPE] park>, <[ID] Q49517010 [NAME] Lincoln Park [DESC] park in Ottawa County, Michigan, United States of America [TYPE] park>, <[ID] Q49517035 [NAME] Lincoln Park [DESC] park in Butler County, Nebraska, United States of America [TYPE] park>\n",
      "\n",
      "Classification Request:\n",
      " Study the table and the retrieved entities along with their types then associate the cell to the correct entity choosen between the list of retrieved entities.\n",
      "Please provide the response strictly in the format [[[choosen_entity_id]]]. Do not include any additional text or explanation.\n",
      "Example of your answer:[[[Q89029]]]\n",
      "\n",
      "Chosen Entity ID:\n",
      "\n"
     ]
    }
   ],
   "source": [
    "print(inputs['NQK7B1JD']['(1, 0)']['cea_prompt_desc'])\n"
   ]
  },
  {
   "cell_type": "code",
   "execution_count": 29,
   "metadata": {},
   "outputs": [],
   "source": [
    "outt = llm_22.invoke(export['9SKOZCJN']['(1, 0)']['cea_prompt_desc'])"
   ]
  },
  {
   "cell_type": "code",
   "execution_count": 30,
   "metadata": {},
   "outputs": [
    {
     "data": {
      "text/plain": [
       "AIMessage(content='[[[Q800974]]]', response_metadata={'token_usage': {'prompt_tokens': 36670, 'total_tokens': 36681, 'completion_tokens': 11}, 'model': 'open-mixtral-8x22b', 'finish_reason': 'stop'}, id='run-334479c5-7352-4c87-9936-17f23e2ff9a1-0')"
      ]
     },
     "execution_count": 30,
     "metadata": {},
     "output_type": "execute_result"
    }
   ],
   "source": [
    "outt"
   ]
  },
  {
   "cell_type": "code",
   "execution_count": 28,
   "metadata": {},
   "outputs": [
    {
     "name": "stdout",
     "output_type": "stream",
     "text": [
      "[[Q10868321]]\n",
      "{'id': 'Q10083274'}\n"
     ]
    }
   ],
   "source": [
    "print(results['9SKOZCJN']['(1, 0)']['output_desc'])\n",
    "print(results['9SKOZCJN']['(1, 0)']['output_nodesc'])"
   ]
  },
  {
   "cell_type": "code",
   "execution_count": 27,
   "metadata": {},
   "outputs": [
    {
     "data": {
      "text/html": [
       "<div>\n",
       "<style scoped>\n",
       "    .dataframe tbody tr th:only-of-type {\n",
       "        vertical-align: middle;\n",
       "    }\n",
       "\n",
       "    .dataframe tbody tr th {\n",
       "        vertical-align: top;\n",
       "    }\n",
       "\n",
       "    .dataframe thead th {\n",
       "        text-align: right;\n",
       "    }\n",
       "</style>\n",
       "<table border=\"1\" class=\"dataframe\">\n",
       "  <thead>\n",
       "    <tr style=\"text-align: right;\">\n",
       "      <th></th>\n",
       "      <th>0</th>\n",
       "      <th>1</th>\n",
       "      <th>2</th>\n",
       "      <th>3</th>\n",
       "    </tr>\n",
       "  </thead>\n",
       "  <tbody>\n",
       "    <tr>\n",
       "      <th>0</th>\n",
       "      <td>NQK7B1JD</td>\n",
       "      <td>1</td>\n",
       "      <td>0</td>\n",
       "      <td>http://www.wikidata.org/entity/Q7996268</td>\n",
       "    </tr>\n",
       "    <tr>\n",
       "      <th>1</th>\n",
       "      <td>NQK7B1JD</td>\n",
       "      <td>2</td>\n",
       "      <td>0</td>\n",
       "      <td>http://www.wikidata.org/entity/Q7996260</td>\n",
       "    </tr>\n",
       "    <tr>\n",
       "      <th>2</th>\n",
       "      <td>NQK7B1JD</td>\n",
       "      <td>3</td>\n",
       "      <td>0</td>\n",
       "      <td>http://www.wikidata.org/entity/Q7996231</td>\n",
       "    </tr>\n",
       "    <tr>\n",
       "      <th>3</th>\n",
       "      <td>IH9YIR7T</td>\n",
       "      <td>1</td>\n",
       "      <td>0</td>\n",
       "      <td>http://www.wikidata.org/entity/Q1760847</td>\n",
       "    </tr>\n",
       "    <tr>\n",
       "      <th>4</th>\n",
       "      <td>IH9YIR7T</td>\n",
       "      <td>2</td>\n",
       "      <td>0</td>\n",
       "      <td>http://www.wikidata.org/entity/Q1501976</td>\n",
       "    </tr>\n",
       "    <tr>\n",
       "      <th>5</th>\n",
       "      <td>IH9YIR7T</td>\n",
       "      <td>3</td>\n",
       "      <td>0</td>\n",
       "      <td>http://www.wikidata.org/entity/Q1319595</td>\n",
       "    </tr>\n",
       "    <tr>\n",
       "      <th>6</th>\n",
       "      <td>5NFRSNRM</td>\n",
       "      <td>1</td>\n",
       "      <td>0</td>\n",
       "      <td>http://www.wikidata.org/entity/Q6677505</td>\n",
       "    </tr>\n",
       "    <tr>\n",
       "      <th>7</th>\n",
       "      <td>5NFRSNRM</td>\n",
       "      <td>2</td>\n",
       "      <td>0</td>\n",
       "      <td>http://www.wikidata.org/entity/Q18216724</td>\n",
       "    </tr>\n",
       "    <tr>\n",
       "      <th>8</th>\n",
       "      <td>5NFRSNRM</td>\n",
       "      <td>3</td>\n",
       "      <td>0</td>\n",
       "      <td>http://www.wikidata.org/entity/Q4486711</td>\n",
       "    </tr>\n",
       "    <tr>\n",
       "      <th>9</th>\n",
       "      <td>9SKOZCJN</td>\n",
       "      <td>1</td>\n",
       "      <td>0</td>\n",
       "      <td>http://www.wikidata.org/entity/Q109803831</td>\n",
       "    </tr>\n",
       "    <tr>\n",
       "      <th>10</th>\n",
       "      <td>9SKOZCJN</td>\n",
       "      <td>2</td>\n",
       "      <td>0</td>\n",
       "      <td>http://www.wikidata.org/entity/Q106086519</td>\n",
       "    </tr>\n",
       "    <tr>\n",
       "      <th>11</th>\n",
       "      <td>9SKOZCJN</td>\n",
       "      <td>3</td>\n",
       "      <td>0</td>\n",
       "      <td>http://www.wikidata.org/entity/Q105635178</td>\n",
       "    </tr>\n",
       "    <tr>\n",
       "      <th>12</th>\n",
       "      <td>9SKOZCJN</td>\n",
       "      <td>4</td>\n",
       "      <td>0</td>\n",
       "      <td>http://www.wikidata.org/entity/Q87195419</td>\n",
       "    </tr>\n",
       "    <tr>\n",
       "      <th>13</th>\n",
       "      <td>9SKOZCJN</td>\n",
       "      <td>5</td>\n",
       "      <td>0</td>\n",
       "      <td>http://www.wikidata.org/entity/Q70585725</td>\n",
       "    </tr>\n",
       "    <tr>\n",
       "      <th>14</th>\n",
       "      <td>9SKOZCJN</td>\n",
       "      <td>6</td>\n",
       "      <td>0</td>\n",
       "      <td>http://www.wikidata.org/entity/Q53261512</td>\n",
       "    </tr>\n",
       "    <tr>\n",
       "      <th>15</th>\n",
       "      <td>9NYXE8JY</td>\n",
       "      <td>1</td>\n",
       "      <td>0</td>\n",
       "      <td>http://www.wikidata.org/entity/Q5581472</td>\n",
       "    </tr>\n",
       "    <tr>\n",
       "      <th>16</th>\n",
       "      <td>9NYXE8JY</td>\n",
       "      <td>2</td>\n",
       "      <td>0</td>\n",
       "      <td>http://www.wikidata.org/entity/Q5563141</td>\n",
       "    </tr>\n",
       "    <tr>\n",
       "      <th>17</th>\n",
       "      <td>9NYXE8JY</td>\n",
       "      <td>3</td>\n",
       "      <td>0</td>\n",
       "      <td>http://www.wikidata.org/entity/Q5167942</td>\n",
       "    </tr>\n",
       "    <tr>\n",
       "      <th>18</th>\n",
       "      <td>9NYXE8JY</td>\n",
       "      <td>4</td>\n",
       "      <td>0</td>\n",
       "      <td>http://www.wikidata.org/entity/Q3564060</td>\n",
       "    </tr>\n",
       "    <tr>\n",
       "      <th>19</th>\n",
       "      <td>X1FK1EL9</td>\n",
       "      <td>1</td>\n",
       "      <td>0</td>\n",
       "      <td>http://www.wikidata.org/entity/Q108396699</td>\n",
       "    </tr>\n",
       "  </tbody>\n",
       "</table>\n",
       "</div>"
      ],
      "text/plain": [
       "           0  1  2                                          3\n",
       "0   NQK7B1JD  1  0    http://www.wikidata.org/entity/Q7996268\n",
       "1   NQK7B1JD  2  0    http://www.wikidata.org/entity/Q7996260\n",
       "2   NQK7B1JD  3  0    http://www.wikidata.org/entity/Q7996231\n",
       "3   IH9YIR7T  1  0    http://www.wikidata.org/entity/Q1760847\n",
       "4   IH9YIR7T  2  0    http://www.wikidata.org/entity/Q1501976\n",
       "5   IH9YIR7T  3  0    http://www.wikidata.org/entity/Q1319595\n",
       "6   5NFRSNRM  1  0    http://www.wikidata.org/entity/Q6677505\n",
       "7   5NFRSNRM  2  0   http://www.wikidata.org/entity/Q18216724\n",
       "8   5NFRSNRM  3  0    http://www.wikidata.org/entity/Q4486711\n",
       "9   9SKOZCJN  1  0  http://www.wikidata.org/entity/Q109803831\n",
       "10  9SKOZCJN  2  0  http://www.wikidata.org/entity/Q106086519\n",
       "11  9SKOZCJN  3  0  http://www.wikidata.org/entity/Q105635178\n",
       "12  9SKOZCJN  4  0   http://www.wikidata.org/entity/Q87195419\n",
       "13  9SKOZCJN  5  0   http://www.wikidata.org/entity/Q70585725\n",
       "14  9SKOZCJN  6  0   http://www.wikidata.org/entity/Q53261512\n",
       "15  9NYXE8JY  1  0    http://www.wikidata.org/entity/Q5581472\n",
       "16  9NYXE8JY  2  0    http://www.wikidata.org/entity/Q5563141\n",
       "17  9NYXE8JY  3  0    http://www.wikidata.org/entity/Q5167942\n",
       "18  9NYXE8JY  4  0    http://www.wikidata.org/entity/Q3564060\n",
       "19  X1FK1EL9  1  0  http://www.wikidata.org/entity/Q108396699"
      ]
     },
     "execution_count": 27,
     "metadata": {},
     "output_type": "execute_result"
    }
   ],
   "source": [
    "gt.head(20)"
   ]
  }
 ],
 "metadata": {
  "kernelspec": {
   "display_name": "Python 3.12.3 ('STI')",
   "language": "python",
   "name": "python3"
  },
  "language_info": {
   "codemirror_mode": {
    "name": "ipython",
    "version": 3
   },
   "file_extension": ".py",
   "mimetype": "text/x-python",
   "name": "python",
   "nbconvert_exporter": "python",
   "pygments_lexer": "ipython3",
   "version": "3.12.3"
  },
  "orig_nbformat": 4,
  "vscode": {
   "interpreter": {
    "hash": "2268df63e3314f5c0fa267e7a7d58ca881c28135e668c4afe664cdf6d7ddd66d"
   }
  }
 },
 "nbformat": 4,
 "nbformat_minor": 2
}
