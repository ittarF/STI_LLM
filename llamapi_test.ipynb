{
 "cells": [
  {
   "cell_type": "code",
   "execution_count": 4,
   "metadata": {},
   "outputs": [],
   "source": [
    "import requests\n",
    "import json\n",
    "import os \n",
    "import pandas as pd\n",
    "from dataClass import DataTable\n",
    "from main import list_files_in_folder\n",
    "from dotenv import load_dotenv\n",
    "from tqdm import tqdm\n",
    "load_dotenv()\n",
    "\n",
    "\n",
    "def LamAPI(cell_content):\n",
    "    \n",
    "    url = 'https://lamapi.hel.sintef.cloud/lookup/entity-retrieval'\n",
    "    params = {\n",
    "        'name': f'{cell_content}',\n",
    "        'token': os.getenv(\"LAMAPI_KEY\"),\n",
    "        'kg': 'wikidata',\n",
    "        'fuzzy': 'True'\n",
    "    }\n",
    "    headers = {'accept': 'application/json'}\n",
    "\n",
    "    response = requests.get(url, params=params, headers=headers)\n",
    "\n",
    "    if response.status_code == 200:\n",
    "        data = response.json()\n",
    "        # Process the JSON data here\n",
    "    else:\n",
    "        print(\"Error:\", response.status_code)\n",
    "    \n",
    "    return data"
   ]
  },
  {
   "cell_type": "code",
   "execution_count": 2,
   "metadata": {},
   "outputs": [],
   "source": [
    "gt_path = 'data/HardTablesR1/DataSets/HardTablesR1/Valid/gt/cea_gt.csv'\n",
    "tables_path = 'data/HardTablesR1/DataSets/HardTablesR1/Valid/tables'\n",
    "\n",
    "ground_truth = pd.read_csv(gt_path, header=None)\n",
    "tables = list_files_in_folder(tables_path)"
   ]
  },
  {
   "cell_type": "code",
   "execution_count": null,
   "metadata": {},
   "outputs": [],
   "source": [
    "results = {}\n",
    "for table_path in tqdm(tables):\n",
    "    t = DataTable(table_path)\n",
    "    gt = ground_truth[ground_truth[0]==t.name]\n",
    "    for i, row in gt.iterrows():\n",
    "        cell_content = t.data.iloc[row[1]-1, row[2]]\n",
    "        retrieved_list = LamAPI(cell_content)\n",
    "        id_to_remove = row[3].split('/')[-1]\n",
    "        ls = [d for d in retrieved_list if d.get('id') != id_to_remove]\n",
    "        results[t.name] = {f\"{(row[1], row[2])}\": {'cell': cell_content,\n",
    "                                              'retrieved_list': ls}}"
   ]
  }
 ],
 "metadata": {
  "kernelspec": {
   "display_name": "Python 3.12.3 ('STI')",
   "language": "python",
   "name": "python3"
  },
  "language_info": {
   "codemirror_mode": {
    "name": "ipython",
    "version": 3
   },
   "file_extension": ".py",
   "mimetype": "text/x-python",
   "name": "python",
   "nbconvert_exporter": "python",
   "pygments_lexer": "ipython3",
   "version": "3.12.3"
  },
  "orig_nbformat": 4,
  "vscode": {
   "interpreter": {
    "hash": "2268df63e3314f5c0fa267e7a7d58ca881c28135e668c4afe664cdf6d7ddd66d"
   }
  }
 },
 "nbformat": 4,
 "nbformat_minor": 2
}
