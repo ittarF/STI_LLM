{
 "cells": [
  {
   "cell_type": "code",
   "execution_count": 3,
   "metadata": {},
   "outputs": [],
   "source": [
    "import pandas as pd\n",
    "import os\n",
    "from main import list_files_in_folder\n",
    "from dotenv import load_dotenv\n",
    "from dataClass import DataTable\n",
    "from langchain_mistralai import ChatMistralAI\n",
    "import json\n",
    "from tqdm import tqdm\n",
    "from utils import get_table_str, candidates_as_str, build_prompt\n",
    "from prompts import generate_CEA_prompt_with_t_desc\n",
    "import time"
   ]
  },
  {
   "cell_type": "code",
   "execution_count": 4,
   "metadata": {},
   "outputs": [],
   "source": [
    "prompts = pd.read_json(path_or_buf='HT_Prompts_Valid.jsonl', lines=True)\n",
    "prompt = prompts.iloc[5]['prompt_desc']"
   ]
  },
  {
   "cell_type": "code",
   "execution_count": 12,
   "metadata": {},
   "outputs": [],
   "source": [
    "prompt_desc = prompts[prompts['table']=='DFRU6OJ0'].iloc[0]['prompt_desc']\n",
    "prompt_nodesc = prompts[prompts['table']=='DFRU6OJ0'].iloc[0]['prompt_nodesc']\n"
   ]
  },
  {
   "cell_type": "code",
   "execution_count": 13,
   "metadata": {},
   "outputs": [],
   "source": [
    "mistral_api_key = os.getenv(\"MISTRAL_API_KEY\")\n",
    "model_22 = \"open-mixtral-8x22b\"\n",
    "model_7 = \"open-mixtral-8x7b\"\n",
    "llm_22 = ChatMistralAI(model=model_22, temperature=0, api_key=mistral_api_key)\n",
    "llm_7 = ChatMistralAI(model=model_7, temperature=0, api_key=mistral_api_key)"
   ]
  },
  {
   "cell_type": "code",
   "execution_count": 14,
   "metadata": {},
   "outputs": [
    {
     "name": "stdout",
     "output_type": "stream",
     "text": [
      "LLM 7 Response (Prompt no desc): content=\"The correct referent entity for the entity mention 'Predlitz' is '<Predlitz [DESC] former municipality in Austria [TYPE] rural municipality of Austria>'.\" response_metadata={'token_usage': {'prompt_tokens': 1448, 'total_tokens': 1485, 'completion_tokens': 37}, 'model': 'open-mixtral-8x7b', 'finish_reason': 'stop'} id='run-38a96a76-bd79-412c-a721-d9e0a064e08e-0'\n",
      "LLM 7 Response (Prompt desc): content=\"The correct referent entity for the entity mention 'Predlitz' is '<Predlitz [DESC] former municipality in Austria [TYPE] rural municipality of Austria>'. The reason for this is that, according to the input, column 0 contains German place names, specifically the names of small towns or villages. 'Predlitz' appears to be a unique name within the column and starts with 'pred-', which suggests that it is a name of a small town or village in Germany or Austria. The referent entity candidate that matches this description is '<Predlitz [DESC] former municipality in Austria [TYPE] rural municipality of Austria>'.\" response_metadata={'token_usage': {'prompt_tokens': 1570, 'total_tokens': 1707, 'completion_tokens': 137}, 'model': 'open-mixtral-8x7b', 'finish_reason': 'stop'} id='run-28828093-0236-4487-9046-519c5080fc8c-0'\n",
      "LLM 22 Response (Prompt no desc): content=\"The correct referent entity for the entity mention 'Predlitz' is <Predlitz [DESC] former municipality in Austria [TYPE] rural municipality of Austria>.\" response_metadata={'token_usage': {'prompt_tokens': 1443, 'total_tokens': 1479, 'completion_tokens': 36}, 'model': 'open-mixtral-8x22b', 'finish_reason': 'stop'} id='run-83f4a591-1b80-4fb9-b51d-830c35d08baa-0'\n",
      "LLM 22 Response (Prompt desc): content=\"The correct referent entity for the entity mention 'Predlitz' is <Predlitz [DESC] former municipality in Austria [TYPE] rural municipality of Austria>.\" response_metadata={'token_usage': {'prompt_tokens': 1565, 'total_tokens': 1601, 'completion_tokens': 36}, 'model': 'open-mixtral-8x22b', 'finish_reason': 'stop'} id='run-8976d691-692a-4e1b-8d8e-14582f63f22d-0'\n"
     ]
    }
   ],
   "source": [
    "out_desc7 = llm_7.invoke(prompt_desc)\n",
    "out_nodesc7 = llm_7.invoke(prompt_nodesc)\n",
    "out_desc22 = llm_22.invoke(prompt_desc)\n",
    "out_nodesc22 = llm_22.invoke(prompt_nodesc)\n"
   ]
  },
  {
   "cell_type": "code",
   "execution_count": 15,
   "metadata": {},
   "outputs": [
    {
     "name": "stdout",
     "output_type": "stream",
     "text": [
      "LLM 7 Response (Prompt no desc): The correct referent entity for the entity mention 'Predlitz' is '<Predlitz [DESC] former municipality in Austria [TYPE] rural municipality of Austria>'.\n",
      "LLM 7 Response (Prompt desc): The correct referent entity for the entity mention 'Predlitz' is '<Predlitz [DESC] former municipality in Austria [TYPE] rural municipality of Austria>'. The reason for this is that, according to the input, column 0 contains German place names, specifically the names of small towns or villages. 'Predlitz' appears to be a unique name within the column and starts with 'pred-', which suggests that it is a name of a small town or village in Germany or Austria. The referent entity candidate that matches this description is '<Predlitz [DESC] former municipality in Austria [TYPE] rural municipality of Austria>'.\n",
      "LLM 22 Response (Prompt no desc): The correct referent entity for the entity mention 'Predlitz' is <Predlitz [DESC] former municipality in Austria [TYPE] rural municipality of Austria>.\n",
      "LLM 22 Response (Prompt desc): The correct referent entity for the entity mention 'Predlitz' is <Predlitz [DESC] former municipality in Austria [TYPE] rural municipality of Austria>.\n"
     ]
    }
   ],
   "source": [
    "print(f\"LLM 7 Response (Prompt no desc): {out_nodesc7.content}\")\n",
    "print(f\"LLM 7 Response (Prompt desc): {out_desc7.content}\")\n",
    "print(f\"LLM 22 Response (Prompt no desc): {out_nodesc22.content}\")\n",
    "print(f\"LLM 22 Response (Prompt desc): {out_desc22.content}\")"
   ]
  },
  {
   "cell_type": "code",
   "execution_count": 32,
   "metadata": {},
   "outputs": [],
   "source": [
    "from mistralai.client import MistralClient\n",
    "\n",
    "api_key = os.environ[\"MISTRAL_API_KEY\"]\n",
    "client = MistralClient(api_key=api_key)\n",
    "\n",
    "embeddings_batch_response = client.embeddings(\n",
    "      model=\"mistral-embed\",\n",
    "      input=[\"Embed this sentence.\", \"As well as this one.\"],\n",
    "  )"
   ]
  }
 ],
 "metadata": {
  "kernelspec": {
   "display_name": "Python 3.12.3 ('STI')",
   "language": "python",
   "name": "python3"
  },
  "language_info": {
   "codemirror_mode": {
    "name": "ipython",
    "version": 3
   },
   "file_extension": ".py",
   "mimetype": "text/x-python",
   "name": "python",
   "nbconvert_exporter": "python",
   "pygments_lexer": "ipython3",
   "version": "3.12.3"
  },
  "orig_nbformat": 4,
  "vscode": {
   "interpreter": {
    "hash": "2268df63e3314f5c0fa267e7a7d58ca881c28135e668c4afe664cdf6d7ddd66d"
   }
  }
 },
 "nbformat": 4,
 "nbformat_minor": 2
}
