{
 "cells": [
  {
   "cell_type": "code",
   "execution_count": 1,
   "metadata": {},
   "outputs": [
    {
     "data": {
      "text/plain": [
       "True"
      ]
     },
     "execution_count": 1,
     "metadata": {},
     "output_type": "execute_result"
    }
   ],
   "source": [
    "import requests\n",
    "import json\n",
    "import os \n",
    "import pandas as pd\n",
    "from dataClass import DataTable\n",
    "from main import list_files_in_folder\n",
    "from dotenv import load_dotenv\n",
    "from tqdm import tqdm\n",
    "import time\n",
    "load_dotenv()"
   ]
  },
  {
   "cell_type": "code",
   "execution_count": 12,
   "metadata": {},
   "outputs": [],
   "source": [
    "from prompts import generate_tableDesc_prompt, generate_CEA_prompt_with_t_desc, generate_CEA_prompt\n",
    "from langchain_mistralai import ChatMistralAI\n",
    "mistral_api_key = os.getenv(\"MISTRAL_API_KEY\")\n",
    "model_7 = \"open-mistral-nemo-2407\"\n",
    "llm_7 = ChatMistralAI(model=model_7, temperature=0, api_key=mistral_api_key)"
   ]
  },
  {
   "cell_type": "code",
   "execution_count": 7,
   "metadata": {},
   "outputs": [],
   "source": [
    "with open('results/outputsCEA.json') as f:\n",
    "    inputs = json.load(f)"
   ]
  },
  {
   "cell_type": "code",
   "execution_count": 8,
   "metadata": {},
   "outputs": [],
   "source": [
    "outputs = dict(inputs)"
   ]
  },
  {
   "cell_type": "code",
   "execution_count": 9,
   "metadata": {},
   "outputs": [
    {
     "name": "stderr",
     "output_type": "stream",
     "text": [
      " 50%|█████     | 101/200 [00:00<00:00, 25199.26it/s]\n"
     ]
    },
    {
     "ename": "KeyError",
     "evalue": "'output_desc'",
     "output_type": "error",
     "traceback": [
      "\u001b[0;31m---------------------------------------------------------------------------\u001b[0m",
      "\u001b[0;31mKeyError\u001b[0m                                  Traceback (most recent call last)",
      "Cell \u001b[0;32mIn[9], line 9\u001b[0m\n\u001b[1;32m      6\u001b[0m p_nodesc \u001b[38;5;241m=\u001b[39m v[\u001b[38;5;124m'\u001b[39m\u001b[38;5;124mcea_prompt_nodesc\u001b[39m\u001b[38;5;124m'\u001b[39m]\n\u001b[1;32m      7\u001b[0m \u001b[38;5;66;03m#out_desc = llm_7.invoke(p_desc)\u001b[39;00m\n\u001b[1;32m      8\u001b[0m \u001b[38;5;66;03m#out_nodesc = llm_7.invoke(p_nodesc)\u001b[39;00m\n\u001b[0;32m----> 9\u001b[0m \u001b[38;5;28;01mif\u001b[39;00m \u001b[38;5;28misinstance\u001b[39m(\u001b[43moutputs\u001b[49m\u001b[43m[\u001b[49m\u001b[43mt_name\u001b[49m\u001b[43m]\u001b[49m\u001b[43m[\u001b[49m\u001b[43mk\u001b[49m\u001b[43m]\u001b[49m\u001b[43m[\u001b[49m\u001b[38;5;124;43m'\u001b[39;49m\u001b[38;5;124;43moutput_desc\u001b[39;49m\u001b[38;5;124;43m'\u001b[39;49m\u001b[43m]\u001b[49m, AIMessage):\n\u001b[1;32m     10\u001b[0m     inputs[t_name][k][\u001b[38;5;124m'\u001b[39m\u001b[38;5;124moutput_desc\u001b[39m\u001b[38;5;124m'\u001b[39m] \u001b[38;5;241m=\u001b[39m outputs[t_name][k][\u001b[38;5;124m'\u001b[39m\u001b[38;5;124moutput_desc\u001b[39m\u001b[38;5;124m'\u001b[39m]\u001b[38;5;241m.\u001b[39mcontent\n\u001b[1;32m     11\u001b[0m \u001b[38;5;28;01melse\u001b[39;00m:\n",
      "\u001b[0;31mKeyError\u001b[0m: 'output_desc'"
     ]
    }
   ],
   "source": [
    "from langchain_core.messages.ai import AIMessage\n",
    "already_done = []\n",
    "done = []\n",
    "for t_name, t_dict in tqdm(outputs.items()):\n",
    "    for k, v in t_dict.items():\n",
    "        p_desc = v['cea_prompt_desc']\n",
    "        p_nodesc = v['cea_prompt_nodesc']\n",
    "        #out_desc = llm_7.invoke(p_desc)\n",
    "        #out_nodesc = llm_7.invoke(p_nodesc)\n",
    "        if isinstance(outputs[t_name][k]['output_desc'], AIMessage):\n",
    "            inputs[t_name][k]['output_desc'] = outputs[t_name][k]['output_desc'].content\n",
    "        else:\n",
    "            inputs[t_name][k]['output_desc'] = outputs[t_name][k]['output_desc']\n",
    "        if isinstance(outputs[t_name][k]['output_nodesc'], AIMessage):\n",
    "            inputs[t_name][k]['output_nodesc'] = outputs[t_name][k]['output_nodesc'].content\n",
    "        else:\n",
    "            inputs[t_name][k]['output_nodesc'] = outputs[t_name][k]['output_nodesc']\n",
    "\n",
    "    already_done.append(t_name)\n"
   ]
  },
  {
   "cell_type": "code",
   "execution_count": 57,
   "metadata": {},
   "outputs": [
    {
     "data": {
      "text/plain": [
       "168"
      ]
     },
     "execution_count": 57,
     "metadata": {},
     "output_type": "execute_result"
    }
   ],
   "source": []
  },
  {
   "cell_type": "code",
   "execution_count": 61,
   "metadata": {},
   "outputs": [
    {
     "name": "stderr",
     "output_type": "stream",
     "text": [
      "100%|██████████| 200/200 [09:57<00:00,  2.99s/it]\n"
     ]
    }
   ],
   "source": [
    "for t_name, t_dict in tqdm(inputs.items()):\n",
    "    if t_name not in done:\n",
    "        for k, v in t_dict.items():\n",
    "            p_desc = v['cea_prompt_desc']\n",
    "            p_nodesc = v['cea_prompt_nodesc']\n",
    "            out_desc = llm_7.invoke(p_desc)\n",
    "            out_nodesc = llm_7.invoke(p_nodesc)\n",
    "            outputs[t_name][k]['output_desc'] = out_desc.content\n",
    "            outputs[t_name][k]['output_nodesc'] = out_nodesc.content\n",
    "            time.sleep(1)"
   ]
  },
  {
   "cell_type": "code",
   "execution_count": 58,
   "metadata": {},
   "outputs": [
    {
     "name": "stderr",
     "output_type": "stream",
     "text": [
      " 89%|████████▉ | 178/200 [00:00<00:00, 5683.12it/s]\n"
     ]
    },
    {
     "ename": "KeyError",
     "evalue": "'output_desc'",
     "output_type": "error",
     "traceback": [
      "\u001b[0;31m---------------------------------------------------------------------------\u001b[0m",
      "\u001b[0;31mKeyError\u001b[0m                                  Traceback (most recent call last)",
      "Cell \u001b[0;32mIn[58], line 10\u001b[0m\n\u001b[1;32m      7\u001b[0m p_nodesc \u001b[38;5;241m=\u001b[39m v[\u001b[38;5;124m'\u001b[39m\u001b[38;5;124mcea_prompt_nodesc\u001b[39m\u001b[38;5;124m'\u001b[39m]\n\u001b[1;32m      8\u001b[0m \u001b[38;5;66;03m#out_desc = llm_7.invoke(p_desc)\u001b[39;00m\n\u001b[1;32m      9\u001b[0m \u001b[38;5;66;03m#out_nodesc = llm_7.invoke(p_nodesc)\u001b[39;00m\n\u001b[0;32m---> 10\u001b[0m \u001b[38;5;28;01mif\u001b[39;00m \u001b[38;5;28misinstance\u001b[39m(\u001b[43moutputs\u001b[49m\u001b[43m[\u001b[49m\u001b[43mt_name\u001b[49m\u001b[43m]\u001b[49m\u001b[43m[\u001b[49m\u001b[43mk\u001b[49m\u001b[43m]\u001b[49m\u001b[43m[\u001b[49m\u001b[38;5;124;43m'\u001b[39;49m\u001b[38;5;124;43moutput_desc\u001b[39;49m\u001b[38;5;124;43m'\u001b[39;49m\u001b[43m]\u001b[49m, AIMessage):\n\u001b[1;32m     11\u001b[0m     inputs[t_name][k][\u001b[38;5;124m'\u001b[39m\u001b[38;5;124moutput_desc\u001b[39m\u001b[38;5;124m'\u001b[39m] \u001b[38;5;241m=\u001b[39m outputs[t_name][k][\u001b[38;5;124m'\u001b[39m\u001b[38;5;124moutput_desc\u001b[39m\u001b[38;5;124m'\u001b[39m]\u001b[38;5;241m.\u001b[39mcontent\n\u001b[1;32m     12\u001b[0m \u001b[38;5;28;01melse\u001b[39;00m:\n",
      "\u001b[0;31mKeyError\u001b[0m: 'output_desc'"
     ]
    }
   ],
   "source": [
    "from langchain_core.messages.ai import AIMessage\n",
    "\n",
    "for t_name, t_dict in tqdm(outputs.items()):\n",
    "    if t_name not in done:\n",
    "        for k, v in t_dict.items():\n",
    "            p_desc = v['cea_prompt_desc']\n",
    "            p_nodesc = v['cea_prompt_nodesc']\n",
    "            #out_desc = llm_7.invoke(p_desc)\n",
    "            #out_nodesc = llm_7.invoke(p_nodesc)\n",
    "            if isinstance(outputs[t_name][k]['output_desc'], AIMessage):\n",
    "                inputs[t_name][k]['output_desc'] = outputs[t_name][k]['output_desc'].content\n",
    "            else:\n",
    "                inputs[t_name][k]['output_desc'] = outputs[t_name][k]['output_desc']\n",
    "            if isinstance(outputs[t_name][k]['output_nodesc'], AIMessage):\n",
    "                inputs[t_name][k]['output_nodesc'] = outputs[t_name][k]['output_nodesc'].content\n",
    "            else:\n",
    "                inputs[t_name][k]['output_nodesc'] = outputs[t_name][k]['output_nodesc']\n",
    "\n",
    "    done.append(t_name)"
   ]
  },
  {
   "cell_type": "code",
   "execution_count": 60,
   "metadata": {},
   "outputs": [],
   "source": [
    "done.append(t_name)"
   ]
  },
  {
   "cell_type": "code",
   "execution_count": 62,
   "metadata": {},
   "outputs": [],
   "source": [
    "with open('results/outputsCEA3.json', 'w') as f:\n",
    "    json.dump(outputs, f)"
   ]
  }
 ],
 "metadata": {
  "kernelspec": {
   "display_name": "Python 3.12.3 ('STI')",
   "language": "python",
   "name": "python3"
  },
  "language_info": {
   "codemirror_mode": {
    "name": "ipython",
    "version": 3
   },
   "file_extension": ".py",
   "mimetype": "text/x-python",
   "name": "python",
   "nbconvert_exporter": "python",
   "pygments_lexer": "ipython3",
   "version": "3.12.3"
  },
  "orig_nbformat": 4,
  "vscode": {
   "interpreter": {
    "hash": "2268df63e3314f5c0fa267e7a7d58ca881c28135e668c4afe664cdf6d7ddd66d"
   }
  }
 },
 "nbformat": 4,
 "nbformat_minor": 2
}
