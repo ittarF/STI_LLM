{
 "cells": [
  {
   "cell_type": "markdown",
   "metadata": {},
   "source": [
    "## imports"
   ]
  },
  {
   "cell_type": "code",
   "execution_count": 6,
   "metadata": {},
   "outputs": [],
   "source": [
    "import requests\n",
    "import os\n",
    "from main import list_files_in_folder\n",
    "from dotenv import load_dotenv\n",
    "import json\n",
    "import pandas as pd\n",
    "load_dotenv()\n",
    "deepinfra_api_key = os.getenv(\"DEEPINFRA_KEY\")"
   ]
  },
  {
   "cell_type": "code",
   "execution_count": 3,
   "metadata": {},
   "outputs": [
    {
     "name": "stdout",
     "output_type": "stream",
     "text": [
      "Hello! It's nice to meet you. Is there something I can help you with or would you like to chat?\n"
     ]
    }
   ],
   "source": [
    "\n",
    "def get_chat_response(prompt, api_key=deepinfra_api_key):\n",
    "    url = \"https://api.deepinfra.com/v1/openai/chat/completions\"\n",
    "    headers = {\n",
    "        \"Content-Type\": \"application/json\",\n",
    "        \"Authorization\": f\"Bearer {api_key}\"\n",
    "    }\n",
    "    data = {\n",
    "        \"model\": \"meta-llama/Meta-Llama-3.1-70B-Instruct\",\n",
    "        \"messages\": [\n",
    "            {\n",
    "                \"role\": \"user\",\n",
    "                \"content\": prompt\n",
    "            }\n",
    "        ]\n",
    "    }\n",
    "    \n",
    "    response = requests.post(url, headers=headers, json=data)\n",
    "    \n",
    "    if response.status_code == 200:\n",
    "        response_json = response.json()\n",
    "        return response_json[\"choices\"][0][\"message\"][\"content\"]\n",
    "    else:\n",
    "        return f\"Error: {response.status_code} - {response.text}\"\n",
    "\n",
    "# Example usage\n",
    "prompt = \"Hello!\"\n",
    "response = get_chat_response(prompt)\n",
    "print(response)\n"
   ]
  },
  {
   "cell_type": "markdown",
   "metadata": {},
   "source": [
    "## Load Data"
   ]
  },
  {
   "cell_type": "code",
   "execution_count": 17,
   "metadata": {},
   "outputs": [],
   "source": [
    "with open('nogit/prompts_cea_HTV_200_80perc_nofuzzy.json') as f:\n",
    "    inputs = json.load(f)\n",
    "\n",
    "gt_path = 'data/HardTablesR1/DataSets/HardTablesR1/Valid/gt/cea_gt.csv'\n",
    "\n",
    "gt = pd.read_csv(gt_path, header=None)"
   ]
  },
  {
   "cell_type": "code",
   "execution_count": 20,
   "metadata": {},
   "outputs": [],
   "source": [
    "p_desc = inputs['ZRWO683W']['(1, 0)']['cea_prompt_desc']\n",
    "p_nodesc = inputs['ZRWO683W']['(1, 0)']['cea_prompt_nodesc']"
   ]
  },
  {
   "cell_type": "code",
   "execution_count": 23,
   "metadata": {},
   "outputs": [],
   "source": [
    "with open('results/outputsCEA3.json') as f:\n",
    "    outs = json.load(f)"
   ]
  },
  {
   "cell_type": "markdown",
   "metadata": {},
   "source": [
    "## Inference\n"
   ]
  },
  {
   "cell_type": "code",
   "execution_count": 21,
   "metadata": {},
   "outputs": [],
   "source": [
    "out_desc = get_chat_response(p_desc)"
   ]
  },
  {
   "cell_type": "code",
   "execution_count": 29,
   "metadata": {},
   "outputs": [
    {
     "name": "stdout",
     "output_type": "stream",
     "text": [
      "[[Q52820308]]\n",
      "[[[Q17321167]]]\n",
      "{'id': 'Q17321158'}\n"
     ]
    },
    {
     "data": {
      "text/plain": [
       "dict_keys(['cell', 'table_desc', 'cea_prompt_desc', 'cea_prompt_nodesc', 'output_desc', 'output_nodesc'])"
      ]
     },
     "execution_count": 29,
     "metadata": {},
     "output_type": "execute_result"
    }
   ],
   "source": [
    "print(out_desc)\n",
    "print(outs['ZRWO683W']['(1, 0)']['output_desc'])\n",
    "print(outs['ZRWO683W']['(1, 0)']['output_nodesc'])\n",
    "outs['ZRWO683W']['(1, 0)'].keys()\n"
   ]
  },
  {
   "cell_type": "code",
   "execution_count": 41,
   "metadata": {},
   "outputs": [],
   "source": [
    "tot = 0\n",
    "for k, v in inputs.items():\n",
    "    tot += len(v)  \n"
   ]
  },
  {
   "cell_type": "code",
   "execution_count": 42,
   "metadata": {},
   "outputs": [],
   "source": [
    "outputs = inputs.copy()"
   ]
  },
  {
   "cell_type": "code",
   "execution_count": 43,
   "metadata": {},
   "outputs": [
    {
     "name": "stderr",
     "output_type": "stream",
     "text": [
      "100%|██████████| 200/200 [3:46:42<00:00, 68.01s/it]   \n"
     ]
    }
   ],
   "source": [
    "from tqdm import tqdm\n",
    "for t_name, t_dict in tqdm(inputs.items()):\n",
    "    for k, v in t_dict.items():\n",
    "        p_desc = v['cea_prompt_desc']\n",
    "        p_nodesc = v['cea_prompt_nodesc']\n",
    "        out_desc = get_chat_response(p_desc)\n",
    "        out_nodesc = get_chat_response(p_nodesc)\n",
    "        outputs[t_name][k]['output_desc'] = out_desc\n",
    "        outputs[t_name][k]['output_nodesc'] = out_nodesc"
   ]
  },
  {
   "cell_type": "code",
   "execution_count": 44,
   "metadata": {},
   "outputs": [],
   "source": [
    "with open('results/outputsCEA_LLAMA3.json', 'w') as f:\n",
    "    json.dump(outputs, f)"
   ]
  }
 ],
 "metadata": {
  "kernelspec": {
   "display_name": "Python 3.12.3 ('STI')",
   "language": "python",
   "name": "python3"
  },
  "language_info": {
   "codemirror_mode": {
    "name": "ipython",
    "version": 3
   },
   "file_extension": ".py",
   "mimetype": "text/x-python",
   "name": "python",
   "nbconvert_exporter": "python",
   "pygments_lexer": "ipython3",
   "version": "3.12.3"
  },
  "orig_nbformat": 4,
  "vscode": {
   "interpreter": {
    "hash": "2268df63e3314f5c0fa267e7a7d58ca881c28135e668c4afe664cdf6d7ddd66d"
   }
  }
 },
 "nbformat": 4,
 "nbformat_minor": 2
}
